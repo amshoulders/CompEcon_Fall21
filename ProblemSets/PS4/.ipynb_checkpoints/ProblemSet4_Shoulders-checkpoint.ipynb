{
 "cells": [
  {
   "cell_type": "markdown",
   "metadata": {},
   "source": [
    "# Problem Set 4 - Maximum Likelihood Estimator"
   ]
  },
  {
   "cell_type": "markdown",
   "metadata": {},
   "source": [
    "### Importing packages, reading in data, cleaning data"
   ]
  },
  {
   "cell_type": "code",
   "execution_count": 1,
   "metadata": {},
   "outputs": [],
   "source": [
    "import numpy as np\n",
    "import scipy.optimize as opt\n",
    "import scipy.stats as stats\n",
    "import pandas as pd\n",
    "import statsmodels.api as sm\n",
    "from statsmodels.formula.api import ols\n",
    "from statsmodels.iolib.summary2 import summary_col"
   ]
  },
  {
   "cell_type": "code",
   "execution_count": 2,
   "metadata": {},
   "outputs": [],
   "source": [
    "df = pd.read_stata('PS4_data.dta')"
   ]
  },
  {
   "cell_type": "code",
   "execution_count": 3,
   "metadata": {},
   "outputs": [
    {
     "data": {
      "text/html": [
       "<div>\n",
       "<style scoped>\n",
       "    .dataframe tbody tr th:only-of-type {\n",
       "        vertical-align: middle;\n",
       "    }\n",
       "\n",
       "    .dataframe tbody tr th {\n",
       "        vertical-align: top;\n",
       "    }\n",
       "\n",
       "    .dataframe thead th {\n",
       "        text-align: right;\n",
       "    }\n",
       "</style>\n",
       "<table border=\"1\" class=\"dataframe\">\n",
       "  <thead>\n",
       "    <tr style=\"text-align: right;\">\n",
       "      <th></th>\n",
       "      <th>id68</th>\n",
       "      <th>year</th>\n",
       "      <th>intid</th>\n",
       "      <th>relhh</th>\n",
       "      <th>hannhrs</th>\n",
       "      <th>wannhrs</th>\n",
       "      <th>hlabinc</th>\n",
       "      <th>wlabinc</th>\n",
       "      <th>nochild</th>\n",
       "      <th>wrace</th>\n",
       "      <th>...</th>\n",
       "      <th>redpregovinc</th>\n",
       "      <th>hsex</th>\n",
       "      <th>wsex</th>\n",
       "      <th>age</th>\n",
       "      <th>wage</th>\n",
       "      <th>hpersno</th>\n",
       "      <th>wpersno</th>\n",
       "      <th>hyrsed</th>\n",
       "      <th>wyrsed</th>\n",
       "      <th>pce</th>\n",
       "    </tr>\n",
       "  </thead>\n",
       "  <tbody>\n",
       "    <tr>\n",
       "      <th>0</th>\n",
       "      <td>1</td>\n",
       "      <td>1967</td>\n",
       "      <td>1</td>\n",
       "      <td>Head</td>\n",
       "      <td>1200.0</td>\n",
       "      <td>2000.0</td>\n",
       "      <td>NaN</td>\n",
       "      <td>NaN</td>\n",
       "      <td>0</td>\n",
       "      <td>NaN</td>\n",
       "      <td>...</td>\n",
       "      <td>5614.0</td>\n",
       "      <td>1.0</td>\n",
       "      <td>2.0</td>\n",
       "      <td>52.0</td>\n",
       "      <td>46.0</td>\n",
       "      <td>1.0</td>\n",
       "      <td>2.0</td>\n",
       "      <td>8.0</td>\n",
       "      <td>8.0</td>\n",
       "      <td>0.0</td>\n",
       "    </tr>\n",
       "    <tr>\n",
       "      <th>1</th>\n",
       "      <td>2</td>\n",
       "      <td>1967</td>\n",
       "      <td>2</td>\n",
       "      <td>Head</td>\n",
       "      <td>0.0</td>\n",
       "      <td>0.0</td>\n",
       "      <td>NaN</td>\n",
       "      <td>NaN</td>\n",
       "      <td>0</td>\n",
       "      <td>NaN</td>\n",
       "      <td>...</td>\n",
       "      <td>0.0</td>\n",
       "      <td>1.0</td>\n",
       "      <td>2.0</td>\n",
       "      <td>56.0</td>\n",
       "      <td>57.0</td>\n",
       "      <td>1.0</td>\n",
       "      <td>2.0</td>\n",
       "      <td>3.0</td>\n",
       "      <td>3.0</td>\n",
       "      <td>0.0</td>\n",
       "    </tr>\n",
       "    <tr>\n",
       "      <th>2</th>\n",
       "      <td>3</td>\n",
       "      <td>1967</td>\n",
       "      <td>3</td>\n",
       "      <td>Head</td>\n",
       "      <td>0.0</td>\n",
       "      <td>0.0</td>\n",
       "      <td>NaN</td>\n",
       "      <td>NaN</td>\n",
       "      <td>0</td>\n",
       "      <td>NaN</td>\n",
       "      <td>...</td>\n",
       "      <td>0.0</td>\n",
       "      <td>1.0</td>\n",
       "      <td>2.0</td>\n",
       "      <td>77.0</td>\n",
       "      <td>64.0</td>\n",
       "      <td>1.0</td>\n",
       "      <td>2.0</td>\n",
       "      <td>NaN</td>\n",
       "      <td>3.0</td>\n",
       "      <td>0.0</td>\n",
       "    </tr>\n",
       "    <tr>\n",
       "      <th>3</th>\n",
       "      <td>4</td>\n",
       "      <td>1967</td>\n",
       "      <td>4</td>\n",
       "      <td>Head</td>\n",
       "      <td>1560.0</td>\n",
       "      <td>0.0</td>\n",
       "      <td>NaN</td>\n",
       "      <td>NaN</td>\n",
       "      <td>6</td>\n",
       "      <td>1.0</td>\n",
       "      <td>...</td>\n",
       "      <td>3280.0</td>\n",
       "      <td>1.0</td>\n",
       "      <td>2.0</td>\n",
       "      <td>45.0</td>\n",
       "      <td>44.0</td>\n",
       "      <td>1.0</td>\n",
       "      <td>2.0</td>\n",
       "      <td>8.0</td>\n",
       "      <td>5.0</td>\n",
       "      <td>0.0</td>\n",
       "    </tr>\n",
       "    <tr>\n",
       "      <th>4</th>\n",
       "      <td>5</td>\n",
       "      <td>1967</td>\n",
       "      <td>5</td>\n",
       "      <td>Head</td>\n",
       "      <td>2500.0</td>\n",
       "      <td>2000.0</td>\n",
       "      <td>NaN</td>\n",
       "      <td>NaN</td>\n",
       "      <td>3</td>\n",
       "      <td>1.0</td>\n",
       "      <td>...</td>\n",
       "      <td>7900.0</td>\n",
       "      <td>1.0</td>\n",
       "      <td>2.0</td>\n",
       "      <td>24.0</td>\n",
       "      <td>22.0</td>\n",
       "      <td>1.0</td>\n",
       "      <td>2.0</td>\n",
       "      <td>10.0</td>\n",
       "      <td>9.0</td>\n",
       "      <td>0.0</td>\n",
       "    </tr>\n",
       "  </tbody>\n",
       "</table>\n",
       "<p>5 rows × 52 columns</p>\n",
       "</div>"
      ],
      "text/plain": [
       "   id68  year  intid relhh  hannhrs  wannhrs  hlabinc  wlabinc  nochild  \\\n",
       "0     1  1967      1  Head   1200.0   2000.0      NaN      NaN        0   \n",
       "1     2  1967      2  Head      0.0      0.0      NaN      NaN        0   \n",
       "2     3  1967      3  Head      0.0      0.0      NaN      NaN        0   \n",
       "3     4  1967      4  Head   1560.0      0.0      NaN      NaN        6   \n",
       "4     5  1967      5  Head   2500.0   2000.0      NaN      NaN        3   \n",
       "\n",
       "   wrace  ...  redpregovinc  hsex  wsex   age  wage  hpersno  wpersno  hyrsed  \\\n",
       "0    NaN  ...        5614.0   1.0   2.0  52.0  46.0      1.0      2.0     8.0   \n",
       "1    NaN  ...           0.0   1.0   2.0  56.0  57.0      1.0      2.0     3.0   \n",
       "2    NaN  ...           0.0   1.0   2.0  77.0  64.0      1.0      2.0     NaN   \n",
       "3    1.0  ...        3280.0   1.0   2.0  45.0  44.0      1.0      2.0     8.0   \n",
       "4    1.0  ...        7900.0   1.0   2.0  24.0  22.0      1.0      2.0    10.0   \n",
       "\n",
       "   wyrsed  pce  \n",
       "0     8.0  0.0  \n",
       "1     3.0  0.0  \n",
       "2     3.0  0.0  \n",
       "3     5.0  0.0  \n",
       "4     9.0  0.0  \n",
       "\n",
       "[5 rows x 52 columns]"
      ]
     },
     "execution_count": 3,
     "metadata": {},
     "output_type": "execute_result"
    }
   ],
   "source": [
    "df.head()"
   ]
  },
  {
   "cell_type": "code",
   "execution_count": 4,
   "metadata": {},
   "outputs": [],
   "source": [
    "# make hourly wage variable\n",
    "df['hourwage'] = df['hlabinc']/df['hannhrs']"
   ]
  },
  {
   "cell_type": "code",
   "execution_count": 5,
   "metadata": {},
   "outputs": [],
   "source": [
    "# make race dummies\n",
    "df['white'] = (df['hrace']==1).astype(int)\n",
    "df['black'] = (df['hrace'] == 2).astype(int)\n",
    "df['hispanic'] = (df['hrace'] == 5).astype(int)\n",
    "other_race = [3, 4, 6, 7]\n",
    "df['other_race'] = (df['hrace'].isin(other_race)).astype(int)\n",
    "\n",
    "# doing log annual wage instead of log hourly wage based on wording of instructions\n",
    "df['lnwage'] = np.log(df['hlabinc'])\n",
    "\n",
    "# make age squared and constant\n",
    "df['age2'] = (df['age']*df['age'])\n",
    "df['const'] = 1"
   ]
  },
  {
   "cell_type": "code",
   "execution_count": 6,
   "metadata": {},
   "outputs": [],
   "source": [
    "# drop missing values\n",
    "df = df.loc[df['lnwage'].isna() != True]\n",
    "df = df.loc[df['hlabinc'].isna() != True]\n",
    "df = df.loc[df['hannhrs'].isna() != True]\n",
    "df = df.loc[df['hsex'].isna() != True]\n",
    "df = df.loc[df['hrace'].isna() != True]\n",
    "df = df.loc[df['hyrsed'].isna() != True]"
   ]
  },
  {
   "cell_type": "code",
   "execution_count": 7,
   "metadata": {},
   "outputs": [],
   "source": [
    "# filter to just males between ages 25-60 making more than $7/hr\n",
    "df = df.loc[(df['hsex'] == 1) & \n",
    "            (df['age'] >= 25) & \n",
    "            (df['age'] <= 60) & \n",
    "            (df['hourwage'] > 7)]"
   ]
  },
  {
   "cell_type": "code",
   "execution_count": 8,
   "metadata": {},
   "outputs": [
    {
     "name": "stdout",
     "output_type": "stream",
     "text": [
      "0\n"
     ]
    }
   ],
   "source": [
    "print(sum(df.hispanic))\n",
    "# no hispanic observations so remove hispanic from model later"
   ]
  },
  {
   "cell_type": "code",
   "execution_count": 9,
   "metadata": {},
   "outputs": [],
   "source": [
    "# make df for each year of interest\n",
    "df1971 = df.loc[df['year'] == 1971]\n",
    "df1980 = df.loc[df['year'] == 1980]\n",
    "df1990 = df.loc[df['year'] == 1990]\n",
    "df2000 = df.loc[df['year'] == 2000]"
   ]
  },
  {
   "cell_type": "markdown",
   "metadata": {},
   "source": [
    "### OLS Regression for Baseline Estimates"
   ]
  },
  {
   "cell_type": "code",
   "execution_count": 10,
   "metadata": {},
   "outputs": [],
   "source": [
    "# preparing/simplifying variables for OLS regression\n",
    "Y1971 = df1971['lnwage']\n",
    "X1971 = df1971[['const', 'hyrsed', 'age', 'age2', 'black', 'other_race']]\n",
    "\n",
    "Y1980 = df1980['lnwage']\n",
    "X1980 = df1980[['const', 'hyrsed', 'age', 'age2', 'black', 'other_race']]\n",
    "\n",
    "Y1990 = df1990['lnwage']\n",
    "X1990 = df1990[['const', 'hyrsed', 'age', 'age2', 'black', 'other_race']]\n",
    "\n",
    "Y2000 = df2000['lnwage']\n",
    "X2000 = df2000[['const', 'hyrsed', 'age', 'age2', 'black', 'other_race']]"
   ]
  },
  {
   "cell_type": "code",
   "execution_count": 11,
   "metadata": {},
   "outputs": [
    {
     "name": "stdout",
     "output_type": "stream",
     "text": [
      "                            OLS Regression Results                            \n",
      "==============================================================================\n",
      "Dep. Variable:                 lnwage   R-squared:                       0.238\n",
      "Model:                            OLS   Adj. R-squared:                  0.235\n",
      "Method:                 Least Squares   F-statistic:                     85.68\n",
      "Date:                Sun, 03 Oct 2021   Prob (F-statistic):           1.68e-78\n",
      "Time:                        11:11:23   Log-Likelihood:                -955.48\n",
      "No. Observations:                1380   AIC:                             1923.\n",
      "Df Residuals:                    1374   BIC:                             1954.\n",
      "Df Model:                           5                                         \n",
      "Covariance Type:            nonrobust                                         \n",
      "==============================================================================\n",
      "                 coef    std err          t      P>|t|      [0.025      0.975]\n",
      "------------------------------------------------------------------------------\n",
      "const          7.4060      0.230     32.154      0.000       6.954       7.858\n",
      "hyrsed         0.0710      0.004     16.032      0.000       0.062       0.080\n",
      "age            0.1067      0.011      9.467      0.000       0.085       0.129\n",
      "age2          -0.0011      0.000     -8.294      0.000      -0.001      -0.001\n",
      "black         -0.2253      0.053     -4.241      0.000      -0.330      -0.121\n",
      "other_race     0.0097      0.081      0.120      0.904      -0.149       0.169\n",
      "==============================================================================\n",
      "Omnibus:                      570.297   Durbin-Watson:                   1.914\n",
      "Prob(Omnibus):                  0.000   Jarque-Bera (JB):             6254.460\n",
      "Skew:                          -1.610   Prob(JB):                         0.00\n",
      "Kurtosis:                      12.920   Cond. No.                     3.39e+04\n",
      "==============================================================================\n",
      "\n",
      "Notes:\n",
      "[1] Standard Errors assume that the covariance matrix of the errors is correctly specified.\n",
      "[2] The condition number is large, 3.39e+04. This might indicate that there are\n",
      "strong multicollinearity or other numerical problems.\n"
     ]
    }
   ],
   "source": [
    "reg1971 = sm.OLS(Y1971,X1971).fit()\n",
    "print(reg1971.summary())"
   ]
  },
  {
   "cell_type": "code",
   "execution_count": 12,
   "metadata": {},
   "outputs": [
    {
     "name": "stdout",
     "output_type": "stream",
     "text": [
      "                            OLS Regression Results                            \n",
      "==============================================================================\n",
      "Dep. Variable:                 lnwage   R-squared:                       0.175\n",
      "Model:                            OLS   Adj. R-squared:                  0.173\n",
      "Method:                 Least Squares   F-statistic:                     78.38\n",
      "Date:                Sun, 03 Oct 2021   Prob (F-statistic):           1.02e-74\n",
      "Time:                        11:11:23   Log-Likelihood:                -1605.5\n",
      "No. Observations:                1856   AIC:                             3223.\n",
      "Df Residuals:                    1850   BIC:                             3256.\n",
      "Df Model:                           5                                         \n",
      "Covariance Type:            nonrobust                                         \n",
      "==============================================================================\n",
      "                 coef    std err          t      P>|t|      [0.025      0.975]\n",
      "------------------------------------------------------------------------------\n",
      "const          7.6204      0.246     30.959      0.000       7.138       8.103\n",
      "hyrsed         0.0785      0.005     14.328      0.000       0.068       0.089\n",
      "age            0.0883      0.012      7.195      0.000       0.064       0.112\n",
      "age2          -0.0009      0.000     -6.063      0.000      -0.001      -0.001\n",
      "black         -0.2714      0.056     -4.861      0.000      -0.381      -0.162\n",
      "other_race     0.0328      0.091      0.360      0.719      -0.146       0.211\n",
      "==============================================================================\n",
      "Omnibus:                      942.922   Durbin-Watson:                   2.004\n",
      "Prob(Omnibus):                  0.000   Jarque-Bera (JB):            13972.981\n",
      "Skew:                          -2.021   Prob(JB):                         0.00\n",
      "Kurtosis:                      15.820   Cond. No.                     3.30e+04\n",
      "==============================================================================\n",
      "\n",
      "Notes:\n",
      "[1] Standard Errors assume that the covariance matrix of the errors is correctly specified.\n",
      "[2] The condition number is large, 3.3e+04. This might indicate that there are\n",
      "strong multicollinearity or other numerical problems.\n"
     ]
    }
   ],
   "source": [
    "reg1980 = sm.OLS(Y1980,X1980).fit()\n",
    "print(reg1980.summary())"
   ]
  },
  {
   "cell_type": "code",
   "execution_count": 13,
   "metadata": {},
   "outputs": [
    {
     "name": "stdout",
     "output_type": "stream",
     "text": [
      "                            OLS Regression Results                            \n",
      "==============================================================================\n",
      "Dep. Variable:                 lnwage   R-squared:                       0.212\n",
      "Model:                            OLS   Adj. R-squared:                  0.210\n",
      "Method:                 Least Squares   F-statistic:                     107.8\n",
      "Date:                Sun, 03 Oct 2021   Prob (F-statistic):          5.48e-101\n",
      "Time:                        11:11:23   Log-Likelihood:                -1677.3\n",
      "No. Observations:                2013   AIC:                             3367.\n",
      "Df Residuals:                    2007   BIC:                             3400.\n",
      "Df Model:                           5                                         \n",
      "Covariance Type:            nonrobust                                         \n",
      "==============================================================================\n",
      "                 coef    std err          t      P>|t|      [0.025      0.975]\n",
      "------------------------------------------------------------------------------\n",
      "const          7.3293      0.251     29.190      0.000       6.837       7.822\n",
      "hyrsed         0.1066      0.006     18.868      0.000       0.095       0.118\n",
      "age            0.0848      0.012      6.892      0.000       0.061       0.109\n",
      "age2          -0.0009      0.000     -6.014      0.000      -0.001      -0.001\n",
      "black         -0.2713      0.055     -4.931      0.000      -0.379      -0.163\n",
      "other_race     0.0183      0.103      0.178      0.859      -0.183       0.220\n",
      "==============================================================================\n",
      "Omnibus:                      284.338   Durbin-Watson:                   2.025\n",
      "Prob(Omnibus):                  0.000   Jarque-Bera (JB):             1276.324\n",
      "Skew:                          -0.604   Prob(JB):                    7.08e-278\n",
      "Kurtosis:                       6.709   Cond. No.                     3.54e+04\n",
      "==============================================================================\n",
      "\n",
      "Notes:\n",
      "[1] Standard Errors assume that the covariance matrix of the errors is correctly specified.\n",
      "[2] The condition number is large, 3.54e+04. This might indicate that there are\n",
      "strong multicollinearity or other numerical problems.\n"
     ]
    }
   ],
   "source": [
    "reg1990 = sm.OLS(Y1990,X1990).fit()\n",
    "print(reg1990.summary())"
   ]
  },
  {
   "cell_type": "code",
   "execution_count": 14,
   "metadata": {},
   "outputs": [
    {
     "name": "stdout",
     "output_type": "stream",
     "text": [
      "                            OLS Regression Results                            \n",
      "==============================================================================\n",
      "Dep. Variable:                 lnwage   R-squared:                       0.201\n",
      "Model:                            OLS   Adj. R-squared:                  0.200\n",
      "Method:                 Least Squares   F-statistic:                     129.9\n",
      "Date:                Sun, 03 Oct 2021   Prob (F-statistic):          5.82e-123\n",
      "Time:                        11:11:23   Log-Likelihood:                -2426.5\n",
      "No. Observations:                2581   AIC:                             4865.\n",
      "Df Residuals:                    2575   BIC:                             4900.\n",
      "Df Model:                           5                                         \n",
      "Covariance Type:            nonrobust                                         \n",
      "==============================================================================\n",
      "                 coef    std err          t      P>|t|      [0.025      0.975]\n",
      "------------------------------------------------------------------------------\n",
      "const          6.7607      0.251     26.912      0.000       6.268       7.253\n",
      "hyrsed         0.1178      0.006     19.883      0.000       0.106       0.129\n",
      "age            0.1112      0.012      9.377      0.000       0.088       0.134\n",
      "age2          -0.0012      0.000     -8.515      0.000      -0.001      -0.001\n",
      "black         -0.3264      0.055     -5.939      0.000      -0.434      -0.219\n",
      "other_race    -0.0988      0.069     -1.442      0.149      -0.233       0.036\n",
      "==============================================================================\n",
      "Omnibus:                      335.472   Durbin-Watson:                   1.990\n",
      "Prob(Omnibus):                  0.000   Jarque-Bera (JB):             2283.673\n",
      "Skew:                          -0.407   Prob(JB):                         0.00\n",
      "Kurtosis:                       7.536   Cond. No.                     4.03e+04\n",
      "==============================================================================\n",
      "\n",
      "Notes:\n",
      "[1] Standard Errors assume that the covariance matrix of the errors is correctly specified.\n",
      "[2] The condition number is large, 4.03e+04. This might indicate that there are\n",
      "strong multicollinearity or other numerical problems.\n"
     ]
    }
   ],
   "source": [
    "reg2000 = sm.OLS(Y2000,X2000).fit()\n",
    "print(reg2000.summary())"
   ]
  },
  {
   "cell_type": "markdown",
   "metadata": {},
   "source": [
    "### MLE Estimation"
   ]
  },
  {
   "cell_type": "code",
   "execution_count": 15,
   "metadata": {},
   "outputs": [
    {
     "name": "stdout",
     "output_type": "stream",
     "text": [
      "[[1.000e+00 1.200e+01 5.100e+01 2.601e+03 0.000e+00 0.000e+00]\n",
      " [1.000e+00 5.000e+00 5.500e+01 3.025e+03 0.000e+00 0.000e+00]\n",
      " [1.000e+00 1.600e+01 2.500e+01 6.250e+02 0.000e+00 0.000e+00]\n",
      " ...\n",
      " [1.000e+00 9.000e+00 4.600e+01 2.116e+03 0.000e+00 0.000e+00]\n",
      " [1.000e+00 1.200e+01 5.800e+01 3.364e+03 0.000e+00 0.000e+00]\n",
      " [1.000e+00 1.200e+01 3.500e+01 1.225e+03 0.000e+00 0.000e+00]]\n",
      "(1380, 6)\n"
     ]
    }
   ],
   "source": [
    "# Simplify data for just 1971\n",
    "y = np.array(df1971['lnwage']).astype('float')\n",
    "b1_1971 = np.array(df1971['hyrsed']).astype('float')\n",
    "b2_1971 = np.array(df1971['age']).astype('float')\n",
    "b3_1971 = np.array(df1971['age2']).astype('float')\n",
    "b4_1971 = np.array(df1971['black']).astype('float')\n",
    "b5_1971 = np.array(df1971['other_race']).astype('float')\n",
    "\n",
    "nrow = b1_1971.shape[0]\n",
    "intercept = np.ones((nrow, 1))\n",
    "x = np.column_stack((intercept, b1_1971, b2_1971, b3_1971, b4_1971, b5_1971))\n",
    "print(x)\n",
    "print(x.shape)"
   ]
  },
  {
   "cell_type": "code",
   "execution_count": 16,
   "metadata": {},
   "outputs": [],
   "source": [
    "def MLE(params):\n",
    "    \"\"\"\n",
    "    Args:\n",
    "    params: constants and betas from below defined equation\n",
    "    \n",
    "    Returns:\n",
    "    negLL: negative log likelihood\n",
    "    \"\"\"\n",
    "    # Equation\n",
    "    # df['lnwage'] = const + beta1*df['hyrsed'] + beta2*df['age'] + beta3*df['age2'] + beta4*df['black'] + \n",
    "                    #  beta5*df['other_race'] + error\n",
    "    const = params[0]\n",
    "    beta1 = params[1]\n",
    "    beta2 = params[2]\n",
    "    beta3 = params[3]\n",
    "    beta4 = params[4]\n",
    "    beta5 = params[5]\n",
    "    \n",
    "    beta = [const, beta1, beta2, beta3, beta4, beta5]\n",
    "    \n",
    "    yhat = np.dot(x, beta)\n",
    "    negLL = -np.sum(stats.norm.logpdf(y, loc=yhat))\n",
    "    return(negLL)"
   ]
  },
  {
   "cell_type": "code",
   "execution_count": 17,
   "metadata": {},
   "outputs": [],
   "source": [
    "# initial guess (based on OLS from 1971)\n",
    "guess = [7.4, 0.07, 0.11, -0.001, -0.23, 0.01]"
   ]
  },
  {
   "cell_type": "code",
   "execution_count": 18,
   "metadata": {},
   "outputs": [
    {
     "name": "stdout",
     "output_type": "stream",
     "text": [
      "[ 7.40538035e+00  7.09842840e-02  1.06787173e-01 -1.13494011e-03\n",
      " -2.25347587e-01  9.84410578e-03]\n"
     ]
    }
   ],
   "source": [
    "# 1971 MLE results\n",
    "results1971 = opt.minimize(MLE, guess, method='SLSQP', tol = 1e-10, options={'maxiter': 5000})\n",
    "print(results1971.x)"
   ]
  },
  {
   "cell_type": "code",
   "execution_count": 19,
   "metadata": {},
   "outputs": [
    {
     "name": "stdout",
     "output_type": "stream",
     "text": [
      "[ 7.61610663e+00  7.85177304e-02  8.85606681e-02 -9.02122055e-04\n",
      " -2.71375997e-01  3.27811051e-02]\n"
     ]
    }
   ],
   "source": [
    "# 1980 MLE results\n",
    "y = np.array(df1980['lnwage']).astype('float')\n",
    "b1_1980 = np.array(df1980['hyrsed']).astype('float')\n",
    "b2_1980 = np.array(df1980['age']).astype('float')\n",
    "b3_1980 = np.array(df1980['age2']).astype('float')\n",
    "b4_1980 = np.array(df1980['black']).astype('float')\n",
    "b5_1980 = np.array(df1980['other_race']).astype('float')\n",
    "\n",
    "nrow = b1_1980.shape[0]\n",
    "intercept = np.ones((nrow, 1))\n",
    "x = np.column_stack((intercept, b1_1980, b2_1980, b3_1980, b4_1980, b5_1980))\n",
    "\n",
    "results1980 = opt.minimize(MLE, guess, method='SLSQP', tol = 1e-10, options={'maxiter': 5000})\n",
    "print(results1980.x)"
   ]
  },
  {
   "cell_type": "code",
   "execution_count": 20,
   "metadata": {},
   "outputs": [
    {
     "name": "stdout",
     "output_type": "stream",
     "text": [
      "[ 7.32445340e+00  1.06553530e-01  8.51061096e-02 -8.97665208e-04\n",
      " -2.71295273e-01  1.83433566e-02]\n"
     ]
    }
   ],
   "source": [
    "# 1990 MLE results\n",
    "y = np.array(df1990['lnwage']).astype('float')\n",
    "b1_1990 = np.array(df1990['hyrsed']).astype('float')\n",
    "b2_1990 = np.array(df1990['age']).astype('float')\n",
    "b3_1990 = np.array(df1990['age2']).astype('float')\n",
    "b4_1990 = np.array(df1990['black']).astype('float')\n",
    "b5_1990 = np.array(df1990['other_race']).astype('float')\n",
    "\n",
    "nrow = b1_1990.shape[0]\n",
    "intercept = np.ones((nrow, 1))\n",
    "x = np.column_stack((intercept, b1_1990, b2_1990, b3_1990, b4_1990, b5_1990))\n",
    "\n",
    "results1990 = opt.minimize(MLE, guess, method='SLSQP', tol = 1e-10, options={'maxiter': 5000})\n",
    "print(results1990.x)"
   ]
  },
  {
   "cell_type": "code",
   "execution_count": 21,
   "metadata": {},
   "outputs": [
    {
     "name": "stdout",
     "output_type": "stream",
     "text": [
      "[ 6.75460725e+00  1.17767437e-01  1.11491790e-01 -1.21552785e-03\n",
      " -3.26468050e-01 -9.88092281e-02]\n"
     ]
    }
   ],
   "source": [
    "# 2000 MLE results\n",
    "y = np.array(df2000['lnwage']).astype('float')\n",
    "b1_2000 = np.array(df2000['hyrsed']).astype('float')\n",
    "b2_2000 = np.array(df2000['age']).astype('float')\n",
    "b3_2000 = np.array(df2000['age2']).astype('float')\n",
    "b4_2000 = np.array(df2000['black']).astype('float')\n",
    "b5_2000 = np.array(df2000['other_race']).astype('float')\n",
    "\n",
    "nrow = b1_2000.shape[0]\n",
    "intercept = np.ones((nrow, 1))\n",
    "x = np.column_stack((intercept, b1_2000, b2_2000, b3_2000, b4_2000, b5_2000))\n",
    "\n",
    "results2000 = opt.minimize(MLE, guess, method='SLSQP', tol = 1e-10, options={'maxiter': 5000})\n",
    "print(results2000.x)"
   ]
  },
  {
   "cell_type": "code",
   "execution_count": 22,
   "metadata": {},
   "outputs": [
    {
     "name": "stdout",
     "output_type": "stream",
     "text": [
      "0.07098428404551707\n",
      "0.07851773042635043\n",
      "0.10655352971127664\n",
      "0.1177674369404821\n"
     ]
    }
   ],
   "source": [
    "# Compare Beta1 coefficients on years of education\n",
    "print(results1971.x[1])\n",
    "print(results1980.x[1])\n",
    "print(results1990.x[1])\n",
    "print(results2000.x[1])"
   ]
  },
  {
   "cell_type": "markdown",
   "metadata": {},
   "source": [
    "Benefits to years of education are increasing over time.  In 1971, an additional year of education would increase annual wages by around 7%.  This benefit slowly increases over time; in 2000, an additional year of education would increase annual wages by nearly 12%."
   ]
  }
 ],
 "metadata": {
  "kernelspec": {
   "display_name": "Python 3",
   "language": "python",
   "name": "python3"
  },
  "language_info": {
   "codemirror_mode": {
    "name": "ipython",
    "version": 3
   },
   "file_extension": ".py",
   "mimetype": "text/x-python",
   "name": "python",
   "nbconvert_exporter": "python",
   "pygments_lexer": "ipython3",
   "version": "3.8.5"
  }
 },
 "nbformat": 4,
 "nbformat_minor": 4
}
