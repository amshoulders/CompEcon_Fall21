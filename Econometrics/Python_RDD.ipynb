{
 "cells": [
  {
   "cell_type": "markdown",
   "metadata": {},
   "source": [
    "# Implementing Regression Discontinuity Design in Python\n",
    "### by [Jason DeBacker](http://jasondebacker.com), October 2021\n",
    "\n",
    "This notebook provides an example of an regression discontinuity design in Python.\n",
    "\n",
    "## Example: Lee (*Journal of Econometrics*, 2008)\n",
    "\n",
    "[Lee (2008)](https://www.princeton.edu/~davidlee/wp/RDrand.pdf) seeks to answer an empirical question - how big is the incumbency advantage in the U.S. House? - and provide a methodological contribution - can we use regression discontinuity design to identify causal effects if the running variable is endogenous?\n",
    "\n",
    "Economists and political scientists have studied the incumbency advantage for decades.  The main empirical challenge here is obvious: incumbents are from a selected sample - they were elected to office in the first place!  So simply looking at the rate at which incumbents win elections doesn't tell you anything about the causal impact of incumbency on elections.  Rather, it could just be evidence that good candidates do better than poorer candidates.  There have been a number of interesting approaches to tackle this problem, including [Levitt (*Journal of Political Economy*, 1994)](http://pricetheory.uchicago.edu/levitt/Papers/LevittUsingRepeatChallengers1994.pdf) who uses elections where the challenging candidate is the same.\n",
    "\n",
    "Lee's important idea: let's look at close elections.  These could have gone either way, so the candidates who were running were of similar quality, but one just one.  And that narrow victor of the election at time $t$ now has the advantage of incumbency at $t+1$.  So we should be able to identify the incumbency advantage by looking at how candidates who narrowly won the election at time $t$ perform at time $t+1$.  More specifically, Lee (2008) looks at the incumbency advantage accruing to the party (and not to a specific candidate).  But the idea is the same (and in fact, since most incumbents run again, the effects on the party and the individual and quantitatively similar as well).\n",
    "\n",
    "We'll replicate Lee's analysis here.  To begin, I've downloaded the Election Table data from the the ICPSR's [Database of United States Congressional Historical Statistics](http://www.icpsr.umich.edu/icpsrweb/ICPSR/studies/3371?q=congressional+election) as a Stata datafile, renamed `Election_Data.dta` and placed it in `./data/`.\n",
    "\n",
    "With these data we won't have all the elections considered by Lee (2008) and so won't be able to replicate his analysis exactly, but these are close enough.\n",
    "\n",
    "We'll need to do a bit of cleaning to these data.  Let's load the libraries we neeed and do the cleaning first.\n",
    "\n",
    "### Cleaning data"
   ]
  },
  {
   "cell_type": "code",
   "execution_count": 1,
   "metadata": {},
   "outputs": [],
   "source": [
    "import numpy as np\n",
    "import pandas as pd\n",
    "import matplotlib.pyplot as plt\n",
    "import plotly.express as px\n",
    "import statsmodels.formula.api as smf\n",
    "from rdd import rdd"
   ]
  },
  {
   "cell_type": "code",
   "execution_count": 2,
   "metadata": {},
   "outputs": [],
   "source": [
    "# read in data from ./data/Election_Data.dta\n",
    "df = pd.read_stata(\"./data/Election_Data.dta\", convert_categoricals=False)\n",
    "# make all variable names lower case\n",
    "df.columns = df.columns.str.lower()\n",
    "\n",
    "# clean election data\n",
    "# keep only years 1946+ and House general elections\n",
    "elec_data = df[(df.year >= 1946) & (df.electype == \"G\") & (df.office == 3)]\n",
    "# keep only columns will use\n",
    "elec_data = elec_data[[\"cand_id\",\"year\",\"congress\", \"state\",\n",
    "                       \"district\", \"candpct\", \"party\", \"outcome\",\n",
    "                       \"incumb\"]]"
   ]
  },
  {
   "cell_type": "markdown",
   "metadata": {},
   "source": [
    "### Setup data for analysis\n",
    "\n",
    "Create dataset on candidates:\n",
    "1. Number of election wins prior to year t\n",
    "2. Number of elections campaigned in prior to year t"
   ]
  },
  {
   "cell_type": "code",
   "execution_count": 3,
   "metadata": {},
   "outputs": [],
   "source": [
    "# sort by year and candidate\n",
    "elec_data.sort_values(by=['year', 'cand_id'], inplace=True)\n",
    "# create indicator if ran in election\n",
    "elec_data[\"ran_for_office\"] = 1\n",
    "\n",
    "# create electoral experience by summing previous times ran for office\n",
    "elec_data['elec_experience'] = elec_data.groupby(['cand_id'])['ran_for_office'].cumsum() - 1  # minus 1 so don't count current election\n",
    "# create political experience by summing previous times won office\n",
    "elec_data.sort_values(by=['year', 'cand_id'], inplace=True)\n",
    "elec_data['pol_experience'] = elec_data.groupby(['cand_id'])['outcome'].cumsum()\n",
    "elec_data['pol_experience'] = elec_data['pol_experience'] - elec_data['outcome']  # so don't count current election outcome\n",
    "\n",
    "rd_data = elec_data.copy()"
   ]
  },
  {
   "cell_type": "markdown",
   "metadata": {},
   "source": [
    "### More data prep\n",
    "\n",
    "Here, we keep just the top vote getting candidates, reshape the data for analysis, and create lags of relevant variables."
   ]
  },
  {
   "cell_type": "code",
   "execution_count": 4,
   "metadata": {},
   "outputs": [],
   "source": [
    "# rank by percent of vote share (with in each race)\n",
    "rd_data['ranking'] = elec_data.groupby(\n",
    "    ['congress', 'state', 'district'])['candpct'].rank(method='first', ascending=False)\n",
    "\n",
    "# keep only top 2 per race\n",
    "rd_data = rd_data[rd_data.ranking < 3]\n",
    "\n",
    "# drop cand_id\n",
    "rd_data.drop(columns='cand_id', inplace=True)\n",
    "\n",
    "# reshape data to wide - so one row per race\n",
    "rd_data.set_index(['congress', 'year', 'state', 'district', 'ranking'], inplace=True)\n",
    "rd_wide = rd_data.unstack(level=-1).rename_axis((None,None), axis=1)\n",
    "#reset MultiIndex in columns with list comprehension\n",
    "rd_wide.columns = [col[0] + '_' + str(int(col[1])) for col in rd_wide.columns]\n",
    "rd_wide['dem_win'] = ((rd_wide['party_1'] == 100) & (rd_wide['outcome_1'] == 1)).astype('int')\n",
    "rd_wide['dem_share'] = (\n",
    "    (rd_wide['party_1'] == 100) * rd_wide['candpct_1'] +\n",
    "    (rd_wide['party_2'] == 100) * rd_wide['candpct_2'])\n",
    "\n",
    "# Create variable for Democratic margin of victory.  This will be running variable in RDD\n",
    "# set to missing if dem if isn't one of two parties in top 2\n",
    "rd_wide['margin'] = ((rd_wide['party_1'] == 100) * (rd_wide['candpct_1'] - rd_wide['candpct_2']) +\n",
    "                     (rd_wide['party_2'] == 100) * (rd_wide['candpct_2'] - rd_wide['candpct_1']))\n",
    "\n",
    "# Create variables for Democratic candidate experience\n",
    "rd_wide['dem_elec_exp'] = (((rd_wide['party_1'] == 100) * rd_wide['elec_experience_1']) +\n",
    "                           ((rd_wide['party_2'] == 100) * rd_wide['elec_experience_2']))\n",
    "rd_wide['dem_pol_exp'] = (((rd_wide['party_1'] == 100) * rd_wide['pol_experience_1']) +\n",
    "                           ((rd_wide['party_2'] == 100) * rd_wide['pol_experience_2']))\n",
    "\n",
    "# drop obs with missing values for margin\n",
    "rd_wide.drop(rd_wide[(rd_wide['margin'] == np.nan) | (rd_wide['margin'] == \"\")].index, inplace=True)\n",
    "# drop those where margin is 0, but candidate shares are above 51 pct\n",
    "# I don't know what such a case could be but there are about 400 in the data\n",
    "rd_wide.drop(rd_wide[(rd_wide['margin'] == 0.0) & (rd_wide['candpct_1'] > 51)].index, inplace=True)\n",
    "\n",
    "# Create leads and lags of vote share and wins\n",
    "rd_wide['dem_win_m1'] = rd_wide.groupby(['state', 'district'])['dem_win'].shift(1)\n",
    "rd_wide['dem_win_p1'] = rd_wide.groupby(['state', 'district'])['dem_win'].shift(-1)\n",
    "# create leads for dem win and dem vote share\n",
    "rd_wide['dem_share_m1'] = rd_wide.groupby(['state', 'district'])['dem_share'].shift(1)\n",
    "rd_wide['dem_share_p1'] = rd_wide.groupby(['state', 'district'])['dem_share'].shift(-1)\n",
    "\n",
    "\n",
    "# drop if missing values for leads (e.g. if year > 1986)\n",
    "rd_wide = rd_wide[rd_wide.index.get_level_values(1) < 1987]\n",
    "# drop if dem share >= 100\n",
    "rd_wide = rd_wide[rd_wide.dem_share < 100]\n",
    "rd_wide['gt0'] = (rd_wide['margin'] > 51).astype('int')"
   ]
  },
  {
   "cell_type": "code",
   "execution_count": 52,
   "metadata": {},
   "outputs": [],
   "source": [
    "# create bins for running variable (margin)\n",
    "rd_wide['margin_bin'] = pd.cut(rd_wide['margin'],\n",
    "                               np.arange(start=-100, stop=102, step=2),\n",
    "                               right=True,\n",
    "                               labels=False, include_lowest=False)\n",
    "\n",
    "# collapse data so have means by bin\n",
    "binned_data = rd_wide.groupby('margin_bin').mean().reset_index()\n",
    "\n",
    "binned_data = binned_data[binned_data['margin_bin'] < 100] # first one outliers?\n",
    "# create variable for over 50%\n",
    "binned_data['gt0'] = binned_data['margin_bin'] > 51"
   ]
  },
  {
   "cell_type": "code",
   "execution_count": 53,
   "metadata": {},
   "outputs": [
    {
     "data": {
      "application/vnd.plotly.v1+json": {
       "config": {
        "plotlyServerURL": "https://plot.ly"
       },
       "data": [
        {
         "hovertemplate": "Democrat's margin of victory at time t=%{x}<br>Democrat's vote share at time t+1=%{y}<extra></extra>",
         "legendgroup": "",
         "marker": {
          "color": "#636efa",
          "symbol": "circle"
         },
         "mode": "markers",
         "name": "",
         "orientation": "v",
         "showlegend": false,
         "type": "scatter",
         "x": [
          -85,
          -80,
          -77,
          -74.33333333333333,
          -70.2,
          -68,
          -66.25,
          -64,
          -62,
          -60.15384615384615,
          -58.23809523809524,
          -56.13636363636363,
          -54.208333333333336,
          -52.14705882352941,
          -50.292682926829265,
          -48.19230769230769,
          -46.2289156626506,
          -44.21739130434783,
          -42.160493827160494,
          -40.20779220779221,
          -38.20238095238095,
          -36.189189189189186,
          -34.141843971631204,
          -32.1937984496124,
          -30.12837837837838,
          -28.18,
          -26.121794871794872,
          -24.18709677419355,
          -22.17721518987342,
          -20.20138888888889,
          -18.14516129032258,
          -16.24137931034483,
          -14.174863387978142,
          -12.195652173913043,
          -10.131868131868131,
          -8.166666666666666,
          -6.218390804597701,
          -4.161676646706587,
          -2.111801242236025,
          -0.18354430379746836,
          1.813793103448276,
          3.82122905027933,
          5.832298136645963,
          7.818181818181818,
          9.822695035460994,
          11.837209302325581,
          13.811188811188812,
          15.793388429752065,
          17.766233766233768,
          19.846153846153847,
          21.81756756756757,
          23.74264705882353,
          25.765625,
          27.818840579710145,
          29.775193798449614,
          31.835616438356166,
          33.77372262773723,
          35.810344827586206,
          37.78181818181818,
          39.733870967741936,
          41.842592592592595,
          43.83076923076923,
          45.835443037974684,
          47.76470588235294,
          49.76923076923077,
          51.9,
          53.69230769230769,
          55.70967741935484,
          57.75,
          59.74074074074074,
          61.625,
          63.84782608695652,
          65.6923076923077,
          67.67567567567568,
          69.91428571428571,
          71.8,
          73.83333333333333,
          75.67647058823529,
          77.74074074074075,
          79.63636363636364,
          81.80952380952381,
          83.71428571428571,
          85.66666666666667,
          88,
          89.92857142857143,
          92,
          93.94117647058823,
          95.89473684210526,
          97.86363636363636
         ],
         "xaxis": "x",
         "y": [
          25,
          44,
          null,
          21.666666666666668,
          15.8,
          17,
          22,
          30,
          25.4,
          30.166666666666668,
          29.22222222222222,
          30.857142857142858,
          28.666666666666668,
          31.966666666666665,
          32,
          32.28,
          34.21333333333333,
          33.088235294117645,
          33.58227848101266,
          34.578947368421055,
          35.963855421686745,
          36.79047619047619,
          35.67391304347826,
          37.9349593495935,
          37.66206896551724,
          38.36054421768708,
          38.6078431372549,
          38.88961038961039,
          40.00636942675159,
          40.13475177304964,
          40.650273224043715,
          41.263888888888886,
          40.93296089385475,
          42.86813186813187,
          42.28888888888889,
          42.590062111801245,
          44.36842105263158,
          43.7289156626506,
          45.78709677419355,
          45.901315789473685,
          53.9375,
          55.64367816091954,
          57.0251572327044,
          57.1,
          57.98529411764706,
          58.951219512195124,
          57.85507246376812,
          59.376068376068375,
          59.054794520547944,
          61.8515625,
          61.201438848920866,
          63.89393939393939,
          62.96031746031746,
          66.02307692307693,
          65.47540983606558,
          64.72142857142858,
          65.92,
          66.37735849056604,
          65.92079207920793,
          68.31932773109244,
          71.83838383838383,
          69.125,
          69.10526315789474,
          71.58558558558559,
          72.94845360824742,
          76.32692307692308,
          72.55737704918033,
          75.64814814814815,
          75.46153846153847,
          77.56818181818181,
          75.94594594594595,
          75.86842105263158,
          75.21875,
          78,
          80.64516129032258,
          80.09375,
          85.82352941176471,
          81.03703703703704,
          81.79166666666667,
          78.04761904761905,
          74.76470588235294,
          83.82352941176471,
          80.64285714285714,
          79.3157894736842,
          77,
          87.6923076923077,
          87,
          90.16666666666667,
          81
         ],
         "yaxis": "y"
        }
       ],
       "layout": {
        "legend": {
         "tracegroupgap": 0
        },
        "template": {
         "data": {
          "bar": [
           {
            "error_x": {
             "color": "#2a3f5f"
            },
            "error_y": {
             "color": "#2a3f5f"
            },
            "marker": {
             "line": {
              "color": "white",
              "width": 0.5
             }
            },
            "type": "bar"
           }
          ],
          "barpolar": [
           {
            "marker": {
             "line": {
              "color": "white",
              "width": 0.5
             }
            },
            "type": "barpolar"
           }
          ],
          "carpet": [
           {
            "aaxis": {
             "endlinecolor": "#2a3f5f",
             "gridcolor": "#C8D4E3",
             "linecolor": "#C8D4E3",
             "minorgridcolor": "#C8D4E3",
             "startlinecolor": "#2a3f5f"
            },
            "baxis": {
             "endlinecolor": "#2a3f5f",
             "gridcolor": "#C8D4E3",
             "linecolor": "#C8D4E3",
             "minorgridcolor": "#C8D4E3",
             "startlinecolor": "#2a3f5f"
            },
            "type": "carpet"
           }
          ],
          "choropleth": [
           {
            "colorbar": {
             "outlinewidth": 0,
             "ticks": ""
            },
            "type": "choropleth"
           }
          ],
          "contour": [
           {
            "colorbar": {
             "outlinewidth": 0,
             "ticks": ""
            },
            "colorscale": [
             [
              0,
              "#0d0887"
             ],
             [
              0.1111111111111111,
              "#46039f"
             ],
             [
              0.2222222222222222,
              "#7201a8"
             ],
             [
              0.3333333333333333,
              "#9c179e"
             ],
             [
              0.4444444444444444,
              "#bd3786"
             ],
             [
              0.5555555555555556,
              "#d8576b"
             ],
             [
              0.6666666666666666,
              "#ed7953"
             ],
             [
              0.7777777777777778,
              "#fb9f3a"
             ],
             [
              0.8888888888888888,
              "#fdca26"
             ],
             [
              1,
              "#f0f921"
             ]
            ],
            "type": "contour"
           }
          ],
          "contourcarpet": [
           {
            "colorbar": {
             "outlinewidth": 0,
             "ticks": ""
            },
            "type": "contourcarpet"
           }
          ],
          "heatmap": [
           {
            "colorbar": {
             "outlinewidth": 0,
             "ticks": ""
            },
            "colorscale": [
             [
              0,
              "#0d0887"
             ],
             [
              0.1111111111111111,
              "#46039f"
             ],
             [
              0.2222222222222222,
              "#7201a8"
             ],
             [
              0.3333333333333333,
              "#9c179e"
             ],
             [
              0.4444444444444444,
              "#bd3786"
             ],
             [
              0.5555555555555556,
              "#d8576b"
             ],
             [
              0.6666666666666666,
              "#ed7953"
             ],
             [
              0.7777777777777778,
              "#fb9f3a"
             ],
             [
              0.8888888888888888,
              "#fdca26"
             ],
             [
              1,
              "#f0f921"
             ]
            ],
            "type": "heatmap"
           }
          ],
          "heatmapgl": [
           {
            "colorbar": {
             "outlinewidth": 0,
             "ticks": ""
            },
            "colorscale": [
             [
              0,
              "#0d0887"
             ],
             [
              0.1111111111111111,
              "#46039f"
             ],
             [
              0.2222222222222222,
              "#7201a8"
             ],
             [
              0.3333333333333333,
              "#9c179e"
             ],
             [
              0.4444444444444444,
              "#bd3786"
             ],
             [
              0.5555555555555556,
              "#d8576b"
             ],
             [
              0.6666666666666666,
              "#ed7953"
             ],
             [
              0.7777777777777778,
              "#fb9f3a"
             ],
             [
              0.8888888888888888,
              "#fdca26"
             ],
             [
              1,
              "#f0f921"
             ]
            ],
            "type": "heatmapgl"
           }
          ],
          "histogram": [
           {
            "marker": {
             "colorbar": {
              "outlinewidth": 0,
              "ticks": ""
             }
            },
            "type": "histogram"
           }
          ],
          "histogram2d": [
           {
            "colorbar": {
             "outlinewidth": 0,
             "ticks": ""
            },
            "colorscale": [
             [
              0,
              "#0d0887"
             ],
             [
              0.1111111111111111,
              "#46039f"
             ],
             [
              0.2222222222222222,
              "#7201a8"
             ],
             [
              0.3333333333333333,
              "#9c179e"
             ],
             [
              0.4444444444444444,
              "#bd3786"
             ],
             [
              0.5555555555555556,
              "#d8576b"
             ],
             [
              0.6666666666666666,
              "#ed7953"
             ],
             [
              0.7777777777777778,
              "#fb9f3a"
             ],
             [
              0.8888888888888888,
              "#fdca26"
             ],
             [
              1,
              "#f0f921"
             ]
            ],
            "type": "histogram2d"
           }
          ],
          "histogram2dcontour": [
           {
            "colorbar": {
             "outlinewidth": 0,
             "ticks": ""
            },
            "colorscale": [
             [
              0,
              "#0d0887"
             ],
             [
              0.1111111111111111,
              "#46039f"
             ],
             [
              0.2222222222222222,
              "#7201a8"
             ],
             [
              0.3333333333333333,
              "#9c179e"
             ],
             [
              0.4444444444444444,
              "#bd3786"
             ],
             [
              0.5555555555555556,
              "#d8576b"
             ],
             [
              0.6666666666666666,
              "#ed7953"
             ],
             [
              0.7777777777777778,
              "#fb9f3a"
             ],
             [
              0.8888888888888888,
              "#fdca26"
             ],
             [
              1,
              "#f0f921"
             ]
            ],
            "type": "histogram2dcontour"
           }
          ],
          "mesh3d": [
           {
            "colorbar": {
             "outlinewidth": 0,
             "ticks": ""
            },
            "type": "mesh3d"
           }
          ],
          "parcoords": [
           {
            "line": {
             "colorbar": {
              "outlinewidth": 0,
              "ticks": ""
             }
            },
            "type": "parcoords"
           }
          ],
          "pie": [
           {
            "automargin": true,
            "type": "pie"
           }
          ],
          "scatter": [
           {
            "marker": {
             "colorbar": {
              "outlinewidth": 0,
              "ticks": ""
             }
            },
            "type": "scatter"
           }
          ],
          "scatter3d": [
           {
            "line": {
             "colorbar": {
              "outlinewidth": 0,
              "ticks": ""
             }
            },
            "marker": {
             "colorbar": {
              "outlinewidth": 0,
              "ticks": ""
             }
            },
            "type": "scatter3d"
           }
          ],
          "scattercarpet": [
           {
            "marker": {
             "colorbar": {
              "outlinewidth": 0,
              "ticks": ""
             }
            },
            "type": "scattercarpet"
           }
          ],
          "scattergeo": [
           {
            "marker": {
             "colorbar": {
              "outlinewidth": 0,
              "ticks": ""
             }
            },
            "type": "scattergeo"
           }
          ],
          "scattergl": [
           {
            "marker": {
             "colorbar": {
              "outlinewidth": 0,
              "ticks": ""
             }
            },
            "type": "scattergl"
           }
          ],
          "scattermapbox": [
           {
            "marker": {
             "colorbar": {
              "outlinewidth": 0,
              "ticks": ""
             }
            },
            "type": "scattermapbox"
           }
          ],
          "scatterpolar": [
           {
            "marker": {
             "colorbar": {
              "outlinewidth": 0,
              "ticks": ""
             }
            },
            "type": "scatterpolar"
           }
          ],
          "scatterpolargl": [
           {
            "marker": {
             "colorbar": {
              "outlinewidth": 0,
              "ticks": ""
             }
            },
            "type": "scatterpolargl"
           }
          ],
          "scatterternary": [
           {
            "marker": {
             "colorbar": {
              "outlinewidth": 0,
              "ticks": ""
             }
            },
            "type": "scatterternary"
           }
          ],
          "surface": [
           {
            "colorbar": {
             "outlinewidth": 0,
             "ticks": ""
            },
            "colorscale": [
             [
              0,
              "#0d0887"
             ],
             [
              0.1111111111111111,
              "#46039f"
             ],
             [
              0.2222222222222222,
              "#7201a8"
             ],
             [
              0.3333333333333333,
              "#9c179e"
             ],
             [
              0.4444444444444444,
              "#bd3786"
             ],
             [
              0.5555555555555556,
              "#d8576b"
             ],
             [
              0.6666666666666666,
              "#ed7953"
             ],
             [
              0.7777777777777778,
              "#fb9f3a"
             ],
             [
              0.8888888888888888,
              "#fdca26"
             ],
             [
              1,
              "#f0f921"
             ]
            ],
            "type": "surface"
           }
          ],
          "table": [
           {
            "cells": {
             "fill": {
              "color": "#EBF0F8"
             },
             "line": {
              "color": "white"
             }
            },
            "header": {
             "fill": {
              "color": "#C8D4E3"
             },
             "line": {
              "color": "white"
             }
            },
            "type": "table"
           }
          ]
         },
         "layout": {
          "annotationdefaults": {
           "arrowcolor": "#2a3f5f",
           "arrowhead": 0,
           "arrowwidth": 1
          },
          "autotypenumbers": "strict",
          "coloraxis": {
           "colorbar": {
            "outlinewidth": 0,
            "ticks": ""
           }
          },
          "colorscale": {
           "diverging": [
            [
             0,
             "#8e0152"
            ],
            [
             0.1,
             "#c51b7d"
            ],
            [
             0.2,
             "#de77ae"
            ],
            [
             0.3,
             "#f1b6da"
            ],
            [
             0.4,
             "#fde0ef"
            ],
            [
             0.5,
             "#f7f7f7"
            ],
            [
             0.6,
             "#e6f5d0"
            ],
            [
             0.7,
             "#b8e186"
            ],
            [
             0.8,
             "#7fbc41"
            ],
            [
             0.9,
             "#4d9221"
            ],
            [
             1,
             "#276419"
            ]
           ],
           "sequential": [
            [
             0,
             "#0d0887"
            ],
            [
             0.1111111111111111,
             "#46039f"
            ],
            [
             0.2222222222222222,
             "#7201a8"
            ],
            [
             0.3333333333333333,
             "#9c179e"
            ],
            [
             0.4444444444444444,
             "#bd3786"
            ],
            [
             0.5555555555555556,
             "#d8576b"
            ],
            [
             0.6666666666666666,
             "#ed7953"
            ],
            [
             0.7777777777777778,
             "#fb9f3a"
            ],
            [
             0.8888888888888888,
             "#fdca26"
            ],
            [
             1,
             "#f0f921"
            ]
           ],
           "sequentialminus": [
            [
             0,
             "#0d0887"
            ],
            [
             0.1111111111111111,
             "#46039f"
            ],
            [
             0.2222222222222222,
             "#7201a8"
            ],
            [
             0.3333333333333333,
             "#9c179e"
            ],
            [
             0.4444444444444444,
             "#bd3786"
            ],
            [
             0.5555555555555556,
             "#d8576b"
            ],
            [
             0.6666666666666666,
             "#ed7953"
            ],
            [
             0.7777777777777778,
             "#fb9f3a"
            ],
            [
             0.8888888888888888,
             "#fdca26"
            ],
            [
             1,
             "#f0f921"
            ]
           ]
          },
          "colorway": [
           "#636efa",
           "#EF553B",
           "#00cc96",
           "#ab63fa",
           "#FFA15A",
           "#19d3f3",
           "#FF6692",
           "#B6E880",
           "#FF97FF",
           "#FECB52"
          ],
          "font": {
           "color": "#2a3f5f"
          },
          "geo": {
           "bgcolor": "white",
           "lakecolor": "white",
           "landcolor": "white",
           "showlakes": true,
           "showland": true,
           "subunitcolor": "#C8D4E3"
          },
          "hoverlabel": {
           "align": "left"
          },
          "hovermode": "closest",
          "mapbox": {
           "style": "light"
          },
          "paper_bgcolor": "white",
          "plot_bgcolor": "white",
          "polar": {
           "angularaxis": {
            "gridcolor": "#EBF0F8",
            "linecolor": "#EBF0F8",
            "ticks": ""
           },
           "bgcolor": "white",
           "radialaxis": {
            "gridcolor": "#EBF0F8",
            "linecolor": "#EBF0F8",
            "ticks": ""
           }
          },
          "scene": {
           "xaxis": {
            "backgroundcolor": "white",
            "gridcolor": "#DFE8F3",
            "gridwidth": 2,
            "linecolor": "#EBF0F8",
            "showbackground": true,
            "ticks": "",
            "zerolinecolor": "#EBF0F8"
           },
           "yaxis": {
            "backgroundcolor": "white",
            "gridcolor": "#DFE8F3",
            "gridwidth": 2,
            "linecolor": "#EBF0F8",
            "showbackground": true,
            "ticks": "",
            "zerolinecolor": "#EBF0F8"
           },
           "zaxis": {
            "backgroundcolor": "white",
            "gridcolor": "#DFE8F3",
            "gridwidth": 2,
            "linecolor": "#EBF0F8",
            "showbackground": true,
            "ticks": "",
            "zerolinecolor": "#EBF0F8"
           }
          },
          "shapedefaults": {
           "line": {
            "color": "#2a3f5f"
           }
          },
          "ternary": {
           "aaxis": {
            "gridcolor": "#DFE8F3",
            "linecolor": "#A2B1C6",
            "ticks": ""
           },
           "baxis": {
            "gridcolor": "#DFE8F3",
            "linecolor": "#A2B1C6",
            "ticks": ""
           },
           "bgcolor": "white",
           "caxis": {
            "gridcolor": "#DFE8F3",
            "linecolor": "#A2B1C6",
            "ticks": ""
           }
          },
          "title": {
           "x": 0.05
          },
          "xaxis": {
           "automargin": true,
           "gridcolor": "#EBF0F8",
           "linecolor": "#EBF0F8",
           "ticks": "",
           "title": {
            "standoff": 15
           },
           "zerolinecolor": "#EBF0F8",
           "zerolinewidth": 2
          },
          "yaxis": {
           "automargin": true,
           "gridcolor": "#EBF0F8",
           "linecolor": "#EBF0F8",
           "ticks": "",
           "title": {
            "standoff": 15
           },
           "zerolinecolor": "#EBF0F8",
           "zerolinewidth": 2
          }
         }
        },
        "title": {
         "text": "Visual Evidence of a Discontinuity in Vote Share"
        },
        "xaxis": {
         "anchor": "y",
         "domain": [
          0,
          1
         ],
         "title": {
          "text": "Democrat's margin of victory at time t"
         }
        },
        "yaxis": {
         "anchor": "x",
         "domain": [
          0,
          1
         ],
         "title": {
          "text": "Democrat's vote share at time t+1"
         }
        }
       }
      },
      "text/html": [
       "<div>                            <div id=\"c730c191-e769-41ce-890a-1c13ee74bae9\" class=\"plotly-graph-div\" style=\"height:525px; width:100%;\"></div>            <script type=\"text/javascript\">                require([\"plotly\"], function(Plotly) {                    window.PLOTLYENV=window.PLOTLYENV || {};                                    if (document.getElementById(\"c730c191-e769-41ce-890a-1c13ee74bae9\")) {                    Plotly.newPlot(                        \"c730c191-e769-41ce-890a-1c13ee74bae9\",                        [{\"hovertemplate\": \"Democrat's margin of victory at time t=%{x}<br>Democrat's vote share at time t+1=%{y}<extra></extra>\", \"legendgroup\": \"\", \"marker\": {\"color\": \"#636efa\", \"symbol\": \"circle\"}, \"mode\": \"markers\", \"name\": \"\", \"orientation\": \"v\", \"showlegend\": false, \"type\": \"scatter\", \"x\": [-85.0, -80.0, -77.0, -74.33333333333333, -70.2, -68.0, -66.25, -64.0, -62.0, -60.15384615384615, -58.23809523809524, -56.13636363636363, -54.208333333333336, -52.14705882352941, -50.292682926829265, -48.19230769230769, -46.2289156626506, -44.21739130434783, -42.160493827160494, -40.20779220779221, -38.20238095238095, -36.189189189189186, -34.141843971631204, -32.1937984496124, -30.12837837837838, -28.18, -26.121794871794872, -24.18709677419355, -22.17721518987342, -20.20138888888889, -18.14516129032258, -16.24137931034483, -14.174863387978142, -12.195652173913043, -10.131868131868131, -8.166666666666666, -6.218390804597701, -4.161676646706587, -2.111801242236025, -0.18354430379746836, 1.813793103448276, 3.82122905027933, 5.832298136645963, 7.818181818181818, 9.822695035460994, 11.837209302325581, 13.811188811188812, 15.793388429752065, 17.766233766233768, 19.846153846153847, 21.81756756756757, 23.74264705882353, 25.765625, 27.818840579710145, 29.775193798449614, 31.835616438356166, 33.77372262773723, 35.810344827586206, 37.78181818181818, 39.733870967741936, 41.842592592592595, 43.83076923076923, 45.835443037974684, 47.76470588235294, 49.76923076923077, 51.9, 53.69230769230769, 55.70967741935484, 57.75, 59.74074074074074, 61.625, 63.84782608695652, 65.6923076923077, 67.67567567567568, 69.91428571428571, 71.8, 73.83333333333333, 75.67647058823529, 77.74074074074075, 79.63636363636364, 81.80952380952381, 83.71428571428571, 85.66666666666667, 88.0, 89.92857142857143, 92.0, 93.94117647058823, 95.89473684210526, 97.86363636363636], \"xaxis\": \"x\", \"y\": [25.0, 44.0, null, 21.666666666666668, 15.8, 17.0, 22.0, 30.0, 25.4, 30.166666666666668, 29.22222222222222, 30.857142857142858, 28.666666666666668, 31.966666666666665, 32.0, 32.28, 34.21333333333333, 33.088235294117645, 33.58227848101266, 34.578947368421055, 35.963855421686745, 36.79047619047619, 35.67391304347826, 37.9349593495935, 37.66206896551724, 38.36054421768708, 38.6078431372549, 38.88961038961039, 40.00636942675159, 40.13475177304964, 40.650273224043715, 41.263888888888886, 40.93296089385475, 42.86813186813187, 42.28888888888889, 42.590062111801245, 44.36842105263158, 43.7289156626506, 45.78709677419355, 45.901315789473685, 53.9375, 55.64367816091954, 57.0251572327044, 57.1, 57.98529411764706, 58.951219512195124, 57.85507246376812, 59.376068376068375, 59.054794520547944, 61.8515625, 61.201438848920866, 63.89393939393939, 62.96031746031746, 66.02307692307693, 65.47540983606558, 64.72142857142858, 65.92, 66.37735849056604, 65.92079207920793, 68.31932773109244, 71.83838383838383, 69.125, 69.10526315789474, 71.58558558558559, 72.94845360824742, 76.32692307692308, 72.55737704918033, 75.64814814814815, 75.46153846153847, 77.56818181818181, 75.94594594594595, 75.86842105263158, 75.21875, 78.0, 80.64516129032258, 80.09375, 85.82352941176471, 81.03703703703704, 81.79166666666667, 78.04761904761905, 74.76470588235294, 83.82352941176471, 80.64285714285714, 79.3157894736842, 77.0, 87.6923076923077, 87.0, 90.16666666666667, 81.0], \"yaxis\": \"y\"}],                        {\"legend\": {\"tracegroupgap\": 0}, \"template\": {\"data\": {\"bar\": [{\"error_x\": {\"color\": \"#2a3f5f\"}, \"error_y\": {\"color\": \"#2a3f5f\"}, \"marker\": {\"line\": {\"color\": \"white\", \"width\": 0.5}}, \"type\": \"bar\"}], \"barpolar\": [{\"marker\": {\"line\": {\"color\": \"white\", \"width\": 0.5}}, \"type\": \"barpolar\"}], \"carpet\": [{\"aaxis\": {\"endlinecolor\": \"#2a3f5f\", \"gridcolor\": \"#C8D4E3\", \"linecolor\": \"#C8D4E3\", \"minorgridcolor\": \"#C8D4E3\", \"startlinecolor\": \"#2a3f5f\"}, \"baxis\": {\"endlinecolor\": \"#2a3f5f\", \"gridcolor\": \"#C8D4E3\", \"linecolor\": \"#C8D4E3\", \"minorgridcolor\": \"#C8D4E3\", \"startlinecolor\": \"#2a3f5f\"}, \"type\": \"carpet\"}], \"choropleth\": [{\"colorbar\": {\"outlinewidth\": 0, \"ticks\": \"\"}, \"type\": \"choropleth\"}], \"contour\": [{\"colorbar\": {\"outlinewidth\": 0, \"ticks\": \"\"}, \"colorscale\": [[0.0, \"#0d0887\"], [0.1111111111111111, \"#46039f\"], [0.2222222222222222, \"#7201a8\"], [0.3333333333333333, \"#9c179e\"], [0.4444444444444444, \"#bd3786\"], [0.5555555555555556, \"#d8576b\"], [0.6666666666666666, \"#ed7953\"], [0.7777777777777778, \"#fb9f3a\"], [0.8888888888888888, \"#fdca26\"], [1.0, \"#f0f921\"]], \"type\": \"contour\"}], \"contourcarpet\": [{\"colorbar\": {\"outlinewidth\": 0, \"ticks\": \"\"}, \"type\": \"contourcarpet\"}], \"heatmap\": [{\"colorbar\": {\"outlinewidth\": 0, \"ticks\": \"\"}, \"colorscale\": [[0.0, \"#0d0887\"], [0.1111111111111111, \"#46039f\"], [0.2222222222222222, \"#7201a8\"], [0.3333333333333333, \"#9c179e\"], [0.4444444444444444, \"#bd3786\"], [0.5555555555555556, \"#d8576b\"], [0.6666666666666666, \"#ed7953\"], [0.7777777777777778, \"#fb9f3a\"], [0.8888888888888888, \"#fdca26\"], [1.0, \"#f0f921\"]], \"type\": \"heatmap\"}], \"heatmapgl\": [{\"colorbar\": {\"outlinewidth\": 0, \"ticks\": \"\"}, \"colorscale\": [[0.0, \"#0d0887\"], [0.1111111111111111, \"#46039f\"], [0.2222222222222222, \"#7201a8\"], [0.3333333333333333, \"#9c179e\"], [0.4444444444444444, \"#bd3786\"], [0.5555555555555556, \"#d8576b\"], [0.6666666666666666, \"#ed7953\"], [0.7777777777777778, \"#fb9f3a\"], [0.8888888888888888, \"#fdca26\"], [1.0, \"#f0f921\"]], \"type\": \"heatmapgl\"}], \"histogram\": [{\"marker\": {\"colorbar\": {\"outlinewidth\": 0, \"ticks\": \"\"}}, \"type\": \"histogram\"}], \"histogram2d\": [{\"colorbar\": {\"outlinewidth\": 0, \"ticks\": \"\"}, \"colorscale\": [[0.0, \"#0d0887\"], [0.1111111111111111, \"#46039f\"], [0.2222222222222222, \"#7201a8\"], [0.3333333333333333, \"#9c179e\"], [0.4444444444444444, \"#bd3786\"], [0.5555555555555556, \"#d8576b\"], [0.6666666666666666, \"#ed7953\"], [0.7777777777777778, \"#fb9f3a\"], [0.8888888888888888, \"#fdca26\"], [1.0, \"#f0f921\"]], \"type\": \"histogram2d\"}], \"histogram2dcontour\": [{\"colorbar\": {\"outlinewidth\": 0, \"ticks\": \"\"}, \"colorscale\": [[0.0, \"#0d0887\"], [0.1111111111111111, \"#46039f\"], [0.2222222222222222, \"#7201a8\"], [0.3333333333333333, \"#9c179e\"], [0.4444444444444444, \"#bd3786\"], [0.5555555555555556, \"#d8576b\"], [0.6666666666666666, \"#ed7953\"], [0.7777777777777778, \"#fb9f3a\"], [0.8888888888888888, \"#fdca26\"], [1.0, \"#f0f921\"]], \"type\": \"histogram2dcontour\"}], \"mesh3d\": [{\"colorbar\": {\"outlinewidth\": 0, \"ticks\": \"\"}, \"type\": \"mesh3d\"}], \"parcoords\": [{\"line\": {\"colorbar\": {\"outlinewidth\": 0, \"ticks\": \"\"}}, \"type\": \"parcoords\"}], \"pie\": [{\"automargin\": true, \"type\": \"pie\"}], \"scatter\": [{\"marker\": {\"colorbar\": {\"outlinewidth\": 0, \"ticks\": \"\"}}, \"type\": \"scatter\"}], \"scatter3d\": [{\"line\": {\"colorbar\": {\"outlinewidth\": 0, \"ticks\": \"\"}}, \"marker\": {\"colorbar\": {\"outlinewidth\": 0, \"ticks\": \"\"}}, \"type\": \"scatter3d\"}], \"scattercarpet\": [{\"marker\": {\"colorbar\": {\"outlinewidth\": 0, \"ticks\": \"\"}}, \"type\": \"scattercarpet\"}], \"scattergeo\": [{\"marker\": {\"colorbar\": {\"outlinewidth\": 0, \"ticks\": \"\"}}, \"type\": \"scattergeo\"}], \"scattergl\": [{\"marker\": {\"colorbar\": {\"outlinewidth\": 0, \"ticks\": \"\"}}, \"type\": \"scattergl\"}], \"scattermapbox\": [{\"marker\": {\"colorbar\": {\"outlinewidth\": 0, \"ticks\": \"\"}}, \"type\": \"scattermapbox\"}], \"scatterpolar\": [{\"marker\": {\"colorbar\": {\"outlinewidth\": 0, \"ticks\": \"\"}}, \"type\": \"scatterpolar\"}], \"scatterpolargl\": [{\"marker\": {\"colorbar\": {\"outlinewidth\": 0, \"ticks\": \"\"}}, \"type\": \"scatterpolargl\"}], \"scatterternary\": [{\"marker\": {\"colorbar\": {\"outlinewidth\": 0, \"ticks\": \"\"}}, \"type\": \"scatterternary\"}], \"surface\": [{\"colorbar\": {\"outlinewidth\": 0, \"ticks\": \"\"}, \"colorscale\": [[0.0, \"#0d0887\"], [0.1111111111111111, \"#46039f\"], [0.2222222222222222, \"#7201a8\"], [0.3333333333333333, \"#9c179e\"], [0.4444444444444444, \"#bd3786\"], [0.5555555555555556, \"#d8576b\"], [0.6666666666666666, \"#ed7953\"], [0.7777777777777778, \"#fb9f3a\"], [0.8888888888888888, \"#fdca26\"], [1.0, \"#f0f921\"]], \"type\": \"surface\"}], \"table\": [{\"cells\": {\"fill\": {\"color\": \"#EBF0F8\"}, \"line\": {\"color\": \"white\"}}, \"header\": {\"fill\": {\"color\": \"#C8D4E3\"}, \"line\": {\"color\": \"white\"}}, \"type\": \"table\"}]}, \"layout\": {\"annotationdefaults\": {\"arrowcolor\": \"#2a3f5f\", \"arrowhead\": 0, \"arrowwidth\": 1}, \"autotypenumbers\": \"strict\", \"coloraxis\": {\"colorbar\": {\"outlinewidth\": 0, \"ticks\": \"\"}}, \"colorscale\": {\"diverging\": [[0, \"#8e0152\"], [0.1, \"#c51b7d\"], [0.2, \"#de77ae\"], [0.3, \"#f1b6da\"], [0.4, \"#fde0ef\"], [0.5, \"#f7f7f7\"], [0.6, \"#e6f5d0\"], [0.7, \"#b8e186\"], [0.8, \"#7fbc41\"], [0.9, \"#4d9221\"], [1, \"#276419\"]], \"sequential\": [[0.0, \"#0d0887\"], [0.1111111111111111, \"#46039f\"], [0.2222222222222222, \"#7201a8\"], [0.3333333333333333, \"#9c179e\"], [0.4444444444444444, \"#bd3786\"], [0.5555555555555556, \"#d8576b\"], [0.6666666666666666, \"#ed7953\"], [0.7777777777777778, \"#fb9f3a\"], [0.8888888888888888, \"#fdca26\"], [1.0, \"#f0f921\"]], \"sequentialminus\": [[0.0, \"#0d0887\"], [0.1111111111111111, \"#46039f\"], [0.2222222222222222, \"#7201a8\"], [0.3333333333333333, \"#9c179e\"], [0.4444444444444444, \"#bd3786\"], [0.5555555555555556, \"#d8576b\"], [0.6666666666666666, \"#ed7953\"], [0.7777777777777778, \"#fb9f3a\"], [0.8888888888888888, \"#fdca26\"], [1.0, \"#f0f921\"]]}, \"colorway\": [\"#636efa\", \"#EF553B\", \"#00cc96\", \"#ab63fa\", \"#FFA15A\", \"#19d3f3\", \"#FF6692\", \"#B6E880\", \"#FF97FF\", \"#FECB52\"], \"font\": {\"color\": \"#2a3f5f\"}, \"geo\": {\"bgcolor\": \"white\", \"lakecolor\": \"white\", \"landcolor\": \"white\", \"showlakes\": true, \"showland\": true, \"subunitcolor\": \"#C8D4E3\"}, \"hoverlabel\": {\"align\": \"left\"}, \"hovermode\": \"closest\", \"mapbox\": {\"style\": \"light\"}, \"paper_bgcolor\": \"white\", \"plot_bgcolor\": \"white\", \"polar\": {\"angularaxis\": {\"gridcolor\": \"#EBF0F8\", \"linecolor\": \"#EBF0F8\", \"ticks\": \"\"}, \"bgcolor\": \"white\", \"radialaxis\": {\"gridcolor\": \"#EBF0F8\", \"linecolor\": \"#EBF0F8\", \"ticks\": \"\"}}, \"scene\": {\"xaxis\": {\"backgroundcolor\": \"white\", \"gridcolor\": \"#DFE8F3\", \"gridwidth\": 2, \"linecolor\": \"#EBF0F8\", \"showbackground\": true, \"ticks\": \"\", \"zerolinecolor\": \"#EBF0F8\"}, \"yaxis\": {\"backgroundcolor\": \"white\", \"gridcolor\": \"#DFE8F3\", \"gridwidth\": 2, \"linecolor\": \"#EBF0F8\", \"showbackground\": true, \"ticks\": \"\", \"zerolinecolor\": \"#EBF0F8\"}, \"zaxis\": {\"backgroundcolor\": \"white\", \"gridcolor\": \"#DFE8F3\", \"gridwidth\": 2, \"linecolor\": \"#EBF0F8\", \"showbackground\": true, \"ticks\": \"\", \"zerolinecolor\": \"#EBF0F8\"}}, \"shapedefaults\": {\"line\": {\"color\": \"#2a3f5f\"}}, \"ternary\": {\"aaxis\": {\"gridcolor\": \"#DFE8F3\", \"linecolor\": \"#A2B1C6\", \"ticks\": \"\"}, \"baxis\": {\"gridcolor\": \"#DFE8F3\", \"linecolor\": \"#A2B1C6\", \"ticks\": \"\"}, \"bgcolor\": \"white\", \"caxis\": {\"gridcolor\": \"#DFE8F3\", \"linecolor\": \"#A2B1C6\", \"ticks\": \"\"}}, \"title\": {\"x\": 0.05}, \"xaxis\": {\"automargin\": true, \"gridcolor\": \"#EBF0F8\", \"linecolor\": \"#EBF0F8\", \"ticks\": \"\", \"title\": {\"standoff\": 15}, \"zerolinecolor\": \"#EBF0F8\", \"zerolinewidth\": 2}, \"yaxis\": {\"automargin\": true, \"gridcolor\": \"#EBF0F8\", \"linecolor\": \"#EBF0F8\", \"ticks\": \"\", \"title\": {\"standoff\": 15}, \"zerolinecolor\": \"#EBF0F8\", \"zerolinewidth\": 2}}}, \"title\": {\"text\": \"Visual Evidence of a Discontinuity in Vote Share\"}, \"xaxis\": {\"anchor\": \"y\", \"domain\": [0.0, 1.0], \"title\": {\"text\": \"Democrat's margin of victory at time t\"}}, \"yaxis\": {\"anchor\": \"x\", \"domain\": [0.0, 1.0], \"title\": {\"text\": \"Democrat's vote share at time t+1\"}}},                        {\"responsive\": true}                    ).then(function(){\n",
       "                            \n",
       "var gd = document.getElementById('c730c191-e769-41ce-890a-1c13ee74bae9');\n",
       "var x = new MutationObserver(function (mutations, observer) {{\n",
       "        var display = window.getComputedStyle(gd).display;\n",
       "        if (!display || display === 'none') {{\n",
       "            console.log([gd, 'removed!']);\n",
       "            Plotly.purge(gd);\n",
       "            observer.disconnect();\n",
       "        }}\n",
       "}});\n",
       "\n",
       "// Listen for the removal of the full notebook cells\n",
       "var notebookContainer = gd.closest('#notebook-container');\n",
       "if (notebookContainer) {{\n",
       "    x.observe(notebookContainer, {childList: true});\n",
       "}}\n",
       "\n",
       "// Listen for the clearing of the current output cell\n",
       "var outputEl = gd.closest('.output');\n",
       "if (outputEl) {{\n",
       "    x.observe(outputEl, {childList: true});\n",
       "}}\n",
       "\n",
       "                        })                };                });            </script>        </div>"
      ]
     },
     "metadata": {},
     "output_type": "display_data"
    }
   ],
   "source": [
    "# Plot Democratic share at t+1 over Dem margin at t\n",
    "px.scatter(binned_data, x='margin', y='dem_share_p1',\n",
    "           title='Visual Evidence of a Discontinuity in Vote Share',\n",
    "           labels={'margin':\"Democrat's margin of victory at time t\",\n",
    "                   'dem_share_p1': \"Democrat's vote share at time t+1\"},\n",
    "           template=\"plotly_white\")"
   ]
  },
  {
   "cell_type": "code",
   "execution_count": 54,
   "metadata": {},
   "outputs": [
    {
     "data": {
      "application/vnd.plotly.v1+json": {
       "config": {
        "plotlyServerURL": "https://plot.ly"
       },
       "data": [
        {
         "hovertemplate": "Democrat's margin of victory at time t=%{x}<br>Democrat's probability of victory time t+1=%{y}<extra></extra>",
         "legendgroup": "",
         "marker": {
          "color": "#636efa",
          "symbol": "circle"
         },
         "mode": "markers",
         "name": "",
         "orientation": "v",
         "showlegend": false,
         "type": "scatter",
         "x": [
          -85,
          -80,
          -77,
          -74.33333333333333,
          -70.2,
          -68,
          -66.25,
          -64,
          -62,
          -60.15384615384615,
          -58.23809523809524,
          -56.13636363636363,
          -54.208333333333336,
          -52.14705882352941,
          -50.292682926829265,
          -48.19230769230769,
          -46.2289156626506,
          -44.21739130434783,
          -42.160493827160494,
          -40.20779220779221,
          -38.20238095238095,
          -36.189189189189186,
          -34.141843971631204,
          -32.1937984496124,
          -30.12837837837838,
          -28.18,
          -26.121794871794872,
          -24.18709677419355,
          -22.17721518987342,
          -20.20138888888889,
          -18.14516129032258,
          -16.24137931034483,
          -14.174863387978142,
          -12.195652173913043,
          -10.131868131868131,
          -8.166666666666666,
          -6.218390804597701,
          -4.161676646706587,
          -2.111801242236025,
          -0.18354430379746836,
          1.813793103448276,
          3.82122905027933,
          5.832298136645963,
          7.818181818181818,
          9.822695035460994,
          11.837209302325581,
          13.811188811188812,
          15.793388429752065,
          17.766233766233768,
          19.846153846153847,
          21.81756756756757,
          23.74264705882353,
          25.765625,
          27.818840579710145,
          29.775193798449614,
          31.835616438356166,
          33.77372262773723,
          35.810344827586206,
          37.78181818181818,
          39.733870967741936,
          41.842592592592595,
          43.83076923076923,
          45.835443037974684,
          47.76470588235294,
          49.76923076923077,
          51.9,
          53.69230769230769,
          55.70967741935484,
          57.75,
          59.74074074074074,
          61.625,
          63.84782608695652,
          65.6923076923077,
          67.67567567567568,
          69.91428571428571,
          71.8,
          73.83333333333333,
          75.67647058823529,
          77.74074074074075,
          79.63636363636364,
          81.80952380952381,
          83.71428571428571,
          85.66666666666667,
          88,
          89.92857142857143,
          92,
          93.94117647058823,
          95.89473684210526,
          97.86363636363636
         ],
         "xaxis": "x",
         "y": [
          0,
          0,
          1,
          0,
          0,
          0,
          0,
          0,
          0,
          0.07692307692307693,
          0.047619047619047616,
          0.09090909090909091,
          0,
          0.09090909090909091,
          0.05128205128205128,
          0.057692307692307696,
          0.07407407407407407,
          0.014705882352941176,
          0.037037037037037035,
          0.05194805194805195,
          0.060240963855421686,
          0.10810810810810811,
          0.04285714285714286,
          0.125,
          0.08108108108108109,
          0.08108108108108109,
          0.07096774193548387,
          0.05806451612903226,
          0.10828025477707007,
          0.07746478873239436,
          0.1358695652173913,
          0.14583333333333334,
          0.14835164835164835,
          0.17032967032967034,
          0.16666666666666666,
          0.18633540372670807,
          0.28901734104046245,
          0.2155688622754491,
          0.30128205128205127,
          0.4444444444444444,
          0.6527777777777778,
          0.7272727272727273,
          0.75625,
          0.8251748251748252,
          0.8571428571428571,
          0.875,
          0.8848920863309353,
          0.8907563025210085,
          0.9072847682119205,
          0.9538461538461539,
          0.8986486486486487,
          0.9037037037037037,
          0.96875,
          0.9562043795620438,
          0.8914728682170543,
          0.9448275862068966,
          0.9097744360902256,
          0.9557522123893806,
          0.9433962264150944,
          0.9349593495934959,
          0.9813084112149533,
          0.953125,
          0.9487179487179487,
          0.9576271186440678,
          0.9805825242718447,
          1,
          0.9692307692307692,
          0.9838709677419355,
          0.9491525423728814,
          1,
          0.95,
          0.9565217391304348,
          0.9459459459459459,
          0.918918918918919,
          1,
          0.9428571428571428,
          1,
          0.9705882352941176,
          1,
          0.9545454545454546,
          1,
          1,
          0.9523809523809523,
          0.96,
          0.9285714285714286,
          1,
          1,
          1,
          0.9090909090909091
         ],
         "yaxis": "y"
        }
       ],
       "layout": {
        "legend": {
         "tracegroupgap": 0
        },
        "template": {
         "data": {
          "bar": [
           {
            "error_x": {
             "color": "#2a3f5f"
            },
            "error_y": {
             "color": "#2a3f5f"
            },
            "marker": {
             "line": {
              "color": "white",
              "width": 0.5
             }
            },
            "type": "bar"
           }
          ],
          "barpolar": [
           {
            "marker": {
             "line": {
              "color": "white",
              "width": 0.5
             }
            },
            "type": "barpolar"
           }
          ],
          "carpet": [
           {
            "aaxis": {
             "endlinecolor": "#2a3f5f",
             "gridcolor": "#C8D4E3",
             "linecolor": "#C8D4E3",
             "minorgridcolor": "#C8D4E3",
             "startlinecolor": "#2a3f5f"
            },
            "baxis": {
             "endlinecolor": "#2a3f5f",
             "gridcolor": "#C8D4E3",
             "linecolor": "#C8D4E3",
             "minorgridcolor": "#C8D4E3",
             "startlinecolor": "#2a3f5f"
            },
            "type": "carpet"
           }
          ],
          "choropleth": [
           {
            "colorbar": {
             "outlinewidth": 0,
             "ticks": ""
            },
            "type": "choropleth"
           }
          ],
          "contour": [
           {
            "colorbar": {
             "outlinewidth": 0,
             "ticks": ""
            },
            "colorscale": [
             [
              0,
              "#0d0887"
             ],
             [
              0.1111111111111111,
              "#46039f"
             ],
             [
              0.2222222222222222,
              "#7201a8"
             ],
             [
              0.3333333333333333,
              "#9c179e"
             ],
             [
              0.4444444444444444,
              "#bd3786"
             ],
             [
              0.5555555555555556,
              "#d8576b"
             ],
             [
              0.6666666666666666,
              "#ed7953"
             ],
             [
              0.7777777777777778,
              "#fb9f3a"
             ],
             [
              0.8888888888888888,
              "#fdca26"
             ],
             [
              1,
              "#f0f921"
             ]
            ],
            "type": "contour"
           }
          ],
          "contourcarpet": [
           {
            "colorbar": {
             "outlinewidth": 0,
             "ticks": ""
            },
            "type": "contourcarpet"
           }
          ],
          "heatmap": [
           {
            "colorbar": {
             "outlinewidth": 0,
             "ticks": ""
            },
            "colorscale": [
             [
              0,
              "#0d0887"
             ],
             [
              0.1111111111111111,
              "#46039f"
             ],
             [
              0.2222222222222222,
              "#7201a8"
             ],
             [
              0.3333333333333333,
              "#9c179e"
             ],
             [
              0.4444444444444444,
              "#bd3786"
             ],
             [
              0.5555555555555556,
              "#d8576b"
             ],
             [
              0.6666666666666666,
              "#ed7953"
             ],
             [
              0.7777777777777778,
              "#fb9f3a"
             ],
             [
              0.8888888888888888,
              "#fdca26"
             ],
             [
              1,
              "#f0f921"
             ]
            ],
            "type": "heatmap"
           }
          ],
          "heatmapgl": [
           {
            "colorbar": {
             "outlinewidth": 0,
             "ticks": ""
            },
            "colorscale": [
             [
              0,
              "#0d0887"
             ],
             [
              0.1111111111111111,
              "#46039f"
             ],
             [
              0.2222222222222222,
              "#7201a8"
             ],
             [
              0.3333333333333333,
              "#9c179e"
             ],
             [
              0.4444444444444444,
              "#bd3786"
             ],
             [
              0.5555555555555556,
              "#d8576b"
             ],
             [
              0.6666666666666666,
              "#ed7953"
             ],
             [
              0.7777777777777778,
              "#fb9f3a"
             ],
             [
              0.8888888888888888,
              "#fdca26"
             ],
             [
              1,
              "#f0f921"
             ]
            ],
            "type": "heatmapgl"
           }
          ],
          "histogram": [
           {
            "marker": {
             "colorbar": {
              "outlinewidth": 0,
              "ticks": ""
             }
            },
            "type": "histogram"
           }
          ],
          "histogram2d": [
           {
            "colorbar": {
             "outlinewidth": 0,
             "ticks": ""
            },
            "colorscale": [
             [
              0,
              "#0d0887"
             ],
             [
              0.1111111111111111,
              "#46039f"
             ],
             [
              0.2222222222222222,
              "#7201a8"
             ],
             [
              0.3333333333333333,
              "#9c179e"
             ],
             [
              0.4444444444444444,
              "#bd3786"
             ],
             [
              0.5555555555555556,
              "#d8576b"
             ],
             [
              0.6666666666666666,
              "#ed7953"
             ],
             [
              0.7777777777777778,
              "#fb9f3a"
             ],
             [
              0.8888888888888888,
              "#fdca26"
             ],
             [
              1,
              "#f0f921"
             ]
            ],
            "type": "histogram2d"
           }
          ],
          "histogram2dcontour": [
           {
            "colorbar": {
             "outlinewidth": 0,
             "ticks": ""
            },
            "colorscale": [
             [
              0,
              "#0d0887"
             ],
             [
              0.1111111111111111,
              "#46039f"
             ],
             [
              0.2222222222222222,
              "#7201a8"
             ],
             [
              0.3333333333333333,
              "#9c179e"
             ],
             [
              0.4444444444444444,
              "#bd3786"
             ],
             [
              0.5555555555555556,
              "#d8576b"
             ],
             [
              0.6666666666666666,
              "#ed7953"
             ],
             [
              0.7777777777777778,
              "#fb9f3a"
             ],
             [
              0.8888888888888888,
              "#fdca26"
             ],
             [
              1,
              "#f0f921"
             ]
            ],
            "type": "histogram2dcontour"
           }
          ],
          "mesh3d": [
           {
            "colorbar": {
             "outlinewidth": 0,
             "ticks": ""
            },
            "type": "mesh3d"
           }
          ],
          "parcoords": [
           {
            "line": {
             "colorbar": {
              "outlinewidth": 0,
              "ticks": ""
             }
            },
            "type": "parcoords"
           }
          ],
          "pie": [
           {
            "automargin": true,
            "type": "pie"
           }
          ],
          "scatter": [
           {
            "marker": {
             "colorbar": {
              "outlinewidth": 0,
              "ticks": ""
             }
            },
            "type": "scatter"
           }
          ],
          "scatter3d": [
           {
            "line": {
             "colorbar": {
              "outlinewidth": 0,
              "ticks": ""
             }
            },
            "marker": {
             "colorbar": {
              "outlinewidth": 0,
              "ticks": ""
             }
            },
            "type": "scatter3d"
           }
          ],
          "scattercarpet": [
           {
            "marker": {
             "colorbar": {
              "outlinewidth": 0,
              "ticks": ""
             }
            },
            "type": "scattercarpet"
           }
          ],
          "scattergeo": [
           {
            "marker": {
             "colorbar": {
              "outlinewidth": 0,
              "ticks": ""
             }
            },
            "type": "scattergeo"
           }
          ],
          "scattergl": [
           {
            "marker": {
             "colorbar": {
              "outlinewidth": 0,
              "ticks": ""
             }
            },
            "type": "scattergl"
           }
          ],
          "scattermapbox": [
           {
            "marker": {
             "colorbar": {
              "outlinewidth": 0,
              "ticks": ""
             }
            },
            "type": "scattermapbox"
           }
          ],
          "scatterpolar": [
           {
            "marker": {
             "colorbar": {
              "outlinewidth": 0,
              "ticks": ""
             }
            },
            "type": "scatterpolar"
           }
          ],
          "scatterpolargl": [
           {
            "marker": {
             "colorbar": {
              "outlinewidth": 0,
              "ticks": ""
             }
            },
            "type": "scatterpolargl"
           }
          ],
          "scatterternary": [
           {
            "marker": {
             "colorbar": {
              "outlinewidth": 0,
              "ticks": ""
             }
            },
            "type": "scatterternary"
           }
          ],
          "surface": [
           {
            "colorbar": {
             "outlinewidth": 0,
             "ticks": ""
            },
            "colorscale": [
             [
              0,
              "#0d0887"
             ],
             [
              0.1111111111111111,
              "#46039f"
             ],
             [
              0.2222222222222222,
              "#7201a8"
             ],
             [
              0.3333333333333333,
              "#9c179e"
             ],
             [
              0.4444444444444444,
              "#bd3786"
             ],
             [
              0.5555555555555556,
              "#d8576b"
             ],
             [
              0.6666666666666666,
              "#ed7953"
             ],
             [
              0.7777777777777778,
              "#fb9f3a"
             ],
             [
              0.8888888888888888,
              "#fdca26"
             ],
             [
              1,
              "#f0f921"
             ]
            ],
            "type": "surface"
           }
          ],
          "table": [
           {
            "cells": {
             "fill": {
              "color": "#EBF0F8"
             },
             "line": {
              "color": "white"
             }
            },
            "header": {
             "fill": {
              "color": "#C8D4E3"
             },
             "line": {
              "color": "white"
             }
            },
            "type": "table"
           }
          ]
         },
         "layout": {
          "annotationdefaults": {
           "arrowcolor": "#2a3f5f",
           "arrowhead": 0,
           "arrowwidth": 1
          },
          "autotypenumbers": "strict",
          "coloraxis": {
           "colorbar": {
            "outlinewidth": 0,
            "ticks": ""
           }
          },
          "colorscale": {
           "diverging": [
            [
             0,
             "#8e0152"
            ],
            [
             0.1,
             "#c51b7d"
            ],
            [
             0.2,
             "#de77ae"
            ],
            [
             0.3,
             "#f1b6da"
            ],
            [
             0.4,
             "#fde0ef"
            ],
            [
             0.5,
             "#f7f7f7"
            ],
            [
             0.6,
             "#e6f5d0"
            ],
            [
             0.7,
             "#b8e186"
            ],
            [
             0.8,
             "#7fbc41"
            ],
            [
             0.9,
             "#4d9221"
            ],
            [
             1,
             "#276419"
            ]
           ],
           "sequential": [
            [
             0,
             "#0d0887"
            ],
            [
             0.1111111111111111,
             "#46039f"
            ],
            [
             0.2222222222222222,
             "#7201a8"
            ],
            [
             0.3333333333333333,
             "#9c179e"
            ],
            [
             0.4444444444444444,
             "#bd3786"
            ],
            [
             0.5555555555555556,
             "#d8576b"
            ],
            [
             0.6666666666666666,
             "#ed7953"
            ],
            [
             0.7777777777777778,
             "#fb9f3a"
            ],
            [
             0.8888888888888888,
             "#fdca26"
            ],
            [
             1,
             "#f0f921"
            ]
           ],
           "sequentialminus": [
            [
             0,
             "#0d0887"
            ],
            [
             0.1111111111111111,
             "#46039f"
            ],
            [
             0.2222222222222222,
             "#7201a8"
            ],
            [
             0.3333333333333333,
             "#9c179e"
            ],
            [
             0.4444444444444444,
             "#bd3786"
            ],
            [
             0.5555555555555556,
             "#d8576b"
            ],
            [
             0.6666666666666666,
             "#ed7953"
            ],
            [
             0.7777777777777778,
             "#fb9f3a"
            ],
            [
             0.8888888888888888,
             "#fdca26"
            ],
            [
             1,
             "#f0f921"
            ]
           ]
          },
          "colorway": [
           "#636efa",
           "#EF553B",
           "#00cc96",
           "#ab63fa",
           "#FFA15A",
           "#19d3f3",
           "#FF6692",
           "#B6E880",
           "#FF97FF",
           "#FECB52"
          ],
          "font": {
           "color": "#2a3f5f"
          },
          "geo": {
           "bgcolor": "white",
           "lakecolor": "white",
           "landcolor": "white",
           "showlakes": true,
           "showland": true,
           "subunitcolor": "#C8D4E3"
          },
          "hoverlabel": {
           "align": "left"
          },
          "hovermode": "closest",
          "mapbox": {
           "style": "light"
          },
          "paper_bgcolor": "white",
          "plot_bgcolor": "white",
          "polar": {
           "angularaxis": {
            "gridcolor": "#EBF0F8",
            "linecolor": "#EBF0F8",
            "ticks": ""
           },
           "bgcolor": "white",
           "radialaxis": {
            "gridcolor": "#EBF0F8",
            "linecolor": "#EBF0F8",
            "ticks": ""
           }
          },
          "scene": {
           "xaxis": {
            "backgroundcolor": "white",
            "gridcolor": "#DFE8F3",
            "gridwidth": 2,
            "linecolor": "#EBF0F8",
            "showbackground": true,
            "ticks": "",
            "zerolinecolor": "#EBF0F8"
           },
           "yaxis": {
            "backgroundcolor": "white",
            "gridcolor": "#DFE8F3",
            "gridwidth": 2,
            "linecolor": "#EBF0F8",
            "showbackground": true,
            "ticks": "",
            "zerolinecolor": "#EBF0F8"
           },
           "zaxis": {
            "backgroundcolor": "white",
            "gridcolor": "#DFE8F3",
            "gridwidth": 2,
            "linecolor": "#EBF0F8",
            "showbackground": true,
            "ticks": "",
            "zerolinecolor": "#EBF0F8"
           }
          },
          "shapedefaults": {
           "line": {
            "color": "#2a3f5f"
           }
          },
          "ternary": {
           "aaxis": {
            "gridcolor": "#DFE8F3",
            "linecolor": "#A2B1C6",
            "ticks": ""
           },
           "baxis": {
            "gridcolor": "#DFE8F3",
            "linecolor": "#A2B1C6",
            "ticks": ""
           },
           "bgcolor": "white",
           "caxis": {
            "gridcolor": "#DFE8F3",
            "linecolor": "#A2B1C6",
            "ticks": ""
           }
          },
          "title": {
           "x": 0.05
          },
          "xaxis": {
           "automargin": true,
           "gridcolor": "#EBF0F8",
           "linecolor": "#EBF0F8",
           "ticks": "",
           "title": {
            "standoff": 15
           },
           "zerolinecolor": "#EBF0F8",
           "zerolinewidth": 2
          },
          "yaxis": {
           "automargin": true,
           "gridcolor": "#EBF0F8",
           "linecolor": "#EBF0F8",
           "ticks": "",
           "title": {
            "standoff": 15
           },
           "zerolinecolor": "#EBF0F8",
           "zerolinewidth": 2
          }
         }
        },
        "title": {
         "text": "Visual Evidence of a Discontinuity in Vote Share"
        },
        "xaxis": {
         "anchor": "y",
         "domain": [
          0,
          1
         ],
         "title": {
          "text": "Democrat's margin of victory at time t"
         }
        },
        "yaxis": {
         "anchor": "x",
         "domain": [
          0,
          1
         ],
         "title": {
          "text": "Democrat's probability of victory time t+1"
         }
        }
       }
      },
      "text/html": [
       "<div>                            <div id=\"1eb60e0e-d84a-4625-9458-31b0134d773d\" class=\"plotly-graph-div\" style=\"height:525px; width:100%;\"></div>            <script type=\"text/javascript\">                require([\"plotly\"], function(Plotly) {                    window.PLOTLYENV=window.PLOTLYENV || {};                                    if (document.getElementById(\"1eb60e0e-d84a-4625-9458-31b0134d773d\")) {                    Plotly.newPlot(                        \"1eb60e0e-d84a-4625-9458-31b0134d773d\",                        [{\"hovertemplate\": \"Democrat's margin of victory at time t=%{x}<br>Democrat's probability of victory time t+1=%{y}<extra></extra>\", \"legendgroup\": \"\", \"marker\": {\"color\": \"#636efa\", \"symbol\": \"circle\"}, \"mode\": \"markers\", \"name\": \"\", \"orientation\": \"v\", \"showlegend\": false, \"type\": \"scatter\", \"x\": [-85.0, -80.0, -77.0, -74.33333333333333, -70.2, -68.0, -66.25, -64.0, -62.0, -60.15384615384615, -58.23809523809524, -56.13636363636363, -54.208333333333336, -52.14705882352941, -50.292682926829265, -48.19230769230769, -46.2289156626506, -44.21739130434783, -42.160493827160494, -40.20779220779221, -38.20238095238095, -36.189189189189186, -34.141843971631204, -32.1937984496124, -30.12837837837838, -28.18, -26.121794871794872, -24.18709677419355, -22.17721518987342, -20.20138888888889, -18.14516129032258, -16.24137931034483, -14.174863387978142, -12.195652173913043, -10.131868131868131, -8.166666666666666, -6.218390804597701, -4.161676646706587, -2.111801242236025, -0.18354430379746836, 1.813793103448276, 3.82122905027933, 5.832298136645963, 7.818181818181818, 9.822695035460994, 11.837209302325581, 13.811188811188812, 15.793388429752065, 17.766233766233768, 19.846153846153847, 21.81756756756757, 23.74264705882353, 25.765625, 27.818840579710145, 29.775193798449614, 31.835616438356166, 33.77372262773723, 35.810344827586206, 37.78181818181818, 39.733870967741936, 41.842592592592595, 43.83076923076923, 45.835443037974684, 47.76470588235294, 49.76923076923077, 51.9, 53.69230769230769, 55.70967741935484, 57.75, 59.74074074074074, 61.625, 63.84782608695652, 65.6923076923077, 67.67567567567568, 69.91428571428571, 71.8, 73.83333333333333, 75.67647058823529, 77.74074074074075, 79.63636363636364, 81.80952380952381, 83.71428571428571, 85.66666666666667, 88.0, 89.92857142857143, 92.0, 93.94117647058823, 95.89473684210526, 97.86363636363636], \"xaxis\": \"x\", \"y\": [0.0, 0.0, 1.0, 0.0, 0.0, 0.0, 0.0, 0.0, 0.0, 0.07692307692307693, 0.047619047619047616, 0.09090909090909091, 0.0, 0.09090909090909091, 0.05128205128205128, 0.057692307692307696, 0.07407407407407407, 0.014705882352941176, 0.037037037037037035, 0.05194805194805195, 0.060240963855421686, 0.10810810810810811, 0.04285714285714286, 0.125, 0.08108108108108109, 0.08108108108108109, 0.07096774193548387, 0.05806451612903226, 0.10828025477707007, 0.07746478873239436, 0.1358695652173913, 0.14583333333333334, 0.14835164835164835, 0.17032967032967034, 0.16666666666666666, 0.18633540372670807, 0.28901734104046245, 0.2155688622754491, 0.30128205128205127, 0.4444444444444444, 0.6527777777777778, 0.7272727272727273, 0.75625, 0.8251748251748252, 0.8571428571428571, 0.875, 0.8848920863309353, 0.8907563025210085, 0.9072847682119205, 0.9538461538461539, 0.8986486486486487, 0.9037037037037037, 0.96875, 0.9562043795620438, 0.8914728682170543, 0.9448275862068966, 0.9097744360902256, 0.9557522123893806, 0.9433962264150944, 0.9349593495934959, 0.9813084112149533, 0.953125, 0.9487179487179487, 0.9576271186440678, 0.9805825242718447, 1.0, 0.9692307692307692, 0.9838709677419355, 0.9491525423728814, 1.0, 0.95, 0.9565217391304348, 0.9459459459459459, 0.918918918918919, 1.0, 0.9428571428571428, 1.0, 0.9705882352941176, 1.0, 0.9545454545454546, 1.0, 1.0, 0.9523809523809523, 0.96, 0.9285714285714286, 1.0, 1.0, 1.0, 0.9090909090909091], \"yaxis\": \"y\"}],                        {\"legend\": {\"tracegroupgap\": 0}, \"template\": {\"data\": {\"bar\": [{\"error_x\": {\"color\": \"#2a3f5f\"}, \"error_y\": {\"color\": \"#2a3f5f\"}, \"marker\": {\"line\": {\"color\": \"white\", \"width\": 0.5}}, \"type\": \"bar\"}], \"barpolar\": [{\"marker\": {\"line\": {\"color\": \"white\", \"width\": 0.5}}, \"type\": \"barpolar\"}], \"carpet\": [{\"aaxis\": {\"endlinecolor\": \"#2a3f5f\", \"gridcolor\": \"#C8D4E3\", \"linecolor\": \"#C8D4E3\", \"minorgridcolor\": \"#C8D4E3\", \"startlinecolor\": \"#2a3f5f\"}, \"baxis\": {\"endlinecolor\": \"#2a3f5f\", \"gridcolor\": \"#C8D4E3\", \"linecolor\": \"#C8D4E3\", \"minorgridcolor\": \"#C8D4E3\", \"startlinecolor\": \"#2a3f5f\"}, \"type\": \"carpet\"}], \"choropleth\": [{\"colorbar\": {\"outlinewidth\": 0, \"ticks\": \"\"}, \"type\": \"choropleth\"}], \"contour\": [{\"colorbar\": {\"outlinewidth\": 0, \"ticks\": \"\"}, \"colorscale\": [[0.0, \"#0d0887\"], [0.1111111111111111, \"#46039f\"], [0.2222222222222222, \"#7201a8\"], [0.3333333333333333, \"#9c179e\"], [0.4444444444444444, \"#bd3786\"], [0.5555555555555556, \"#d8576b\"], [0.6666666666666666, \"#ed7953\"], [0.7777777777777778, \"#fb9f3a\"], [0.8888888888888888, \"#fdca26\"], [1.0, \"#f0f921\"]], \"type\": \"contour\"}], \"contourcarpet\": [{\"colorbar\": {\"outlinewidth\": 0, \"ticks\": \"\"}, \"type\": \"contourcarpet\"}], \"heatmap\": [{\"colorbar\": {\"outlinewidth\": 0, \"ticks\": \"\"}, \"colorscale\": [[0.0, \"#0d0887\"], [0.1111111111111111, \"#46039f\"], [0.2222222222222222, \"#7201a8\"], [0.3333333333333333, \"#9c179e\"], [0.4444444444444444, \"#bd3786\"], [0.5555555555555556, \"#d8576b\"], [0.6666666666666666, \"#ed7953\"], [0.7777777777777778, \"#fb9f3a\"], [0.8888888888888888, \"#fdca26\"], [1.0, \"#f0f921\"]], \"type\": \"heatmap\"}], \"heatmapgl\": [{\"colorbar\": {\"outlinewidth\": 0, \"ticks\": \"\"}, \"colorscale\": [[0.0, \"#0d0887\"], [0.1111111111111111, \"#46039f\"], [0.2222222222222222, \"#7201a8\"], [0.3333333333333333, \"#9c179e\"], [0.4444444444444444, \"#bd3786\"], [0.5555555555555556, \"#d8576b\"], [0.6666666666666666, \"#ed7953\"], [0.7777777777777778, \"#fb9f3a\"], [0.8888888888888888, \"#fdca26\"], [1.0, \"#f0f921\"]], \"type\": \"heatmapgl\"}], \"histogram\": [{\"marker\": {\"colorbar\": {\"outlinewidth\": 0, \"ticks\": \"\"}}, \"type\": \"histogram\"}], \"histogram2d\": [{\"colorbar\": {\"outlinewidth\": 0, \"ticks\": \"\"}, \"colorscale\": [[0.0, \"#0d0887\"], [0.1111111111111111, \"#46039f\"], [0.2222222222222222, \"#7201a8\"], [0.3333333333333333, \"#9c179e\"], [0.4444444444444444, \"#bd3786\"], [0.5555555555555556, \"#d8576b\"], [0.6666666666666666, \"#ed7953\"], [0.7777777777777778, \"#fb9f3a\"], [0.8888888888888888, \"#fdca26\"], [1.0, \"#f0f921\"]], \"type\": \"histogram2d\"}], \"histogram2dcontour\": [{\"colorbar\": {\"outlinewidth\": 0, \"ticks\": \"\"}, \"colorscale\": [[0.0, \"#0d0887\"], [0.1111111111111111, \"#46039f\"], [0.2222222222222222, \"#7201a8\"], [0.3333333333333333, \"#9c179e\"], [0.4444444444444444, \"#bd3786\"], [0.5555555555555556, \"#d8576b\"], [0.6666666666666666, \"#ed7953\"], [0.7777777777777778, \"#fb9f3a\"], [0.8888888888888888, \"#fdca26\"], [1.0, \"#f0f921\"]], \"type\": \"histogram2dcontour\"}], \"mesh3d\": [{\"colorbar\": {\"outlinewidth\": 0, \"ticks\": \"\"}, \"type\": \"mesh3d\"}], \"parcoords\": [{\"line\": {\"colorbar\": {\"outlinewidth\": 0, \"ticks\": \"\"}}, \"type\": \"parcoords\"}], \"pie\": [{\"automargin\": true, \"type\": \"pie\"}], \"scatter\": [{\"marker\": {\"colorbar\": {\"outlinewidth\": 0, \"ticks\": \"\"}}, \"type\": \"scatter\"}], \"scatter3d\": [{\"line\": {\"colorbar\": {\"outlinewidth\": 0, \"ticks\": \"\"}}, \"marker\": {\"colorbar\": {\"outlinewidth\": 0, \"ticks\": \"\"}}, \"type\": \"scatter3d\"}], \"scattercarpet\": [{\"marker\": {\"colorbar\": {\"outlinewidth\": 0, \"ticks\": \"\"}}, \"type\": \"scattercarpet\"}], \"scattergeo\": [{\"marker\": {\"colorbar\": {\"outlinewidth\": 0, \"ticks\": \"\"}}, \"type\": \"scattergeo\"}], \"scattergl\": [{\"marker\": {\"colorbar\": {\"outlinewidth\": 0, \"ticks\": \"\"}}, \"type\": \"scattergl\"}], \"scattermapbox\": [{\"marker\": {\"colorbar\": {\"outlinewidth\": 0, \"ticks\": \"\"}}, \"type\": \"scattermapbox\"}], \"scatterpolar\": [{\"marker\": {\"colorbar\": {\"outlinewidth\": 0, \"ticks\": \"\"}}, \"type\": \"scatterpolar\"}], \"scatterpolargl\": [{\"marker\": {\"colorbar\": {\"outlinewidth\": 0, \"ticks\": \"\"}}, \"type\": \"scatterpolargl\"}], \"scatterternary\": [{\"marker\": {\"colorbar\": {\"outlinewidth\": 0, \"ticks\": \"\"}}, \"type\": \"scatterternary\"}], \"surface\": [{\"colorbar\": {\"outlinewidth\": 0, \"ticks\": \"\"}, \"colorscale\": [[0.0, \"#0d0887\"], [0.1111111111111111, \"#46039f\"], [0.2222222222222222, \"#7201a8\"], [0.3333333333333333, \"#9c179e\"], [0.4444444444444444, \"#bd3786\"], [0.5555555555555556, \"#d8576b\"], [0.6666666666666666, \"#ed7953\"], [0.7777777777777778, \"#fb9f3a\"], [0.8888888888888888, \"#fdca26\"], [1.0, \"#f0f921\"]], \"type\": \"surface\"}], \"table\": [{\"cells\": {\"fill\": {\"color\": \"#EBF0F8\"}, \"line\": {\"color\": \"white\"}}, \"header\": {\"fill\": {\"color\": \"#C8D4E3\"}, \"line\": {\"color\": \"white\"}}, \"type\": \"table\"}]}, \"layout\": {\"annotationdefaults\": {\"arrowcolor\": \"#2a3f5f\", \"arrowhead\": 0, \"arrowwidth\": 1}, \"autotypenumbers\": \"strict\", \"coloraxis\": {\"colorbar\": {\"outlinewidth\": 0, \"ticks\": \"\"}}, \"colorscale\": {\"diverging\": [[0, \"#8e0152\"], [0.1, \"#c51b7d\"], [0.2, \"#de77ae\"], [0.3, \"#f1b6da\"], [0.4, \"#fde0ef\"], [0.5, \"#f7f7f7\"], [0.6, \"#e6f5d0\"], [0.7, \"#b8e186\"], [0.8, \"#7fbc41\"], [0.9, \"#4d9221\"], [1, \"#276419\"]], \"sequential\": [[0.0, \"#0d0887\"], [0.1111111111111111, \"#46039f\"], [0.2222222222222222, \"#7201a8\"], [0.3333333333333333, \"#9c179e\"], [0.4444444444444444, \"#bd3786\"], [0.5555555555555556, \"#d8576b\"], [0.6666666666666666, \"#ed7953\"], [0.7777777777777778, \"#fb9f3a\"], [0.8888888888888888, \"#fdca26\"], [1.0, \"#f0f921\"]], \"sequentialminus\": [[0.0, \"#0d0887\"], [0.1111111111111111, \"#46039f\"], [0.2222222222222222, \"#7201a8\"], [0.3333333333333333, \"#9c179e\"], [0.4444444444444444, \"#bd3786\"], [0.5555555555555556, \"#d8576b\"], [0.6666666666666666, \"#ed7953\"], [0.7777777777777778, \"#fb9f3a\"], [0.8888888888888888, \"#fdca26\"], [1.0, \"#f0f921\"]]}, \"colorway\": [\"#636efa\", \"#EF553B\", \"#00cc96\", \"#ab63fa\", \"#FFA15A\", \"#19d3f3\", \"#FF6692\", \"#B6E880\", \"#FF97FF\", \"#FECB52\"], \"font\": {\"color\": \"#2a3f5f\"}, \"geo\": {\"bgcolor\": \"white\", \"lakecolor\": \"white\", \"landcolor\": \"white\", \"showlakes\": true, \"showland\": true, \"subunitcolor\": \"#C8D4E3\"}, \"hoverlabel\": {\"align\": \"left\"}, \"hovermode\": \"closest\", \"mapbox\": {\"style\": \"light\"}, \"paper_bgcolor\": \"white\", \"plot_bgcolor\": \"white\", \"polar\": {\"angularaxis\": {\"gridcolor\": \"#EBF0F8\", \"linecolor\": \"#EBF0F8\", \"ticks\": \"\"}, \"bgcolor\": \"white\", \"radialaxis\": {\"gridcolor\": \"#EBF0F8\", \"linecolor\": \"#EBF0F8\", \"ticks\": \"\"}}, \"scene\": {\"xaxis\": {\"backgroundcolor\": \"white\", \"gridcolor\": \"#DFE8F3\", \"gridwidth\": 2, \"linecolor\": \"#EBF0F8\", \"showbackground\": true, \"ticks\": \"\", \"zerolinecolor\": \"#EBF0F8\"}, \"yaxis\": {\"backgroundcolor\": \"white\", \"gridcolor\": \"#DFE8F3\", \"gridwidth\": 2, \"linecolor\": \"#EBF0F8\", \"showbackground\": true, \"ticks\": \"\", \"zerolinecolor\": \"#EBF0F8\"}, \"zaxis\": {\"backgroundcolor\": \"white\", \"gridcolor\": \"#DFE8F3\", \"gridwidth\": 2, \"linecolor\": \"#EBF0F8\", \"showbackground\": true, \"ticks\": \"\", \"zerolinecolor\": \"#EBF0F8\"}}, \"shapedefaults\": {\"line\": {\"color\": \"#2a3f5f\"}}, \"ternary\": {\"aaxis\": {\"gridcolor\": \"#DFE8F3\", \"linecolor\": \"#A2B1C6\", \"ticks\": \"\"}, \"baxis\": {\"gridcolor\": \"#DFE8F3\", \"linecolor\": \"#A2B1C6\", \"ticks\": \"\"}, \"bgcolor\": \"white\", \"caxis\": {\"gridcolor\": \"#DFE8F3\", \"linecolor\": \"#A2B1C6\", \"ticks\": \"\"}}, \"title\": {\"x\": 0.05}, \"xaxis\": {\"automargin\": true, \"gridcolor\": \"#EBF0F8\", \"linecolor\": \"#EBF0F8\", \"ticks\": \"\", \"title\": {\"standoff\": 15}, \"zerolinecolor\": \"#EBF0F8\", \"zerolinewidth\": 2}, \"yaxis\": {\"automargin\": true, \"gridcolor\": \"#EBF0F8\", \"linecolor\": \"#EBF0F8\", \"ticks\": \"\", \"title\": {\"standoff\": 15}, \"zerolinecolor\": \"#EBF0F8\", \"zerolinewidth\": 2}}}, \"title\": {\"text\": \"Visual Evidence of a Discontinuity in Vote Share\"}, \"xaxis\": {\"anchor\": \"y\", \"domain\": [0.0, 1.0], \"title\": {\"text\": \"Democrat's margin of victory at time t\"}}, \"yaxis\": {\"anchor\": \"x\", \"domain\": [0.0, 1.0], \"title\": {\"text\": \"Democrat's probability of victory time t+1\"}}},                        {\"responsive\": true}                    ).then(function(){\n",
       "                            \n",
       "var gd = document.getElementById('1eb60e0e-d84a-4625-9458-31b0134d773d');\n",
       "var x = new MutationObserver(function (mutations, observer) {{\n",
       "        var display = window.getComputedStyle(gd).display;\n",
       "        if (!display || display === 'none') {{\n",
       "            console.log([gd, 'removed!']);\n",
       "            Plotly.purge(gd);\n",
       "            observer.disconnect();\n",
       "        }}\n",
       "}});\n",
       "\n",
       "// Listen for the removal of the full notebook cells\n",
       "var notebookContainer = gd.closest('#notebook-container');\n",
       "if (notebookContainer) {{\n",
       "    x.observe(notebookContainer, {childList: true});\n",
       "}}\n",
       "\n",
       "// Listen for the clearing of the current output cell\n",
       "var outputEl = gd.closest('.output');\n",
       "if (outputEl) {{\n",
       "    x.observe(outputEl, {childList: true});\n",
       "}}\n",
       "\n",
       "                        })                };                });            </script>        </div>"
      ]
     },
     "metadata": {},
     "output_type": "display_data"
    }
   ],
   "source": [
    "# Plot Democratic prob of victory at t+1 over Dem margin at t\n",
    "px.scatter(binned_data, x='margin', y='dem_win_p1',\n",
    "           title='Visual Evidence of a Discontinuity in Vote Share',\n",
    "           labels={'margin':\"Democrat's margin of victory at time t\",\n",
    "                   'dem_win_p1': \"Democrat's probability of victory time t+1\"},\n",
    "           template=\"plotly_white\")"
   ]
  },
  {
   "cell_type": "markdown",
   "metadata": {},
   "source": [
    "### Regression Discontinuity Design\n",
    "\n",
    "The two plots above give us a pretty clear picture of the incumbency advantage.  RDD is built around this discontinuity at zero and we can essentailly measure the effect here by the jump in the level of the point on the scatter plot at the cut point (i.e., a margin of victory of 0).\n",
    "\n",
    "But if we want to be more precise, find the confidence intervals around this estimate, and control for covariates, we want to use regression analysis here.\n",
    "\n",
    "Some notation to help describe what we are going to do:\n",
    "* $Y$ is our outcome variable of interest (e.g., the probability a democrat wins the election at $t+1$). $Y(0)$ represents the outcome with no treatment and $Y(1)$ represents the outcome with treatment.\n",
    "* $X$ is our running variable.  That is, this is the variable in which there is a discontinuity in the treatment (e.g., the margin of victory for a Democrat in election $t$)\n",
    "* $c$ is the cut-point.  This is the point of the discontinuity in $X$ (e.g., just winning a margin of victory of 0)\n",
    "\n",
    "In the data, we never observe $E[Y(0)|X=c]$, that is there are no units at the cutoff that don't get the treatment, but in principle it can be approximated arbitrarily well by $E[Y(0)|X=c-\\varepsilon]$.  Therefore we estimate: $E[Y|X=c+\\varepsilon]-E[Y|X=c-\\varepsilon]$\n",
    "\n",
    "We now need a functional form for $E[Y|X]$.  Suppose that $Y=\\alpha+\\tau T+ \\beta f(X) +\\eta$ and that $f(X)$ is a smooth function of $X$. A flexible way to do this is to modeling $f(X)$ with a pth-order polynomial in this way leads to \n",
    "$$Y=\\alpha + \\beta_{01}X + \\beta_{02}X^{2}+...+\\beta_{0p}X^{p}+\\tau T + \\beta_{1}TX + \\beta_{2}TX^{2} + ... + \\beta_{p}TX^{p}+\\eta$$\n",
    "\n",
    "We still have some choices here.  First off, what order is the polynomial we use?  Second, and relatedly, how far from the cut point do we look at the data?  \n",
    "\n",
    "As with everything, this is a trade off.  If you look closer to the cut point, the data is more likely to be well approximated by a linear function, so you can use a lower order polynomial.  If you consider data farther from the cut point, a higher order polynomial may be necessary to fit the data better.  The distance from the cutpoint that you use in estimating the model is termed the \"bandwidth\" of the estimator.\n",
    "\n",
    "There are a few formal ways to find that you have an appropriately flexible polynomial.  A couple of these are:\n",
    "1. Use the Akaike information criterion (AIC) for model selection: $AIC = N ln(\\hat{\\sigma}^{2}) + 2p$, where $\\hat{\\sigma}^{2}$ is the mean squared error of the regression and $p$ is the number of model parameters (want to pick model with lowest AIC - i.e., lowest info loss)\n",
    "2. Select a natural set of bins (as you would for an RD graph) and add bin dummies to the model and test their joint significance. Add higher order terms to the polynomial until the bin dummies are no longer jointly significant. (FYI, This also turns out to be a test for the presence of discontinuities in the regression function at points other then the cutoff, which you'll want to do anyway.)\n",
    "\n",
    "There are also ways to determine that the bandwidth chosen is appropriate.  Again, this will depend on the functional form of your model.  There are two general methods for selecting bandwidth:\n",
    "1. Ad hoc (e.g., elections between 48-52\\% are \"close\") or substantively derived (Data driven)\n",
    "2. Optimal bandwidth methods (Imbens and Kalyanaraman (*The Review of Economic Studies*, 2012))\n",
    "\n",
    "A rule of thumb seems to be to use a 4th degree polynomial for $f(X)$.  But here, to make it simpler, let's start by estimating the RDD on our data that we just plotted using a 2nd degree polynomial and the full bandwidth (i.e., all the data)."
   ]
  },
  {
   "cell_type": "code",
   "execution_count": 28,
   "metadata": {},
   "outputs": [
    {
     "name": "stdout",
     "output_type": "stream",
     "text": [
      "                            OLS Regression Results                            \n",
      "==============================================================================\n",
      "Dep. Variable:           dem_share_p1   R-squared:                       0.642\n",
      "Model:                            OLS   Adj. R-squared:                  0.642\n",
      "Method:                 Least Squares   F-statistic:                     2651.\n",
      "Date:                Thu, 07 Oct 2021   Prob (F-statistic):               0.00\n",
      "Time:                        22:20:04   Log-Likelihood:                -27980.\n",
      "No. Observations:                7382   AIC:                         5.597e+04\n",
      "Df Residuals:                    7376   BIC:                         5.601e+04\n",
      "Df Model:                           5                                         \n",
      "Covariance Type:            nonrobust                                         \n",
      "===========================================================================================\n",
      "                              coef    std err          t      P>|t|      [0.025      0.975]\n",
      "-------------------------------------------------------------------------------------------\n",
      "Intercept                  45.7945      0.328    139.582      0.000      45.151      46.438\n",
      "margin                      0.2904      0.013     22.706      0.000       0.265       0.315\n",
      "np.power(margin, 2)         0.0004   1.69e-05     21.578      0.000       0.000       0.000\n",
      "gt0                         7.7175      0.543     14.203      0.000       6.652       8.783\n",
      "gt0:margin                  0.1264      0.028      4.573      0.000       0.072       0.181\n",
      "gt0:np.power(margin, 2)    -0.0013      0.000     -4.374      0.000      -0.002      -0.001\n",
      "==============================================================================\n",
      "Omnibus:                      688.025   Durbin-Watson:                   1.584\n",
      "Prob(Omnibus):                  0.000   Jarque-Bera (JB):             3319.804\n",
      "Skew:                           0.330   Prob(JB):                         0.00\n",
      "Kurtosis:                       6.218   Cond. No.                     6.42e+04\n",
      "==============================================================================\n",
      "\n",
      "Notes:\n",
      "[1] Standard Errors assume that the covariance matrix of the errors is correctly specified.\n",
      "[2] The condition number is large, 6.42e+04. This might indicate that there are\n",
      "strong multicollinearity or other numerical problems.\n"
     ]
    }
   ],
   "source": [
    "# In this RD use polynomial of order 2 that varies on either side of cut point\n",
    "# Define the model\n",
    "rdd1 = smf.ols(formula='dem_share_p1 ~ margin + np.power(margin, 2) + gt0 + gt0*margin + gt0*np.power(margin, 2)', data=rd_wide)\n",
    "# Estimate the model\n",
    "print(rdd1.fit().summary())"
   ]
  },
  {
   "cell_type": "markdown",
   "metadata": {},
   "source": [
    "The coefficient on the dummy variable for the cut point is the causal effect of treatment.  In this case this is the coefficient on the `gt0` variable, which denotes a more than 50% of the vote share.  We can do the same for the probability of victory."
   ]
  },
  {
   "cell_type": "code",
   "execution_count": 29,
   "metadata": {},
   "outputs": [
    {
     "name": "stdout",
     "output_type": "stream",
     "text": [
      "                            OLS Regression Results                            \n",
      "==============================================================================\n",
      "Dep. Variable:             dem_win_p1   R-squared:                       0.613\n",
      "Model:                            OLS   Adj. R-squared:                  0.613\n",
      "Method:                 Least Squares   F-statistic:                     2424.\n",
      "Date:                Thu, 07 Oct 2021   Prob (F-statistic):               0.00\n",
      "Time:                        22:20:29   Log-Likelihood:                -1890.5\n",
      "No. Observations:                7663   AIC:                             3793.\n",
      "Df Residuals:                    7657   BIC:                             3835.\n",
      "Df Model:                           5                                         \n",
      "Covariance Type:            nonrobust                                         \n",
      "===========================================================================================\n",
      "                              coef    std err          t      P>|t|      [0.025      0.975]\n",
      "-------------------------------------------------------------------------------------------\n",
      "Intercept                   0.2583      0.009     27.474      0.000       0.240       0.277\n",
      "margin                      0.0055      0.000     15.129      0.000       0.005       0.006\n",
      "np.power(margin, 2)      6.997e-06   4.83e-07     14.498      0.000    6.05e-06    7.94e-06\n",
      "gt0                         0.4857      0.016     31.307      0.000       0.455       0.516\n",
      "gt0:margin                  0.0027      0.001      3.511      0.000       0.001       0.004\n",
      "gt0:np.power(margin, 2) -7.476e-05   7.87e-06     -9.497      0.000   -9.02e-05   -5.93e-05\n",
      "==============================================================================\n",
      "Omnibus:                      633.234   Durbin-Watson:                   1.801\n",
      "Prob(Omnibus):                  0.000   Jarque-Bera (JB):             3619.748\n",
      "Skew:                           0.151   Prob(JB):                         0.00\n",
      "Kurtosis:                       6.353   Cond. No.                     6.36e+04\n",
      "==============================================================================\n",
      "\n",
      "Notes:\n",
      "[1] Standard Errors assume that the covariance matrix of the errors is correctly specified.\n",
      "[2] The condition number is large, 6.36e+04. This might indicate that there are\n",
      "strong multicollinearity or other numerical problems.\n"
     ]
    }
   ],
   "source": [
    "# In this RD use polynomial of order 2 that varies on either side of cut point\n",
    "# Define the model\n",
    "rd_wide['gt0'] = (rd_wide['margin'] > 0).astype('int')\n",
    "rdd2 = smf.ols(\n",
    "    formula='dem_win_p1 ~ margin + np.power(margin, 2) + gt0 + gt0*margin + gt0*np.power(margin, 2)',\n",
    "    data=rd_wide)\n",
    "# Estimate the model\n",
    "print(rdd2.fit().summary())"
   ]
  },
  {
   "cell_type": "markdown",
   "metadata": {},
   "source": [
    "We can also use `ggplot` to plot our fitted values along with the data."
   ]
  },
  {
   "cell_type": "code",
   "execution_count": 12,
   "metadata": {},
   "outputs": [
    {
     "data": {
      "application/vnd.plotly.v1+json": {
       "config": {
        "plotlyServerURL": "https://plot.ly"
       },
       "data": [
        {
         "hovertemplate": "Democrat's margin of victory at time t=%{x}<br>Democrat's probability of victory time t+1=%{y}<extra></extra>",
         "legendgroup": "",
         "marker": {
          "color": "#636efa",
          "symbol": "circle"
         },
         "mode": "markers",
         "name": "",
         "orientation": "v",
         "showlegend": false,
         "type": "scatter",
         "x": [
          -100,
          -85,
          -80,
          -77,
          -75,
          -74,
          -71,
          -70,
          -67.5,
          -66,
          -64,
          -61.714285714285715,
          -59.6875,
          -57.8421052631579,
          -55.791666666666664,
          -53.791666666666664,
          -51.707317073170735,
          -49.743589743589745,
          -47.68852459016394,
          -45.81012658227848,
          -43.80597014925373,
          -41.80952380952381,
          -39.782051282051285,
          -37.76136363636363,
          -35.81818181818182,
          -33.82876712328767,
          -31.84552845528455,
          -29.826923076923077,
          -27.866197183098592,
          -25.825301204819276,
          -23.818181818181817,
          -21.81761006289308,
          -19.809859154929576,
          -17.81958762886598,
          -15.774647887323944,
          -13.807486631016042,
          -11.86046511627907,
          -9.854054054054053,
          -7.780346820809249,
          -5.8343558282208585,
          -3.8860759493670884,
          -1.8313953488372092,
          0.17307692307692307,
          2.2133333333333334,
          4.155172413793103,
          6.1625,
          8.17605633802817,
          10.153284671532846,
          12.2,
          14.177304964539006,
          16.272727272727273,
          18.144927536231883,
          20.197080291970803,
          22.224358974358974,
          24.229007633587788,
          26.203252032520325,
          28.204225352112676,
          30.193548387096776,
          32.20261437908497,
          34.171875,
          36.20338983050848,
          38.27731092436975,
          40.157407407407405,
          42.19469026548673,
          44.107438016528924,
          46.297872340425535,
          48.208695652173915,
          50.06976744186046,
          52.270270270270274,
          54.285714285714285,
          56.25423728813559,
          58.23728813559322,
          60.27272727272727,
          62.21875,
          64.23529411764706,
          66.3076923076923,
          68.10714285714286,
          70.17948717948718,
          72.125,
          74.35483870967742,
          76.23333333333333,
          78.28571428571429,
          80.22222222222223,
          82.26086956521739,
          84.31818181818181,
          86,
          88.03846153846153,
          90,
          92.05,
          94.11111111111111,
          96.15,
          98
         ],
         "xaxis": "x",
         "y": [
          0,
          0,
          0,
          1,
          0,
          0,
          0,
          0,
          0,
          0,
          0,
          0.14285714285714285,
          0,
          0.05263157894736842,
          0.08333333333333333,
          0,
          0.075,
          0.08108108108108109,
          0.06666666666666667,
          0.05128205128205128,
          0.015151515151515152,
          0.05952380952380952,
          0.038461538461538464,
          0.08045977011494253,
          0.08181818181818182,
          0.06944444444444445,
          0.0975609756097561,
          0.09615384615384616,
          0.07857142857142857,
          0.06666666666666667,
          0.06535947712418301,
          0.0949367088607595,
          0.09219858156028368,
          0.14583333333333334,
          0.16428571428571428,
          0.14054054054054055,
          0.14534883720930233,
          0.16393442622950818,
          0.22807017543859648,
          0.2883435582822086,
          0.2088607594936709,
          0.30538922155688625,
          0.54,
          0.6533333333333333,
          0.7134502923976608,
          0.779874213836478,
          0.8156028368794326,
          0.8686131386861314,
          0.8656716417910447,
          0.8823529411764706,
          0.9307692307692308,
          0.9044117647058824,
          0.927007299270073,
          0.9102564102564102,
          0.9153846153846154,
          0.967479674796748,
          0.9361702127659575,
          0.9032258064516129,
          0.9342105263157895,
          0.926829268292683,
          0.9568965517241379,
          0.9217391304347826,
          0.9439252336448598,
          0.990909090909091,
          0.9504132231404959,
          0.967741935483871,
          0.9557522123893806,
          0.9767441860465116,
          1,
          0.9682539682539683,
          0.9830508474576272,
          0.9482758620689655,
          0.9814814814814815,
          0.96875,
          0.9411764705882353,
          0.9459459459459459,
          0.9285714285714286,
          0.9743589743589743,
          0.96875,
          1,
          0.9655172413793104,
          1,
          0.9444444444444444,
          1,
          0.9545454545454546,
          1,
          0.9615384615384616,
          0.9230769230769231,
          1,
          1,
          0.95,
          0.9473684210526315
         ],
         "yaxis": "y"
        },
        {
         "name": "Fitted Values",
         "type": "scatter",
         "x": [
          -100,
          -85,
          -80,
          -77,
          -75,
          -74,
          -71,
          -70,
          -67.5,
          -66,
          -64,
          -61.714285714285715,
          -59.6875,
          -57.8421052631579,
          -55.791666666666664,
          -53.791666666666664,
          -51.707317073170735,
          -49.743589743589745,
          -47.68852459016394,
          -45.81012658227848,
          -43.80597014925373,
          -41.80952380952381,
          -39.782051282051285,
          -37.76136363636363,
          -35.81818181818182,
          -33.82876712328767,
          -31.84552845528455,
          -29.826923076923077,
          -27.866197183098592,
          -25.825301204819276,
          -23.818181818181817,
          -21.81761006289308,
          -19.809859154929576,
          -17.81958762886598,
          -15.774647887323944,
          -13.807486631016042,
          -11.86046511627907,
          -9.854054054054053,
          -7.780346820809249,
          -5.8343558282208585,
          -3.8860759493670884,
          -1.8313953488372092,
          0.17307692307692307,
          2.2133333333333334,
          4.155172413793103,
          6.1625,
          8.17605633802817,
          10.153284671532846,
          12.2,
          14.177304964539006,
          16.272727272727273,
          18.144927536231883,
          20.197080291970803,
          22.224358974358974,
          24.229007633587788,
          26.203252032520325,
          28.204225352112676,
          30.193548387096776,
          32.20261437908497,
          34.171875,
          36.20338983050848,
          38.27731092436975,
          40.157407407407405,
          42.19469026548673,
          44.107438016528924,
          46.297872340425535,
          48.208695652173915,
          50.06976744186046,
          52.270270270270274,
          54.285714285714285,
          56.25423728813559,
          58.23728813559322,
          60.27272727272727,
          62.21875,
          64.23529411764706,
          66.3076923076923,
          68.10714285714286,
          70.17948717948718,
          72.125,
          74.35483870967742,
          76.23333333333333,
          78.28571428571429,
          80.22222222222223,
          82.26086956521739,
          84.31818181818181,
          86,
          88.03846153846153,
          90,
          92.05,
          94.11111111111111,
          96.15,
          98
         ],
         "y": [
          -0.22069480992212365,
          -0.15776169567439952,
          -0.13608424779228848,
          -0.12290984071113309,
          -0.11405692834374254,
          -0.10960947986606115,
          -0.09618316525707271,
          -0.09167973732876174,
          -0.08035819062602612,
          -0.07352607698894403,
          -0.06436527764309082,
          -0.053825818363114446,
          -0.04442031203151368,
          -0.03580720903709206,
          -0.02618033765584637,
          -0.016733809864071362,
          -0.006829011548027993,
          0.00255782445810379,
          0.012439342684419203,
          0.021522504310212628,
          0.031268701418885825,
          0.041033259654346725,
          0.051006783033200075,
          0.061004135068430033,
          0.07067161880974519,
          0.08062404762139269,
          0.09060067915884192,
          0.10081191633034249,
          0.11078468772041059,
          0.12122276883502249,
          0.13154479144676798,
          0.1418892152357443,
          0.152327105312594,
          0.16272972665292693,
          0.17347605629684357,
          0.18386856683535016,
          0.19420789133287839,
          0.2049183861835266,
          0.21604761627084434,
          0.2265456118830834,
          0.23710901757319805,
          0.24830742081213147,
          0.34380957163452935,
          0.761866447426879,
          0.7769801572874157,
          0.7920635285635378,
          0.8066448474702923,
          0.8204300673591343,
          0.834138584915824,
          0.8468460079707084,
          0.8597297043350792,
          0.8707458209042481,
          0.8822672525971166,
          0.8930898916269854,
          0.9032449438096589,
          0.9127148750909464,
          0.9217730059920096,
          0.9302410090384803,
          0.9382479386929122,
          0.9455670528726993,
          0.9525641548138052,
          0.9591291602385524,
          0.9645838542343007,
          0.9699472126127677,
          0.9744764414492637,
          0.9790418177129124,
          0.9825030895722304,
          0.9854024834148325,
          0.9882080967201532,
          0.9902097687019469,
          0.9916348802079534,
          0.992539140403189,
          0.9929112932075318,
          0.9927450912703594,
          0.9920288929353298,
          0.9907170678209286,
          0.989115832155832,
          0.9867154380104447,
          0.9839381521688852,
          0.9801130851726123,
          0.9763780069161705,
          0.9717451237431584,
          0.9668541321494762,
          0.9611524796377043,
          0.9548273815986149,
          0.9492466567495039,
          0.9419483171103555,
          0.9343986630391903,
          0.9259454777068756,
          0.9168720924818187,
          0.9073316024956087,
          0.8981978963932784
         ]
        }
       ],
       "layout": {
        "legend": {
         "tracegroupgap": 0
        },
        "template": {
         "data": {
          "bar": [
           {
            "error_x": {
             "color": "#2a3f5f"
            },
            "error_y": {
             "color": "#2a3f5f"
            },
            "marker": {
             "line": {
              "color": "white",
              "width": 0.5
             }
            },
            "type": "bar"
           }
          ],
          "barpolar": [
           {
            "marker": {
             "line": {
              "color": "white",
              "width": 0.5
             }
            },
            "type": "barpolar"
           }
          ],
          "carpet": [
           {
            "aaxis": {
             "endlinecolor": "#2a3f5f",
             "gridcolor": "#C8D4E3",
             "linecolor": "#C8D4E3",
             "minorgridcolor": "#C8D4E3",
             "startlinecolor": "#2a3f5f"
            },
            "baxis": {
             "endlinecolor": "#2a3f5f",
             "gridcolor": "#C8D4E3",
             "linecolor": "#C8D4E3",
             "minorgridcolor": "#C8D4E3",
             "startlinecolor": "#2a3f5f"
            },
            "type": "carpet"
           }
          ],
          "choropleth": [
           {
            "colorbar": {
             "outlinewidth": 0,
             "ticks": ""
            },
            "type": "choropleth"
           }
          ],
          "contour": [
           {
            "colorbar": {
             "outlinewidth": 0,
             "ticks": ""
            },
            "colorscale": [
             [
              0,
              "#0d0887"
             ],
             [
              0.1111111111111111,
              "#46039f"
             ],
             [
              0.2222222222222222,
              "#7201a8"
             ],
             [
              0.3333333333333333,
              "#9c179e"
             ],
             [
              0.4444444444444444,
              "#bd3786"
             ],
             [
              0.5555555555555556,
              "#d8576b"
             ],
             [
              0.6666666666666666,
              "#ed7953"
             ],
             [
              0.7777777777777778,
              "#fb9f3a"
             ],
             [
              0.8888888888888888,
              "#fdca26"
             ],
             [
              1,
              "#f0f921"
             ]
            ],
            "type": "contour"
           }
          ],
          "contourcarpet": [
           {
            "colorbar": {
             "outlinewidth": 0,
             "ticks": ""
            },
            "type": "contourcarpet"
           }
          ],
          "heatmap": [
           {
            "colorbar": {
             "outlinewidth": 0,
             "ticks": ""
            },
            "colorscale": [
             [
              0,
              "#0d0887"
             ],
             [
              0.1111111111111111,
              "#46039f"
             ],
             [
              0.2222222222222222,
              "#7201a8"
             ],
             [
              0.3333333333333333,
              "#9c179e"
             ],
             [
              0.4444444444444444,
              "#bd3786"
             ],
             [
              0.5555555555555556,
              "#d8576b"
             ],
             [
              0.6666666666666666,
              "#ed7953"
             ],
             [
              0.7777777777777778,
              "#fb9f3a"
             ],
             [
              0.8888888888888888,
              "#fdca26"
             ],
             [
              1,
              "#f0f921"
             ]
            ],
            "type": "heatmap"
           }
          ],
          "heatmapgl": [
           {
            "colorbar": {
             "outlinewidth": 0,
             "ticks": ""
            },
            "colorscale": [
             [
              0,
              "#0d0887"
             ],
             [
              0.1111111111111111,
              "#46039f"
             ],
             [
              0.2222222222222222,
              "#7201a8"
             ],
             [
              0.3333333333333333,
              "#9c179e"
             ],
             [
              0.4444444444444444,
              "#bd3786"
             ],
             [
              0.5555555555555556,
              "#d8576b"
             ],
             [
              0.6666666666666666,
              "#ed7953"
             ],
             [
              0.7777777777777778,
              "#fb9f3a"
             ],
             [
              0.8888888888888888,
              "#fdca26"
             ],
             [
              1,
              "#f0f921"
             ]
            ],
            "type": "heatmapgl"
           }
          ],
          "histogram": [
           {
            "marker": {
             "colorbar": {
              "outlinewidth": 0,
              "ticks": ""
             }
            },
            "type": "histogram"
           }
          ],
          "histogram2d": [
           {
            "colorbar": {
             "outlinewidth": 0,
             "ticks": ""
            },
            "colorscale": [
             [
              0,
              "#0d0887"
             ],
             [
              0.1111111111111111,
              "#46039f"
             ],
             [
              0.2222222222222222,
              "#7201a8"
             ],
             [
              0.3333333333333333,
              "#9c179e"
             ],
             [
              0.4444444444444444,
              "#bd3786"
             ],
             [
              0.5555555555555556,
              "#d8576b"
             ],
             [
              0.6666666666666666,
              "#ed7953"
             ],
             [
              0.7777777777777778,
              "#fb9f3a"
             ],
             [
              0.8888888888888888,
              "#fdca26"
             ],
             [
              1,
              "#f0f921"
             ]
            ],
            "type": "histogram2d"
           }
          ],
          "histogram2dcontour": [
           {
            "colorbar": {
             "outlinewidth": 0,
             "ticks": ""
            },
            "colorscale": [
             [
              0,
              "#0d0887"
             ],
             [
              0.1111111111111111,
              "#46039f"
             ],
             [
              0.2222222222222222,
              "#7201a8"
             ],
             [
              0.3333333333333333,
              "#9c179e"
             ],
             [
              0.4444444444444444,
              "#bd3786"
             ],
             [
              0.5555555555555556,
              "#d8576b"
             ],
             [
              0.6666666666666666,
              "#ed7953"
             ],
             [
              0.7777777777777778,
              "#fb9f3a"
             ],
             [
              0.8888888888888888,
              "#fdca26"
             ],
             [
              1,
              "#f0f921"
             ]
            ],
            "type": "histogram2dcontour"
           }
          ],
          "mesh3d": [
           {
            "colorbar": {
             "outlinewidth": 0,
             "ticks": ""
            },
            "type": "mesh3d"
           }
          ],
          "parcoords": [
           {
            "line": {
             "colorbar": {
              "outlinewidth": 0,
              "ticks": ""
             }
            },
            "type": "parcoords"
           }
          ],
          "pie": [
           {
            "automargin": true,
            "type": "pie"
           }
          ],
          "scatter": [
           {
            "marker": {
             "colorbar": {
              "outlinewidth": 0,
              "ticks": ""
             }
            },
            "type": "scatter"
           }
          ],
          "scatter3d": [
           {
            "line": {
             "colorbar": {
              "outlinewidth": 0,
              "ticks": ""
             }
            },
            "marker": {
             "colorbar": {
              "outlinewidth": 0,
              "ticks": ""
             }
            },
            "type": "scatter3d"
           }
          ],
          "scattercarpet": [
           {
            "marker": {
             "colorbar": {
              "outlinewidth": 0,
              "ticks": ""
             }
            },
            "type": "scattercarpet"
           }
          ],
          "scattergeo": [
           {
            "marker": {
             "colorbar": {
              "outlinewidth": 0,
              "ticks": ""
             }
            },
            "type": "scattergeo"
           }
          ],
          "scattergl": [
           {
            "marker": {
             "colorbar": {
              "outlinewidth": 0,
              "ticks": ""
             }
            },
            "type": "scattergl"
           }
          ],
          "scattermapbox": [
           {
            "marker": {
             "colorbar": {
              "outlinewidth": 0,
              "ticks": ""
             }
            },
            "type": "scattermapbox"
           }
          ],
          "scatterpolar": [
           {
            "marker": {
             "colorbar": {
              "outlinewidth": 0,
              "ticks": ""
             }
            },
            "type": "scatterpolar"
           }
          ],
          "scatterpolargl": [
           {
            "marker": {
             "colorbar": {
              "outlinewidth": 0,
              "ticks": ""
             }
            },
            "type": "scatterpolargl"
           }
          ],
          "scatterternary": [
           {
            "marker": {
             "colorbar": {
              "outlinewidth": 0,
              "ticks": ""
             }
            },
            "type": "scatterternary"
           }
          ],
          "surface": [
           {
            "colorbar": {
             "outlinewidth": 0,
             "ticks": ""
            },
            "colorscale": [
             [
              0,
              "#0d0887"
             ],
             [
              0.1111111111111111,
              "#46039f"
             ],
             [
              0.2222222222222222,
              "#7201a8"
             ],
             [
              0.3333333333333333,
              "#9c179e"
             ],
             [
              0.4444444444444444,
              "#bd3786"
             ],
             [
              0.5555555555555556,
              "#d8576b"
             ],
             [
              0.6666666666666666,
              "#ed7953"
             ],
             [
              0.7777777777777778,
              "#fb9f3a"
             ],
             [
              0.8888888888888888,
              "#fdca26"
             ],
             [
              1,
              "#f0f921"
             ]
            ],
            "type": "surface"
           }
          ],
          "table": [
           {
            "cells": {
             "fill": {
              "color": "#EBF0F8"
             },
             "line": {
              "color": "white"
             }
            },
            "header": {
             "fill": {
              "color": "#C8D4E3"
             },
             "line": {
              "color": "white"
             }
            },
            "type": "table"
           }
          ]
         },
         "layout": {
          "annotationdefaults": {
           "arrowcolor": "#2a3f5f",
           "arrowhead": 0,
           "arrowwidth": 1
          },
          "autotypenumbers": "strict",
          "coloraxis": {
           "colorbar": {
            "outlinewidth": 0,
            "ticks": ""
           }
          },
          "colorscale": {
           "diverging": [
            [
             0,
             "#8e0152"
            ],
            [
             0.1,
             "#c51b7d"
            ],
            [
             0.2,
             "#de77ae"
            ],
            [
             0.3,
             "#f1b6da"
            ],
            [
             0.4,
             "#fde0ef"
            ],
            [
             0.5,
             "#f7f7f7"
            ],
            [
             0.6,
             "#e6f5d0"
            ],
            [
             0.7,
             "#b8e186"
            ],
            [
             0.8,
             "#7fbc41"
            ],
            [
             0.9,
             "#4d9221"
            ],
            [
             1,
             "#276419"
            ]
           ],
           "sequential": [
            [
             0,
             "#0d0887"
            ],
            [
             0.1111111111111111,
             "#46039f"
            ],
            [
             0.2222222222222222,
             "#7201a8"
            ],
            [
             0.3333333333333333,
             "#9c179e"
            ],
            [
             0.4444444444444444,
             "#bd3786"
            ],
            [
             0.5555555555555556,
             "#d8576b"
            ],
            [
             0.6666666666666666,
             "#ed7953"
            ],
            [
             0.7777777777777778,
             "#fb9f3a"
            ],
            [
             0.8888888888888888,
             "#fdca26"
            ],
            [
             1,
             "#f0f921"
            ]
           ],
           "sequentialminus": [
            [
             0,
             "#0d0887"
            ],
            [
             0.1111111111111111,
             "#46039f"
            ],
            [
             0.2222222222222222,
             "#7201a8"
            ],
            [
             0.3333333333333333,
             "#9c179e"
            ],
            [
             0.4444444444444444,
             "#bd3786"
            ],
            [
             0.5555555555555556,
             "#d8576b"
            ],
            [
             0.6666666666666666,
             "#ed7953"
            ],
            [
             0.7777777777777778,
             "#fb9f3a"
            ],
            [
             0.8888888888888888,
             "#fdca26"
            ],
            [
             1,
             "#f0f921"
            ]
           ]
          },
          "colorway": [
           "#636efa",
           "#EF553B",
           "#00cc96",
           "#ab63fa",
           "#FFA15A",
           "#19d3f3",
           "#FF6692",
           "#B6E880",
           "#FF97FF",
           "#FECB52"
          ],
          "font": {
           "color": "#2a3f5f"
          },
          "geo": {
           "bgcolor": "white",
           "lakecolor": "white",
           "landcolor": "white",
           "showlakes": true,
           "showland": true,
           "subunitcolor": "#C8D4E3"
          },
          "hoverlabel": {
           "align": "left"
          },
          "hovermode": "closest",
          "mapbox": {
           "style": "light"
          },
          "paper_bgcolor": "white",
          "plot_bgcolor": "white",
          "polar": {
           "angularaxis": {
            "gridcolor": "#EBF0F8",
            "linecolor": "#EBF0F8",
            "ticks": ""
           },
           "bgcolor": "white",
           "radialaxis": {
            "gridcolor": "#EBF0F8",
            "linecolor": "#EBF0F8",
            "ticks": ""
           }
          },
          "scene": {
           "xaxis": {
            "backgroundcolor": "white",
            "gridcolor": "#DFE8F3",
            "gridwidth": 2,
            "linecolor": "#EBF0F8",
            "showbackground": true,
            "ticks": "",
            "zerolinecolor": "#EBF0F8"
           },
           "yaxis": {
            "backgroundcolor": "white",
            "gridcolor": "#DFE8F3",
            "gridwidth": 2,
            "linecolor": "#EBF0F8",
            "showbackground": true,
            "ticks": "",
            "zerolinecolor": "#EBF0F8"
           },
           "zaxis": {
            "backgroundcolor": "white",
            "gridcolor": "#DFE8F3",
            "gridwidth": 2,
            "linecolor": "#EBF0F8",
            "showbackground": true,
            "ticks": "",
            "zerolinecolor": "#EBF0F8"
           }
          },
          "shapedefaults": {
           "line": {
            "color": "#2a3f5f"
           }
          },
          "ternary": {
           "aaxis": {
            "gridcolor": "#DFE8F3",
            "linecolor": "#A2B1C6",
            "ticks": ""
           },
           "baxis": {
            "gridcolor": "#DFE8F3",
            "linecolor": "#A2B1C6",
            "ticks": ""
           },
           "bgcolor": "white",
           "caxis": {
            "gridcolor": "#DFE8F3",
            "linecolor": "#A2B1C6",
            "ticks": ""
           }
          },
          "title": {
           "x": 0.05
          },
          "xaxis": {
           "automargin": true,
           "gridcolor": "#EBF0F8",
           "linecolor": "#EBF0F8",
           "ticks": "",
           "title": {
            "standoff": 15
           },
           "zerolinecolor": "#EBF0F8",
           "zerolinewidth": 2
          },
          "yaxis": {
           "automargin": true,
           "gridcolor": "#EBF0F8",
           "linecolor": "#EBF0F8",
           "ticks": "",
           "title": {
            "standoff": 15
           },
           "zerolinecolor": "#EBF0F8",
           "zerolinewidth": 2
          }
         }
        },
        "title": {
         "text": "The Incumbency Advantage"
        },
        "xaxis": {
         "anchor": "y",
         "domain": [
          0,
          1
         ],
         "title": {
          "text": "Democrat's margin of victory at time t"
         }
        },
        "yaxis": {
         "anchor": "x",
         "domain": [
          0,
          1
         ],
         "title": {
          "text": "Democrat's probability of victory time t+1"
         }
        }
       }
      },
      "text/html": [
       "<div>                            <div id=\"60df5d93-9d9f-4871-9054-eceb5ce51991\" class=\"plotly-graph-div\" style=\"height:525px; width:100%;\"></div>            <script type=\"text/javascript\">                require([\"plotly\"], function(Plotly) {                    window.PLOTLYENV=window.PLOTLYENV || {};                                    if (document.getElementById(\"60df5d93-9d9f-4871-9054-eceb5ce51991\")) {                    Plotly.newPlot(                        \"60df5d93-9d9f-4871-9054-eceb5ce51991\",                        [{\"hovertemplate\": \"Democrat's margin of victory at time t=%{x}<br>Democrat's probability of victory time t+1=%{y}<extra></extra>\", \"legendgroup\": \"\", \"marker\": {\"color\": \"#636efa\", \"symbol\": \"circle\"}, \"mode\": \"markers\", \"name\": \"\", \"orientation\": \"v\", \"showlegend\": false, \"type\": \"scatter\", \"x\": [-100.0, -85.0, -80.0, -77.0, -75.0, -74.0, -71.0, -70.0, -67.5, -66.0, -64.0, -61.714285714285715, -59.6875, -57.8421052631579, -55.791666666666664, -53.791666666666664, -51.707317073170735, -49.743589743589745, -47.68852459016394, -45.81012658227848, -43.80597014925373, -41.80952380952381, -39.782051282051285, -37.76136363636363, -35.81818181818182, -33.82876712328767, -31.84552845528455, -29.826923076923077, -27.866197183098592, -25.825301204819276, -23.818181818181817, -21.81761006289308, -19.809859154929576, -17.81958762886598, -15.774647887323944, -13.807486631016042, -11.86046511627907, -9.854054054054053, -7.780346820809249, -5.8343558282208585, -3.8860759493670884, -1.8313953488372092, 0.17307692307692307, 2.2133333333333334, 4.155172413793103, 6.1625, 8.17605633802817, 10.153284671532846, 12.2, 14.177304964539006, 16.272727272727273, 18.144927536231883, 20.197080291970803, 22.224358974358974, 24.229007633587788, 26.203252032520325, 28.204225352112676, 30.193548387096776, 32.20261437908497, 34.171875, 36.20338983050848, 38.27731092436975, 40.157407407407405, 42.19469026548673, 44.107438016528924, 46.297872340425535, 48.208695652173915, 50.06976744186046, 52.270270270270274, 54.285714285714285, 56.25423728813559, 58.23728813559322, 60.27272727272727, 62.21875, 64.23529411764706, 66.3076923076923, 68.10714285714286, 70.17948717948718, 72.125, 74.35483870967742, 76.23333333333333, 78.28571428571429, 80.22222222222223, 82.26086956521739, 84.31818181818181, 86.0, 88.03846153846153, 90.0, 92.05, 94.11111111111111, 96.15, 98.0], \"xaxis\": \"x\", \"y\": [0.0, 0.0, 0.0, 1.0, 0.0, 0.0, 0.0, 0.0, 0.0, 0.0, 0.0, 0.14285714285714285, 0.0, 0.05263157894736842, 0.08333333333333333, 0.0, 0.075, 0.08108108108108109, 0.06666666666666667, 0.05128205128205128, 0.015151515151515152, 0.05952380952380952, 0.038461538461538464, 0.08045977011494253, 0.08181818181818182, 0.06944444444444445, 0.0975609756097561, 0.09615384615384616, 0.07857142857142857, 0.06666666666666667, 0.06535947712418301, 0.0949367088607595, 0.09219858156028368, 0.14583333333333334, 0.16428571428571428, 0.14054054054054055, 0.14534883720930233, 0.16393442622950818, 0.22807017543859648, 0.2883435582822086, 0.2088607594936709, 0.30538922155688625, 0.54, 0.6533333333333333, 0.7134502923976608, 0.779874213836478, 0.8156028368794326, 0.8686131386861314, 0.8656716417910447, 0.8823529411764706, 0.9307692307692308, 0.9044117647058824, 0.927007299270073, 0.9102564102564102, 0.9153846153846154, 0.967479674796748, 0.9361702127659575, 0.9032258064516129, 0.9342105263157895, 0.926829268292683, 0.9568965517241379, 0.9217391304347826, 0.9439252336448598, 0.990909090909091, 0.9504132231404959, 0.967741935483871, 0.9557522123893806, 0.9767441860465116, 1.0, 0.9682539682539683, 0.9830508474576272, 0.9482758620689655, 0.9814814814814815, 0.96875, 0.9411764705882353, 0.9459459459459459, 0.9285714285714286, 0.9743589743589743, 0.96875, 1.0, 0.9655172413793104, 1.0, 0.9444444444444444, 1.0, 0.9545454545454546, 1.0, 0.9615384615384616, 0.9230769230769231, 1.0, 1.0, 0.95, 0.9473684210526315], \"yaxis\": \"y\"}, {\"name\": \"Fitted Values\", \"type\": \"scatter\", \"x\": [-100.0, -85.0, -80.0, -77.0, -75.0, -74.0, -71.0, -70.0, -67.5, -66.0, -64.0, -61.714285714285715, -59.6875, -57.8421052631579, -55.791666666666664, -53.791666666666664, -51.707317073170735, -49.743589743589745, -47.68852459016394, -45.81012658227848, -43.80597014925373, -41.80952380952381, -39.782051282051285, -37.76136363636363, -35.81818181818182, -33.82876712328767, -31.84552845528455, -29.826923076923077, -27.866197183098592, -25.825301204819276, -23.818181818181817, -21.81761006289308, -19.809859154929576, -17.81958762886598, -15.774647887323944, -13.807486631016042, -11.86046511627907, -9.854054054054053, -7.780346820809249, -5.8343558282208585, -3.8860759493670884, -1.8313953488372092, 0.17307692307692307, 2.2133333333333334, 4.155172413793103, 6.1625, 8.17605633802817, 10.153284671532846, 12.2, 14.177304964539006, 16.272727272727273, 18.144927536231883, 20.197080291970803, 22.224358974358974, 24.229007633587788, 26.203252032520325, 28.204225352112676, 30.193548387096776, 32.20261437908497, 34.171875, 36.20338983050848, 38.27731092436975, 40.157407407407405, 42.19469026548673, 44.107438016528924, 46.297872340425535, 48.208695652173915, 50.06976744186046, 52.270270270270274, 54.285714285714285, 56.25423728813559, 58.23728813559322, 60.27272727272727, 62.21875, 64.23529411764706, 66.3076923076923, 68.10714285714286, 70.17948717948718, 72.125, 74.35483870967742, 76.23333333333333, 78.28571428571429, 80.22222222222223, 82.26086956521739, 84.31818181818181, 86.0, 88.03846153846153, 90.0, 92.05, 94.11111111111111, 96.15, 98.0], \"y\": [-0.22069480992212365, -0.15776169567439952, -0.13608424779228848, -0.12290984071113309, -0.11405692834374254, -0.10960947986606115, -0.09618316525707271, -0.09167973732876174, -0.08035819062602612, -0.07352607698894403, -0.06436527764309082, -0.053825818363114446, -0.04442031203151368, -0.03580720903709206, -0.02618033765584637, -0.016733809864071362, -0.006829011548027993, 0.00255782445810379, 0.012439342684419203, 0.021522504310212628, 0.031268701418885825, 0.041033259654346725, 0.051006783033200075, 0.061004135068430033, 0.07067161880974519, 0.08062404762139269, 0.09060067915884192, 0.10081191633034249, 0.11078468772041059, 0.12122276883502249, 0.13154479144676798, 0.1418892152357443, 0.152327105312594, 0.16272972665292693, 0.17347605629684357, 0.18386856683535016, 0.19420789133287839, 0.2049183861835266, 0.21604761627084434, 0.2265456118830834, 0.23710901757319805, 0.24830742081213147, 0.34380957163452935, 0.761866447426879, 0.7769801572874157, 0.7920635285635378, 0.8066448474702923, 0.8204300673591343, 0.834138584915824, 0.8468460079707084, 0.8597297043350792, 0.8707458209042481, 0.8822672525971166, 0.8930898916269854, 0.9032449438096589, 0.9127148750909464, 0.9217730059920096, 0.9302410090384803, 0.9382479386929122, 0.9455670528726993, 0.9525641548138052, 0.9591291602385524, 0.9645838542343007, 0.9699472126127677, 0.9744764414492637, 0.9790418177129124, 0.9825030895722304, 0.9854024834148325, 0.9882080967201532, 0.9902097687019469, 0.9916348802079534, 0.992539140403189, 0.9929112932075318, 0.9927450912703594, 0.9920288929353298, 0.9907170678209286, 0.989115832155832, 0.9867154380104447, 0.9839381521688852, 0.9801130851726123, 0.9763780069161705, 0.9717451237431584, 0.9668541321494762, 0.9611524796377043, 0.9548273815986149, 0.9492466567495039, 0.9419483171103555, 0.9343986630391903, 0.9259454777068756, 0.9168720924818187, 0.9073316024956087, 0.8981978963932784]}],                        {\"legend\": {\"tracegroupgap\": 0}, \"template\": {\"data\": {\"bar\": [{\"error_x\": {\"color\": \"#2a3f5f\"}, \"error_y\": {\"color\": \"#2a3f5f\"}, \"marker\": {\"line\": {\"color\": \"white\", \"width\": 0.5}}, \"type\": \"bar\"}], \"barpolar\": [{\"marker\": {\"line\": {\"color\": \"white\", \"width\": 0.5}}, \"type\": \"barpolar\"}], \"carpet\": [{\"aaxis\": {\"endlinecolor\": \"#2a3f5f\", \"gridcolor\": \"#C8D4E3\", \"linecolor\": \"#C8D4E3\", \"minorgridcolor\": \"#C8D4E3\", \"startlinecolor\": \"#2a3f5f\"}, \"baxis\": {\"endlinecolor\": \"#2a3f5f\", \"gridcolor\": \"#C8D4E3\", \"linecolor\": \"#C8D4E3\", \"minorgridcolor\": \"#C8D4E3\", \"startlinecolor\": \"#2a3f5f\"}, \"type\": \"carpet\"}], \"choropleth\": [{\"colorbar\": {\"outlinewidth\": 0, \"ticks\": \"\"}, \"type\": \"choropleth\"}], \"contour\": [{\"colorbar\": {\"outlinewidth\": 0, \"ticks\": \"\"}, \"colorscale\": [[0.0, \"#0d0887\"], [0.1111111111111111, \"#46039f\"], [0.2222222222222222, \"#7201a8\"], [0.3333333333333333, \"#9c179e\"], [0.4444444444444444, \"#bd3786\"], [0.5555555555555556, \"#d8576b\"], [0.6666666666666666, \"#ed7953\"], [0.7777777777777778, \"#fb9f3a\"], [0.8888888888888888, \"#fdca26\"], [1.0, \"#f0f921\"]], \"type\": \"contour\"}], \"contourcarpet\": [{\"colorbar\": {\"outlinewidth\": 0, \"ticks\": \"\"}, \"type\": \"contourcarpet\"}], \"heatmap\": [{\"colorbar\": {\"outlinewidth\": 0, \"ticks\": \"\"}, \"colorscale\": [[0.0, \"#0d0887\"], [0.1111111111111111, \"#46039f\"], [0.2222222222222222, \"#7201a8\"], [0.3333333333333333, \"#9c179e\"], [0.4444444444444444, \"#bd3786\"], [0.5555555555555556, \"#d8576b\"], [0.6666666666666666, \"#ed7953\"], [0.7777777777777778, \"#fb9f3a\"], [0.8888888888888888, \"#fdca26\"], [1.0, \"#f0f921\"]], \"type\": \"heatmap\"}], \"heatmapgl\": [{\"colorbar\": {\"outlinewidth\": 0, \"ticks\": \"\"}, \"colorscale\": [[0.0, \"#0d0887\"], [0.1111111111111111, \"#46039f\"], [0.2222222222222222, \"#7201a8\"], [0.3333333333333333, \"#9c179e\"], [0.4444444444444444, \"#bd3786\"], [0.5555555555555556, \"#d8576b\"], [0.6666666666666666, \"#ed7953\"], [0.7777777777777778, \"#fb9f3a\"], [0.8888888888888888, \"#fdca26\"], [1.0, \"#f0f921\"]], \"type\": \"heatmapgl\"}], \"histogram\": [{\"marker\": {\"colorbar\": {\"outlinewidth\": 0, \"ticks\": \"\"}}, \"type\": \"histogram\"}], \"histogram2d\": [{\"colorbar\": {\"outlinewidth\": 0, \"ticks\": \"\"}, \"colorscale\": [[0.0, \"#0d0887\"], [0.1111111111111111, \"#46039f\"], [0.2222222222222222, \"#7201a8\"], [0.3333333333333333, \"#9c179e\"], [0.4444444444444444, \"#bd3786\"], [0.5555555555555556, \"#d8576b\"], [0.6666666666666666, \"#ed7953\"], [0.7777777777777778, \"#fb9f3a\"], [0.8888888888888888, \"#fdca26\"], [1.0, \"#f0f921\"]], \"type\": \"histogram2d\"}], \"histogram2dcontour\": [{\"colorbar\": {\"outlinewidth\": 0, \"ticks\": \"\"}, \"colorscale\": [[0.0, \"#0d0887\"], [0.1111111111111111, \"#46039f\"], [0.2222222222222222, \"#7201a8\"], [0.3333333333333333, \"#9c179e\"], [0.4444444444444444, \"#bd3786\"], [0.5555555555555556, \"#d8576b\"], [0.6666666666666666, \"#ed7953\"], [0.7777777777777778, \"#fb9f3a\"], [0.8888888888888888, \"#fdca26\"], [1.0, \"#f0f921\"]], \"type\": \"histogram2dcontour\"}], \"mesh3d\": [{\"colorbar\": {\"outlinewidth\": 0, \"ticks\": \"\"}, \"type\": \"mesh3d\"}], \"parcoords\": [{\"line\": {\"colorbar\": {\"outlinewidth\": 0, \"ticks\": \"\"}}, \"type\": \"parcoords\"}], \"pie\": [{\"automargin\": true, \"type\": \"pie\"}], \"scatter\": [{\"marker\": {\"colorbar\": {\"outlinewidth\": 0, \"ticks\": \"\"}}, \"type\": \"scatter\"}], \"scatter3d\": [{\"line\": {\"colorbar\": {\"outlinewidth\": 0, \"ticks\": \"\"}}, \"marker\": {\"colorbar\": {\"outlinewidth\": 0, \"ticks\": \"\"}}, \"type\": \"scatter3d\"}], \"scattercarpet\": [{\"marker\": {\"colorbar\": {\"outlinewidth\": 0, \"ticks\": \"\"}}, \"type\": \"scattercarpet\"}], \"scattergeo\": [{\"marker\": {\"colorbar\": {\"outlinewidth\": 0, \"ticks\": \"\"}}, \"type\": \"scattergeo\"}], \"scattergl\": [{\"marker\": {\"colorbar\": {\"outlinewidth\": 0, \"ticks\": \"\"}}, \"type\": \"scattergl\"}], \"scattermapbox\": [{\"marker\": {\"colorbar\": {\"outlinewidth\": 0, \"ticks\": \"\"}}, \"type\": \"scattermapbox\"}], \"scatterpolar\": [{\"marker\": {\"colorbar\": {\"outlinewidth\": 0, \"ticks\": \"\"}}, \"type\": \"scatterpolar\"}], \"scatterpolargl\": [{\"marker\": {\"colorbar\": {\"outlinewidth\": 0, \"ticks\": \"\"}}, \"type\": \"scatterpolargl\"}], \"scatterternary\": [{\"marker\": {\"colorbar\": {\"outlinewidth\": 0, \"ticks\": \"\"}}, \"type\": \"scatterternary\"}], \"surface\": [{\"colorbar\": {\"outlinewidth\": 0, \"ticks\": \"\"}, \"colorscale\": [[0.0, \"#0d0887\"], [0.1111111111111111, \"#46039f\"], [0.2222222222222222, \"#7201a8\"], [0.3333333333333333, \"#9c179e\"], [0.4444444444444444, \"#bd3786\"], [0.5555555555555556, \"#d8576b\"], [0.6666666666666666, \"#ed7953\"], [0.7777777777777778, \"#fb9f3a\"], [0.8888888888888888, \"#fdca26\"], [1.0, \"#f0f921\"]], \"type\": \"surface\"}], \"table\": [{\"cells\": {\"fill\": {\"color\": \"#EBF0F8\"}, \"line\": {\"color\": \"white\"}}, \"header\": {\"fill\": {\"color\": \"#C8D4E3\"}, \"line\": {\"color\": \"white\"}}, \"type\": \"table\"}]}, \"layout\": {\"annotationdefaults\": {\"arrowcolor\": \"#2a3f5f\", \"arrowhead\": 0, \"arrowwidth\": 1}, \"autotypenumbers\": \"strict\", \"coloraxis\": {\"colorbar\": {\"outlinewidth\": 0, \"ticks\": \"\"}}, \"colorscale\": {\"diverging\": [[0, \"#8e0152\"], [0.1, \"#c51b7d\"], [0.2, \"#de77ae\"], [0.3, \"#f1b6da\"], [0.4, \"#fde0ef\"], [0.5, \"#f7f7f7\"], [0.6, \"#e6f5d0\"], [0.7, \"#b8e186\"], [0.8, \"#7fbc41\"], [0.9, \"#4d9221\"], [1, \"#276419\"]], \"sequential\": [[0.0, \"#0d0887\"], [0.1111111111111111, \"#46039f\"], [0.2222222222222222, \"#7201a8\"], [0.3333333333333333, \"#9c179e\"], [0.4444444444444444, \"#bd3786\"], [0.5555555555555556, \"#d8576b\"], [0.6666666666666666, \"#ed7953\"], [0.7777777777777778, \"#fb9f3a\"], [0.8888888888888888, \"#fdca26\"], [1.0, \"#f0f921\"]], \"sequentialminus\": [[0.0, \"#0d0887\"], [0.1111111111111111, \"#46039f\"], [0.2222222222222222, \"#7201a8\"], [0.3333333333333333, \"#9c179e\"], [0.4444444444444444, \"#bd3786\"], [0.5555555555555556, \"#d8576b\"], [0.6666666666666666, \"#ed7953\"], [0.7777777777777778, \"#fb9f3a\"], [0.8888888888888888, \"#fdca26\"], [1.0, \"#f0f921\"]]}, \"colorway\": [\"#636efa\", \"#EF553B\", \"#00cc96\", \"#ab63fa\", \"#FFA15A\", \"#19d3f3\", \"#FF6692\", \"#B6E880\", \"#FF97FF\", \"#FECB52\"], \"font\": {\"color\": \"#2a3f5f\"}, \"geo\": {\"bgcolor\": \"white\", \"lakecolor\": \"white\", \"landcolor\": \"white\", \"showlakes\": true, \"showland\": true, \"subunitcolor\": \"#C8D4E3\"}, \"hoverlabel\": {\"align\": \"left\"}, \"hovermode\": \"closest\", \"mapbox\": {\"style\": \"light\"}, \"paper_bgcolor\": \"white\", \"plot_bgcolor\": \"white\", \"polar\": {\"angularaxis\": {\"gridcolor\": \"#EBF0F8\", \"linecolor\": \"#EBF0F8\", \"ticks\": \"\"}, \"bgcolor\": \"white\", \"radialaxis\": {\"gridcolor\": \"#EBF0F8\", \"linecolor\": \"#EBF0F8\", \"ticks\": \"\"}}, \"scene\": {\"xaxis\": {\"backgroundcolor\": \"white\", \"gridcolor\": \"#DFE8F3\", \"gridwidth\": 2, \"linecolor\": \"#EBF0F8\", \"showbackground\": true, \"ticks\": \"\", \"zerolinecolor\": \"#EBF0F8\"}, \"yaxis\": {\"backgroundcolor\": \"white\", \"gridcolor\": \"#DFE8F3\", \"gridwidth\": 2, \"linecolor\": \"#EBF0F8\", \"showbackground\": true, \"ticks\": \"\", \"zerolinecolor\": \"#EBF0F8\"}, \"zaxis\": {\"backgroundcolor\": \"white\", \"gridcolor\": \"#DFE8F3\", \"gridwidth\": 2, \"linecolor\": \"#EBF0F8\", \"showbackground\": true, \"ticks\": \"\", \"zerolinecolor\": \"#EBF0F8\"}}, \"shapedefaults\": {\"line\": {\"color\": \"#2a3f5f\"}}, \"ternary\": {\"aaxis\": {\"gridcolor\": \"#DFE8F3\", \"linecolor\": \"#A2B1C6\", \"ticks\": \"\"}, \"baxis\": {\"gridcolor\": \"#DFE8F3\", \"linecolor\": \"#A2B1C6\", \"ticks\": \"\"}, \"bgcolor\": \"white\", \"caxis\": {\"gridcolor\": \"#DFE8F3\", \"linecolor\": \"#A2B1C6\", \"ticks\": \"\"}}, \"title\": {\"x\": 0.05}, \"xaxis\": {\"automargin\": true, \"gridcolor\": \"#EBF0F8\", \"linecolor\": \"#EBF0F8\", \"ticks\": \"\", \"title\": {\"standoff\": 15}, \"zerolinecolor\": \"#EBF0F8\", \"zerolinewidth\": 2}, \"yaxis\": {\"automargin\": true, \"gridcolor\": \"#EBF0F8\", \"linecolor\": \"#EBF0F8\", \"ticks\": \"\", \"title\": {\"standoff\": 15}, \"zerolinecolor\": \"#EBF0F8\", \"zerolinewidth\": 2}}}, \"title\": {\"text\": \"The Incumbency Advantage\"}, \"xaxis\": {\"anchor\": \"y\", \"domain\": [0.0, 1.0], \"title\": {\"text\": \"Democrat's margin of victory at time t\"}}, \"yaxis\": {\"anchor\": \"x\", \"domain\": [0.0, 1.0], \"title\": {\"text\": \"Democrat's probability of victory time t+1\"}}},                        {\"responsive\": true}                    ).then(function(){\n",
       "                            \n",
       "var gd = document.getElementById('60df5d93-9d9f-4871-9054-eceb5ce51991');\n",
       "var x = new MutationObserver(function (mutations, observer) {{\n",
       "        var display = window.getComputedStyle(gd).display;\n",
       "        if (!display || display === 'none') {{\n",
       "            console.log([gd, 'removed!']);\n",
       "            Plotly.purge(gd);\n",
       "            observer.disconnect();\n",
       "        }}\n",
       "}});\n",
       "\n",
       "// Listen for the removal of the full notebook cells\n",
       "var notebookContainer = gd.closest('#notebook-container');\n",
       "if (notebookContainer) {{\n",
       "    x.observe(notebookContainer, {childList: true});\n",
       "}}\n",
       "\n",
       "// Listen for the clearing of the current output cell\n",
       "var outputEl = gd.closest('.output');\n",
       "if (outputEl) {{\n",
       "    x.observe(outputEl, {childList: true});\n",
       "}}\n",
       "\n",
       "                        })                };                });            </script>        </div>"
      ]
     },
     "metadata": {},
     "output_type": "display_data"
    }
   ],
   "source": [
    "# get predicted values and bin them so can put on same plot\n",
    "pred_rdd2 = rdd2.fit().predict(rd_wide)\n",
    "new_rd_wide = rd_wide.copy()\n",
    "new_rd_wide['pred_val'] = pred_rdd2\n",
    "binned_data_rdd2 = new_rd_wide.groupby('margin_bin').mean().reset_index()\n",
    "\n",
    "fig = px.scatter(binned_data, x='margin', y='dem_win_p1',\n",
    "           title='The Incumbency Advantage',\n",
    "           labels={'margin':\"Democrat's margin of victory at time t\",\n",
    "                   'dem_win_p1': \"Democrat's probability of victory time t+1\"},\n",
    "           template=\"plotly_white\")\n",
    "fig.add_scatter(x=binned_data['margin'], y=binned_data_rdd2['pred_val'],\n",
    "               name='Fitted Values')\n",
    "fig.show()"
   ]
  },
  {
   "cell_type": "markdown",
   "metadata": {},
   "source": [
    "### The Role of Covariates\n",
    "\n",
    "Notice that we didn't include any other controls in the models above, such as candidate experience.  In principle, covariates are not needed for identification in RD, but they can help reduce sampling variability in the estimator and improve precision if they are correlated with the potential outcomes.  Note that this is a standard argument which also supports inclusion of covariates in analyses of randomized trials.\n",
    "\n",
    "Adding covariates should not affect the point estimate of the effect (very much). If it does, there is likely a problem.  The wider the bandwidth the more important it may be to include covariates -  including additional covariates may eliminate some bias that is the result of the inclusion of these additional observations far from the cutoff point.\n",
    "\n",
    "The first and most important point is that the presence of these covariates rarely changes the identification strategy. Typically, the conditional distribution of the covariates $Z$ given $X$ is continuous at $x = c$. If such discontinuities in other covariates are found, the justification of the identification strategy may be questionable. If the conditional distribution of $Z$ given $X$ is continuous at $x = c$, then including Z in the regression. \n",
    "\n",
    "### Threats to the Validity of the RDD\n",
    "\n",
    "It is impossible to test the continuity assumption directly, but we can test some implications of it.  Namely, all observed predetermined characteristics should have identical distributions on either side of the cutoff, in the limit, as we approach smaller and smaller bandwidths. That is, there should be no discontinuities in the observables.\n",
    "\n",
    "Again there is an analogy to an experiment: we cannot test whether unobserved characteristics are balanced, but we can test the observables. Rejection calls the randomization into question.\n",
    "\n",
    "A subtle point in the RD context is that a finding a discontinuity in observable covariates indicates a violation of the continuity assumption, not a violation of unconfoundedness, which is satisfied by definition.\n",
    "\n",
    "To make sure that our RDD is valid, we'll want to have evidence that there are not discontinuities in the covariates at the cut point - or with any pre-determined variables  E.g., we can test for discontinuities in the Democrates vote share at t-1."
   ]
  },
  {
   "cell_type": "code",
   "execution_count": 13,
   "metadata": {},
   "outputs": [
    {
     "data": {
      "application/vnd.plotly.v1+json": {
       "config": {
        "plotlyServerURL": "https://plot.ly"
       },
       "data": [
        {
         "hovertemplate": "Democrat's margin of victory at time t=%{x}<br>dem_win_m1=%{y}<extra></extra>",
         "legendgroup": "",
         "marker": {
          "color": "#636efa",
          "symbol": "circle"
         },
         "mode": "markers",
         "name": "",
         "orientation": "v",
         "showlegend": false,
         "type": "scatter",
         "x": [
          -100,
          -85,
          -80,
          -77,
          -75,
          -74,
          -71,
          -70,
          -67.5,
          -66,
          -64,
          -61.714285714285715,
          -59.6875,
          -57.8421052631579,
          -55.791666666666664,
          -53.791666666666664,
          -51.707317073170735,
          -49.743589743589745,
          -47.68852459016394,
          -45.81012658227848,
          -43.80597014925373,
          -41.80952380952381,
          -39.782051282051285,
          -37.76136363636363,
          -35.81818181818182,
          -33.82876712328767,
          -31.84552845528455,
          -29.826923076923077,
          -27.866197183098592,
          -25.825301204819276,
          -23.818181818181817,
          -21.81761006289308,
          -19.809859154929576,
          -17.81958762886598,
          -15.774647887323944,
          -13.807486631016042,
          -11.86046511627907,
          -9.854054054054053,
          -7.780346820809249,
          -5.8343558282208585,
          -3.8860759493670884,
          -1.8313953488372092,
          0.17307692307692307,
          2.2133333333333334,
          4.155172413793103,
          6.1625,
          8.17605633802817,
          10.153284671532846,
          12.2,
          14.177304964539006,
          16.272727272727273,
          18.144927536231883,
          20.197080291970803,
          22.224358974358974,
          24.229007633587788,
          26.203252032520325,
          28.204225352112676,
          30.193548387096776,
          32.20261437908497,
          34.171875,
          36.20338983050848,
          38.27731092436975,
          40.157407407407405,
          42.19469026548673,
          44.107438016528924,
          46.297872340425535,
          48.208695652173915,
          50.06976744186046,
          52.270270270270274,
          54.285714285714285,
          56.25423728813559,
          58.23728813559322,
          60.27272727272727,
          62.21875,
          64.23529411764706,
          66.3076923076923,
          68.10714285714286,
          70.17948717948718,
          72.125,
          74.35483870967742,
          76.23333333333333,
          78.28571428571429,
          80.22222222222223,
          82.26086956521739,
          84.31818181818181,
          86,
          88.03846153846153,
          90,
          92.05,
          94.11111111111111,
          96.15,
          98
         ],
         "xaxis": "x",
         "y": [
          0,
          0,
          0,
          1,
          0,
          0,
          0,
          0,
          0,
          0,
          0,
          0.14285714285714285,
          0,
          0,
          0,
          0.043478260869565216,
          0.024390243902439025,
          0.02857142857142857,
          0.03636363636363636,
          0,
          0,
          0.02631578947368421,
          0.041666666666666664,
          0.02531645569620253,
          0.009433962264150943,
          0.007194244604316547,
          0.017241379310344827,
          0.06338028169014084,
          0.031746031746031744,
          0.07051282051282051,
          0.0425531914893617,
          0.06,
          0.05343511450381679,
          0.08620689655172414,
          0.0916030534351145,
          0.15517241379310345,
          0.13924050632911392,
          0.1695906432748538,
          0.2546583850931677,
          0.29931972789115646,
          0.3356164383561644,
          0.4177215189873418,
          0.41134751773049644,
          0.4859154929577465,
          0.5740740740740741,
          0.6575342465753424,
          0.656934306569343,
          0.7384615384615385,
          0.8625954198473282,
          0.8181818181818182,
          0.7950819672131147,
          0.9242424242424242,
          0.9029850746268657,
          0.9466666666666667,
          0.905511811023622,
          0.9915254237288136,
          0.9411764705882353,
          0.9243697478991597,
          0.9657534246575342,
          0.976,
          0.9652173913043478,
          0.9663865546218487,
          0.9722222222222222,
          0.9813084112149533,
          0.9830508474576272,
          0.989010989010989,
          0.972972972972973,
          0.9761904761904762,
          0.9861111111111112,
          0.9836065573770492,
          1,
          1,
          0.9636363636363636,
          0.9375,
          0.9607843137254902,
          0.9743589743589743,
          0.9285714285714286,
          0.972972972972973,
          0.96875,
          1,
          1,
          0.9259259259259259,
          0.9444444444444444,
          0.95,
          1,
          1,
          1,
          1,
          1,
          1,
          0.95,
          1
         ],
         "yaxis": "y"
        }
       ],
       "layout": {
        "legend": {
         "tracegroupgap": 0
        },
        "template": {
         "data": {
          "bar": [
           {
            "error_x": {
             "color": "#2a3f5f"
            },
            "error_y": {
             "color": "#2a3f5f"
            },
            "marker": {
             "line": {
              "color": "white",
              "width": 0.5
             }
            },
            "type": "bar"
           }
          ],
          "barpolar": [
           {
            "marker": {
             "line": {
              "color": "white",
              "width": 0.5
             }
            },
            "type": "barpolar"
           }
          ],
          "carpet": [
           {
            "aaxis": {
             "endlinecolor": "#2a3f5f",
             "gridcolor": "#C8D4E3",
             "linecolor": "#C8D4E3",
             "minorgridcolor": "#C8D4E3",
             "startlinecolor": "#2a3f5f"
            },
            "baxis": {
             "endlinecolor": "#2a3f5f",
             "gridcolor": "#C8D4E3",
             "linecolor": "#C8D4E3",
             "minorgridcolor": "#C8D4E3",
             "startlinecolor": "#2a3f5f"
            },
            "type": "carpet"
           }
          ],
          "choropleth": [
           {
            "colorbar": {
             "outlinewidth": 0,
             "ticks": ""
            },
            "type": "choropleth"
           }
          ],
          "contour": [
           {
            "colorbar": {
             "outlinewidth": 0,
             "ticks": ""
            },
            "colorscale": [
             [
              0,
              "#0d0887"
             ],
             [
              0.1111111111111111,
              "#46039f"
             ],
             [
              0.2222222222222222,
              "#7201a8"
             ],
             [
              0.3333333333333333,
              "#9c179e"
             ],
             [
              0.4444444444444444,
              "#bd3786"
             ],
             [
              0.5555555555555556,
              "#d8576b"
             ],
             [
              0.6666666666666666,
              "#ed7953"
             ],
             [
              0.7777777777777778,
              "#fb9f3a"
             ],
             [
              0.8888888888888888,
              "#fdca26"
             ],
             [
              1,
              "#f0f921"
             ]
            ],
            "type": "contour"
           }
          ],
          "contourcarpet": [
           {
            "colorbar": {
             "outlinewidth": 0,
             "ticks": ""
            },
            "type": "contourcarpet"
           }
          ],
          "heatmap": [
           {
            "colorbar": {
             "outlinewidth": 0,
             "ticks": ""
            },
            "colorscale": [
             [
              0,
              "#0d0887"
             ],
             [
              0.1111111111111111,
              "#46039f"
             ],
             [
              0.2222222222222222,
              "#7201a8"
             ],
             [
              0.3333333333333333,
              "#9c179e"
             ],
             [
              0.4444444444444444,
              "#bd3786"
             ],
             [
              0.5555555555555556,
              "#d8576b"
             ],
             [
              0.6666666666666666,
              "#ed7953"
             ],
             [
              0.7777777777777778,
              "#fb9f3a"
             ],
             [
              0.8888888888888888,
              "#fdca26"
             ],
             [
              1,
              "#f0f921"
             ]
            ],
            "type": "heatmap"
           }
          ],
          "heatmapgl": [
           {
            "colorbar": {
             "outlinewidth": 0,
             "ticks": ""
            },
            "colorscale": [
             [
              0,
              "#0d0887"
             ],
             [
              0.1111111111111111,
              "#46039f"
             ],
             [
              0.2222222222222222,
              "#7201a8"
             ],
             [
              0.3333333333333333,
              "#9c179e"
             ],
             [
              0.4444444444444444,
              "#bd3786"
             ],
             [
              0.5555555555555556,
              "#d8576b"
             ],
             [
              0.6666666666666666,
              "#ed7953"
             ],
             [
              0.7777777777777778,
              "#fb9f3a"
             ],
             [
              0.8888888888888888,
              "#fdca26"
             ],
             [
              1,
              "#f0f921"
             ]
            ],
            "type": "heatmapgl"
           }
          ],
          "histogram": [
           {
            "marker": {
             "colorbar": {
              "outlinewidth": 0,
              "ticks": ""
             }
            },
            "type": "histogram"
           }
          ],
          "histogram2d": [
           {
            "colorbar": {
             "outlinewidth": 0,
             "ticks": ""
            },
            "colorscale": [
             [
              0,
              "#0d0887"
             ],
             [
              0.1111111111111111,
              "#46039f"
             ],
             [
              0.2222222222222222,
              "#7201a8"
             ],
             [
              0.3333333333333333,
              "#9c179e"
             ],
             [
              0.4444444444444444,
              "#bd3786"
             ],
             [
              0.5555555555555556,
              "#d8576b"
             ],
             [
              0.6666666666666666,
              "#ed7953"
             ],
             [
              0.7777777777777778,
              "#fb9f3a"
             ],
             [
              0.8888888888888888,
              "#fdca26"
             ],
             [
              1,
              "#f0f921"
             ]
            ],
            "type": "histogram2d"
           }
          ],
          "histogram2dcontour": [
           {
            "colorbar": {
             "outlinewidth": 0,
             "ticks": ""
            },
            "colorscale": [
             [
              0,
              "#0d0887"
             ],
             [
              0.1111111111111111,
              "#46039f"
             ],
             [
              0.2222222222222222,
              "#7201a8"
             ],
             [
              0.3333333333333333,
              "#9c179e"
             ],
             [
              0.4444444444444444,
              "#bd3786"
             ],
             [
              0.5555555555555556,
              "#d8576b"
             ],
             [
              0.6666666666666666,
              "#ed7953"
             ],
             [
              0.7777777777777778,
              "#fb9f3a"
             ],
             [
              0.8888888888888888,
              "#fdca26"
             ],
             [
              1,
              "#f0f921"
             ]
            ],
            "type": "histogram2dcontour"
           }
          ],
          "mesh3d": [
           {
            "colorbar": {
             "outlinewidth": 0,
             "ticks": ""
            },
            "type": "mesh3d"
           }
          ],
          "parcoords": [
           {
            "line": {
             "colorbar": {
              "outlinewidth": 0,
              "ticks": ""
             }
            },
            "type": "parcoords"
           }
          ],
          "pie": [
           {
            "automargin": true,
            "type": "pie"
           }
          ],
          "scatter": [
           {
            "marker": {
             "colorbar": {
              "outlinewidth": 0,
              "ticks": ""
             }
            },
            "type": "scatter"
           }
          ],
          "scatter3d": [
           {
            "line": {
             "colorbar": {
              "outlinewidth": 0,
              "ticks": ""
             }
            },
            "marker": {
             "colorbar": {
              "outlinewidth": 0,
              "ticks": ""
             }
            },
            "type": "scatter3d"
           }
          ],
          "scattercarpet": [
           {
            "marker": {
             "colorbar": {
              "outlinewidth": 0,
              "ticks": ""
             }
            },
            "type": "scattercarpet"
           }
          ],
          "scattergeo": [
           {
            "marker": {
             "colorbar": {
              "outlinewidth": 0,
              "ticks": ""
             }
            },
            "type": "scattergeo"
           }
          ],
          "scattergl": [
           {
            "marker": {
             "colorbar": {
              "outlinewidth": 0,
              "ticks": ""
             }
            },
            "type": "scattergl"
           }
          ],
          "scattermapbox": [
           {
            "marker": {
             "colorbar": {
              "outlinewidth": 0,
              "ticks": ""
             }
            },
            "type": "scattermapbox"
           }
          ],
          "scatterpolar": [
           {
            "marker": {
             "colorbar": {
              "outlinewidth": 0,
              "ticks": ""
             }
            },
            "type": "scatterpolar"
           }
          ],
          "scatterpolargl": [
           {
            "marker": {
             "colorbar": {
              "outlinewidth": 0,
              "ticks": ""
             }
            },
            "type": "scatterpolargl"
           }
          ],
          "scatterternary": [
           {
            "marker": {
             "colorbar": {
              "outlinewidth": 0,
              "ticks": ""
             }
            },
            "type": "scatterternary"
           }
          ],
          "surface": [
           {
            "colorbar": {
             "outlinewidth": 0,
             "ticks": ""
            },
            "colorscale": [
             [
              0,
              "#0d0887"
             ],
             [
              0.1111111111111111,
              "#46039f"
             ],
             [
              0.2222222222222222,
              "#7201a8"
             ],
             [
              0.3333333333333333,
              "#9c179e"
             ],
             [
              0.4444444444444444,
              "#bd3786"
             ],
             [
              0.5555555555555556,
              "#d8576b"
             ],
             [
              0.6666666666666666,
              "#ed7953"
             ],
             [
              0.7777777777777778,
              "#fb9f3a"
             ],
             [
              0.8888888888888888,
              "#fdca26"
             ],
             [
              1,
              "#f0f921"
             ]
            ],
            "type": "surface"
           }
          ],
          "table": [
           {
            "cells": {
             "fill": {
              "color": "#EBF0F8"
             },
             "line": {
              "color": "white"
             }
            },
            "header": {
             "fill": {
              "color": "#C8D4E3"
             },
             "line": {
              "color": "white"
             }
            },
            "type": "table"
           }
          ]
         },
         "layout": {
          "annotationdefaults": {
           "arrowcolor": "#2a3f5f",
           "arrowhead": 0,
           "arrowwidth": 1
          },
          "autotypenumbers": "strict",
          "coloraxis": {
           "colorbar": {
            "outlinewidth": 0,
            "ticks": ""
           }
          },
          "colorscale": {
           "diverging": [
            [
             0,
             "#8e0152"
            ],
            [
             0.1,
             "#c51b7d"
            ],
            [
             0.2,
             "#de77ae"
            ],
            [
             0.3,
             "#f1b6da"
            ],
            [
             0.4,
             "#fde0ef"
            ],
            [
             0.5,
             "#f7f7f7"
            ],
            [
             0.6,
             "#e6f5d0"
            ],
            [
             0.7,
             "#b8e186"
            ],
            [
             0.8,
             "#7fbc41"
            ],
            [
             0.9,
             "#4d9221"
            ],
            [
             1,
             "#276419"
            ]
           ],
           "sequential": [
            [
             0,
             "#0d0887"
            ],
            [
             0.1111111111111111,
             "#46039f"
            ],
            [
             0.2222222222222222,
             "#7201a8"
            ],
            [
             0.3333333333333333,
             "#9c179e"
            ],
            [
             0.4444444444444444,
             "#bd3786"
            ],
            [
             0.5555555555555556,
             "#d8576b"
            ],
            [
             0.6666666666666666,
             "#ed7953"
            ],
            [
             0.7777777777777778,
             "#fb9f3a"
            ],
            [
             0.8888888888888888,
             "#fdca26"
            ],
            [
             1,
             "#f0f921"
            ]
           ],
           "sequentialminus": [
            [
             0,
             "#0d0887"
            ],
            [
             0.1111111111111111,
             "#46039f"
            ],
            [
             0.2222222222222222,
             "#7201a8"
            ],
            [
             0.3333333333333333,
             "#9c179e"
            ],
            [
             0.4444444444444444,
             "#bd3786"
            ],
            [
             0.5555555555555556,
             "#d8576b"
            ],
            [
             0.6666666666666666,
             "#ed7953"
            ],
            [
             0.7777777777777778,
             "#fb9f3a"
            ],
            [
             0.8888888888888888,
             "#fdca26"
            ],
            [
             1,
             "#f0f921"
            ]
           ]
          },
          "colorway": [
           "#636efa",
           "#EF553B",
           "#00cc96",
           "#ab63fa",
           "#FFA15A",
           "#19d3f3",
           "#FF6692",
           "#B6E880",
           "#FF97FF",
           "#FECB52"
          ],
          "font": {
           "color": "#2a3f5f"
          },
          "geo": {
           "bgcolor": "white",
           "lakecolor": "white",
           "landcolor": "white",
           "showlakes": true,
           "showland": true,
           "subunitcolor": "#C8D4E3"
          },
          "hoverlabel": {
           "align": "left"
          },
          "hovermode": "closest",
          "mapbox": {
           "style": "light"
          },
          "paper_bgcolor": "white",
          "plot_bgcolor": "white",
          "polar": {
           "angularaxis": {
            "gridcolor": "#EBF0F8",
            "linecolor": "#EBF0F8",
            "ticks": ""
           },
           "bgcolor": "white",
           "radialaxis": {
            "gridcolor": "#EBF0F8",
            "linecolor": "#EBF0F8",
            "ticks": ""
           }
          },
          "scene": {
           "xaxis": {
            "backgroundcolor": "white",
            "gridcolor": "#DFE8F3",
            "gridwidth": 2,
            "linecolor": "#EBF0F8",
            "showbackground": true,
            "ticks": "",
            "zerolinecolor": "#EBF0F8"
           },
           "yaxis": {
            "backgroundcolor": "white",
            "gridcolor": "#DFE8F3",
            "gridwidth": 2,
            "linecolor": "#EBF0F8",
            "showbackground": true,
            "ticks": "",
            "zerolinecolor": "#EBF0F8"
           },
           "zaxis": {
            "backgroundcolor": "white",
            "gridcolor": "#DFE8F3",
            "gridwidth": 2,
            "linecolor": "#EBF0F8",
            "showbackground": true,
            "ticks": "",
            "zerolinecolor": "#EBF0F8"
           }
          },
          "shapedefaults": {
           "line": {
            "color": "#2a3f5f"
           }
          },
          "ternary": {
           "aaxis": {
            "gridcolor": "#DFE8F3",
            "linecolor": "#A2B1C6",
            "ticks": ""
           },
           "baxis": {
            "gridcolor": "#DFE8F3",
            "linecolor": "#A2B1C6",
            "ticks": ""
           },
           "bgcolor": "white",
           "caxis": {
            "gridcolor": "#DFE8F3",
            "linecolor": "#A2B1C6",
            "ticks": ""
           }
          },
          "title": {
           "x": 0.05
          },
          "xaxis": {
           "automargin": true,
           "gridcolor": "#EBF0F8",
           "linecolor": "#EBF0F8",
           "ticks": "",
           "title": {
            "standoff": 15
           },
           "zerolinecolor": "#EBF0F8",
           "zerolinewidth": 2
          },
          "yaxis": {
           "automargin": true,
           "gridcolor": "#EBF0F8",
           "linecolor": "#EBF0F8",
           "ticks": "",
           "title": {
            "standoff": 15
           },
           "zerolinecolor": "#EBF0F8",
           "zerolinewidth": 2
          }
         }
        },
        "title": {
         "text": "Validity Test - Pre-determined Variables"
        },
        "xaxis": {
         "anchor": "y",
         "domain": [
          0,
          1
         ],
         "title": {
          "text": "Democrat's margin of victory at time t"
         }
        },
        "yaxis": {
         "anchor": "x",
         "domain": [
          0,
          1
         ],
         "title": {
          "text": "dem_win_m1"
         }
        }
       }
      },
      "text/html": [
       "<div>                            <div id=\"7d0457d3-7216-479e-b810-0704dc5f8990\" class=\"plotly-graph-div\" style=\"height:525px; width:100%;\"></div>            <script type=\"text/javascript\">                require([\"plotly\"], function(Plotly) {                    window.PLOTLYENV=window.PLOTLYENV || {};                                    if (document.getElementById(\"7d0457d3-7216-479e-b810-0704dc5f8990\")) {                    Plotly.newPlot(                        \"7d0457d3-7216-479e-b810-0704dc5f8990\",                        [{\"hovertemplate\": \"Democrat's margin of victory at time t=%{x}<br>dem_win_m1=%{y}<extra></extra>\", \"legendgroup\": \"\", \"marker\": {\"color\": \"#636efa\", \"symbol\": \"circle\"}, \"mode\": \"markers\", \"name\": \"\", \"orientation\": \"v\", \"showlegend\": false, \"type\": \"scatter\", \"x\": [-100.0, -85.0, -80.0, -77.0, -75.0, -74.0, -71.0, -70.0, -67.5, -66.0, -64.0, -61.714285714285715, -59.6875, -57.8421052631579, -55.791666666666664, -53.791666666666664, -51.707317073170735, -49.743589743589745, -47.68852459016394, -45.81012658227848, -43.80597014925373, -41.80952380952381, -39.782051282051285, -37.76136363636363, -35.81818181818182, -33.82876712328767, -31.84552845528455, -29.826923076923077, -27.866197183098592, -25.825301204819276, -23.818181818181817, -21.81761006289308, -19.809859154929576, -17.81958762886598, -15.774647887323944, -13.807486631016042, -11.86046511627907, -9.854054054054053, -7.780346820809249, -5.8343558282208585, -3.8860759493670884, -1.8313953488372092, 0.17307692307692307, 2.2133333333333334, 4.155172413793103, 6.1625, 8.17605633802817, 10.153284671532846, 12.2, 14.177304964539006, 16.272727272727273, 18.144927536231883, 20.197080291970803, 22.224358974358974, 24.229007633587788, 26.203252032520325, 28.204225352112676, 30.193548387096776, 32.20261437908497, 34.171875, 36.20338983050848, 38.27731092436975, 40.157407407407405, 42.19469026548673, 44.107438016528924, 46.297872340425535, 48.208695652173915, 50.06976744186046, 52.270270270270274, 54.285714285714285, 56.25423728813559, 58.23728813559322, 60.27272727272727, 62.21875, 64.23529411764706, 66.3076923076923, 68.10714285714286, 70.17948717948718, 72.125, 74.35483870967742, 76.23333333333333, 78.28571428571429, 80.22222222222223, 82.26086956521739, 84.31818181818181, 86.0, 88.03846153846153, 90.0, 92.05, 94.11111111111111, 96.15, 98.0], \"xaxis\": \"x\", \"y\": [0.0, 0.0, 0.0, 1.0, 0.0, 0.0, 0.0, 0.0, 0.0, 0.0, 0.0, 0.14285714285714285, 0.0, 0.0, 0.0, 0.043478260869565216, 0.024390243902439025, 0.02857142857142857, 0.03636363636363636, 0.0, 0.0, 0.02631578947368421, 0.041666666666666664, 0.02531645569620253, 0.009433962264150943, 0.007194244604316547, 0.017241379310344827, 0.06338028169014084, 0.031746031746031744, 0.07051282051282051, 0.0425531914893617, 0.06, 0.05343511450381679, 0.08620689655172414, 0.0916030534351145, 0.15517241379310345, 0.13924050632911392, 0.1695906432748538, 0.2546583850931677, 0.29931972789115646, 0.3356164383561644, 0.4177215189873418, 0.41134751773049644, 0.4859154929577465, 0.5740740740740741, 0.6575342465753424, 0.656934306569343, 0.7384615384615385, 0.8625954198473282, 0.8181818181818182, 0.7950819672131147, 0.9242424242424242, 0.9029850746268657, 0.9466666666666667, 0.905511811023622, 0.9915254237288136, 0.9411764705882353, 0.9243697478991597, 0.9657534246575342, 0.976, 0.9652173913043478, 0.9663865546218487, 0.9722222222222222, 0.9813084112149533, 0.9830508474576272, 0.989010989010989, 0.972972972972973, 0.9761904761904762, 0.9861111111111112, 0.9836065573770492, 1.0, 1.0, 0.9636363636363636, 0.9375, 0.9607843137254902, 0.9743589743589743, 0.9285714285714286, 0.972972972972973, 0.96875, 1.0, 1.0, 0.9259259259259259, 0.9444444444444444, 0.95, 1.0, 1.0, 1.0, 1.0, 1.0, 1.0, 0.95, 1.0], \"yaxis\": \"y\"}],                        {\"legend\": {\"tracegroupgap\": 0}, \"template\": {\"data\": {\"bar\": [{\"error_x\": {\"color\": \"#2a3f5f\"}, \"error_y\": {\"color\": \"#2a3f5f\"}, \"marker\": {\"line\": {\"color\": \"white\", \"width\": 0.5}}, \"type\": \"bar\"}], \"barpolar\": [{\"marker\": {\"line\": {\"color\": \"white\", \"width\": 0.5}}, \"type\": \"barpolar\"}], \"carpet\": [{\"aaxis\": {\"endlinecolor\": \"#2a3f5f\", \"gridcolor\": \"#C8D4E3\", \"linecolor\": \"#C8D4E3\", \"minorgridcolor\": \"#C8D4E3\", \"startlinecolor\": \"#2a3f5f\"}, \"baxis\": {\"endlinecolor\": \"#2a3f5f\", \"gridcolor\": \"#C8D4E3\", \"linecolor\": \"#C8D4E3\", \"minorgridcolor\": \"#C8D4E3\", \"startlinecolor\": \"#2a3f5f\"}, \"type\": \"carpet\"}], \"choropleth\": [{\"colorbar\": {\"outlinewidth\": 0, \"ticks\": \"\"}, \"type\": \"choropleth\"}], \"contour\": [{\"colorbar\": {\"outlinewidth\": 0, \"ticks\": \"\"}, \"colorscale\": [[0.0, \"#0d0887\"], [0.1111111111111111, \"#46039f\"], [0.2222222222222222, \"#7201a8\"], [0.3333333333333333, \"#9c179e\"], [0.4444444444444444, \"#bd3786\"], [0.5555555555555556, \"#d8576b\"], [0.6666666666666666, \"#ed7953\"], [0.7777777777777778, \"#fb9f3a\"], [0.8888888888888888, \"#fdca26\"], [1.0, \"#f0f921\"]], \"type\": \"contour\"}], \"contourcarpet\": [{\"colorbar\": {\"outlinewidth\": 0, \"ticks\": \"\"}, \"type\": \"contourcarpet\"}], \"heatmap\": [{\"colorbar\": {\"outlinewidth\": 0, \"ticks\": \"\"}, \"colorscale\": [[0.0, \"#0d0887\"], [0.1111111111111111, \"#46039f\"], [0.2222222222222222, \"#7201a8\"], [0.3333333333333333, \"#9c179e\"], [0.4444444444444444, \"#bd3786\"], [0.5555555555555556, \"#d8576b\"], [0.6666666666666666, \"#ed7953\"], [0.7777777777777778, \"#fb9f3a\"], [0.8888888888888888, \"#fdca26\"], [1.0, \"#f0f921\"]], \"type\": \"heatmap\"}], \"heatmapgl\": [{\"colorbar\": {\"outlinewidth\": 0, \"ticks\": \"\"}, \"colorscale\": [[0.0, \"#0d0887\"], [0.1111111111111111, \"#46039f\"], [0.2222222222222222, \"#7201a8\"], [0.3333333333333333, \"#9c179e\"], [0.4444444444444444, \"#bd3786\"], [0.5555555555555556, \"#d8576b\"], [0.6666666666666666, \"#ed7953\"], [0.7777777777777778, \"#fb9f3a\"], [0.8888888888888888, \"#fdca26\"], [1.0, \"#f0f921\"]], \"type\": \"heatmapgl\"}], \"histogram\": [{\"marker\": {\"colorbar\": {\"outlinewidth\": 0, \"ticks\": \"\"}}, \"type\": \"histogram\"}], \"histogram2d\": [{\"colorbar\": {\"outlinewidth\": 0, \"ticks\": \"\"}, \"colorscale\": [[0.0, \"#0d0887\"], [0.1111111111111111, \"#46039f\"], [0.2222222222222222, \"#7201a8\"], [0.3333333333333333, \"#9c179e\"], [0.4444444444444444, \"#bd3786\"], [0.5555555555555556, \"#d8576b\"], [0.6666666666666666, \"#ed7953\"], [0.7777777777777778, \"#fb9f3a\"], [0.8888888888888888, \"#fdca26\"], [1.0, \"#f0f921\"]], \"type\": \"histogram2d\"}], \"histogram2dcontour\": [{\"colorbar\": {\"outlinewidth\": 0, \"ticks\": \"\"}, \"colorscale\": [[0.0, \"#0d0887\"], [0.1111111111111111, \"#46039f\"], [0.2222222222222222, \"#7201a8\"], [0.3333333333333333, \"#9c179e\"], [0.4444444444444444, \"#bd3786\"], [0.5555555555555556, \"#d8576b\"], [0.6666666666666666, \"#ed7953\"], [0.7777777777777778, \"#fb9f3a\"], [0.8888888888888888, \"#fdca26\"], [1.0, \"#f0f921\"]], \"type\": \"histogram2dcontour\"}], \"mesh3d\": [{\"colorbar\": {\"outlinewidth\": 0, \"ticks\": \"\"}, \"type\": \"mesh3d\"}], \"parcoords\": [{\"line\": {\"colorbar\": {\"outlinewidth\": 0, \"ticks\": \"\"}}, \"type\": \"parcoords\"}], \"pie\": [{\"automargin\": true, \"type\": \"pie\"}], \"scatter\": [{\"marker\": {\"colorbar\": {\"outlinewidth\": 0, \"ticks\": \"\"}}, \"type\": \"scatter\"}], \"scatter3d\": [{\"line\": {\"colorbar\": {\"outlinewidth\": 0, \"ticks\": \"\"}}, \"marker\": {\"colorbar\": {\"outlinewidth\": 0, \"ticks\": \"\"}}, \"type\": \"scatter3d\"}], \"scattercarpet\": [{\"marker\": {\"colorbar\": {\"outlinewidth\": 0, \"ticks\": \"\"}}, \"type\": \"scattercarpet\"}], \"scattergeo\": [{\"marker\": {\"colorbar\": {\"outlinewidth\": 0, \"ticks\": \"\"}}, \"type\": \"scattergeo\"}], \"scattergl\": [{\"marker\": {\"colorbar\": {\"outlinewidth\": 0, \"ticks\": \"\"}}, \"type\": \"scattergl\"}], \"scattermapbox\": [{\"marker\": {\"colorbar\": {\"outlinewidth\": 0, \"ticks\": \"\"}}, \"type\": \"scattermapbox\"}], \"scatterpolar\": [{\"marker\": {\"colorbar\": {\"outlinewidth\": 0, \"ticks\": \"\"}}, \"type\": \"scatterpolar\"}], \"scatterpolargl\": [{\"marker\": {\"colorbar\": {\"outlinewidth\": 0, \"ticks\": \"\"}}, \"type\": \"scatterpolargl\"}], \"scatterternary\": [{\"marker\": {\"colorbar\": {\"outlinewidth\": 0, \"ticks\": \"\"}}, \"type\": \"scatterternary\"}], \"surface\": [{\"colorbar\": {\"outlinewidth\": 0, \"ticks\": \"\"}, \"colorscale\": [[0.0, \"#0d0887\"], [0.1111111111111111, \"#46039f\"], [0.2222222222222222, \"#7201a8\"], [0.3333333333333333, \"#9c179e\"], [0.4444444444444444, \"#bd3786\"], [0.5555555555555556, \"#d8576b\"], [0.6666666666666666, \"#ed7953\"], [0.7777777777777778, \"#fb9f3a\"], [0.8888888888888888, \"#fdca26\"], [1.0, \"#f0f921\"]], \"type\": \"surface\"}], \"table\": [{\"cells\": {\"fill\": {\"color\": \"#EBF0F8\"}, \"line\": {\"color\": \"white\"}}, \"header\": {\"fill\": {\"color\": \"#C8D4E3\"}, \"line\": {\"color\": \"white\"}}, \"type\": \"table\"}]}, \"layout\": {\"annotationdefaults\": {\"arrowcolor\": \"#2a3f5f\", \"arrowhead\": 0, \"arrowwidth\": 1}, \"autotypenumbers\": \"strict\", \"coloraxis\": {\"colorbar\": {\"outlinewidth\": 0, \"ticks\": \"\"}}, \"colorscale\": {\"diverging\": [[0, \"#8e0152\"], [0.1, \"#c51b7d\"], [0.2, \"#de77ae\"], [0.3, \"#f1b6da\"], [0.4, \"#fde0ef\"], [0.5, \"#f7f7f7\"], [0.6, \"#e6f5d0\"], [0.7, \"#b8e186\"], [0.8, \"#7fbc41\"], [0.9, \"#4d9221\"], [1, \"#276419\"]], \"sequential\": [[0.0, \"#0d0887\"], [0.1111111111111111, \"#46039f\"], [0.2222222222222222, \"#7201a8\"], [0.3333333333333333, \"#9c179e\"], [0.4444444444444444, \"#bd3786\"], [0.5555555555555556, \"#d8576b\"], [0.6666666666666666, \"#ed7953\"], [0.7777777777777778, \"#fb9f3a\"], [0.8888888888888888, \"#fdca26\"], [1.0, \"#f0f921\"]], \"sequentialminus\": [[0.0, \"#0d0887\"], [0.1111111111111111, \"#46039f\"], [0.2222222222222222, \"#7201a8\"], [0.3333333333333333, \"#9c179e\"], [0.4444444444444444, \"#bd3786\"], [0.5555555555555556, \"#d8576b\"], [0.6666666666666666, \"#ed7953\"], [0.7777777777777778, \"#fb9f3a\"], [0.8888888888888888, \"#fdca26\"], [1.0, \"#f0f921\"]]}, \"colorway\": [\"#636efa\", \"#EF553B\", \"#00cc96\", \"#ab63fa\", \"#FFA15A\", \"#19d3f3\", \"#FF6692\", \"#B6E880\", \"#FF97FF\", \"#FECB52\"], \"font\": {\"color\": \"#2a3f5f\"}, \"geo\": {\"bgcolor\": \"white\", \"lakecolor\": \"white\", \"landcolor\": \"white\", \"showlakes\": true, \"showland\": true, \"subunitcolor\": \"#C8D4E3\"}, \"hoverlabel\": {\"align\": \"left\"}, \"hovermode\": \"closest\", \"mapbox\": {\"style\": \"light\"}, \"paper_bgcolor\": \"white\", \"plot_bgcolor\": \"white\", \"polar\": {\"angularaxis\": {\"gridcolor\": \"#EBF0F8\", \"linecolor\": \"#EBF0F8\", \"ticks\": \"\"}, \"bgcolor\": \"white\", \"radialaxis\": {\"gridcolor\": \"#EBF0F8\", \"linecolor\": \"#EBF0F8\", \"ticks\": \"\"}}, \"scene\": {\"xaxis\": {\"backgroundcolor\": \"white\", \"gridcolor\": \"#DFE8F3\", \"gridwidth\": 2, \"linecolor\": \"#EBF0F8\", \"showbackground\": true, \"ticks\": \"\", \"zerolinecolor\": \"#EBF0F8\"}, \"yaxis\": {\"backgroundcolor\": \"white\", \"gridcolor\": \"#DFE8F3\", \"gridwidth\": 2, \"linecolor\": \"#EBF0F8\", \"showbackground\": true, \"ticks\": \"\", \"zerolinecolor\": \"#EBF0F8\"}, \"zaxis\": {\"backgroundcolor\": \"white\", \"gridcolor\": \"#DFE8F3\", \"gridwidth\": 2, \"linecolor\": \"#EBF0F8\", \"showbackground\": true, \"ticks\": \"\", \"zerolinecolor\": \"#EBF0F8\"}}, \"shapedefaults\": {\"line\": {\"color\": \"#2a3f5f\"}}, \"ternary\": {\"aaxis\": {\"gridcolor\": \"#DFE8F3\", \"linecolor\": \"#A2B1C6\", \"ticks\": \"\"}, \"baxis\": {\"gridcolor\": \"#DFE8F3\", \"linecolor\": \"#A2B1C6\", \"ticks\": \"\"}, \"bgcolor\": \"white\", \"caxis\": {\"gridcolor\": \"#DFE8F3\", \"linecolor\": \"#A2B1C6\", \"ticks\": \"\"}}, \"title\": {\"x\": 0.05}, \"xaxis\": {\"automargin\": true, \"gridcolor\": \"#EBF0F8\", \"linecolor\": \"#EBF0F8\", \"ticks\": \"\", \"title\": {\"standoff\": 15}, \"zerolinecolor\": \"#EBF0F8\", \"zerolinewidth\": 2}, \"yaxis\": {\"automargin\": true, \"gridcolor\": \"#EBF0F8\", \"linecolor\": \"#EBF0F8\", \"ticks\": \"\", \"title\": {\"standoff\": 15}, \"zerolinecolor\": \"#EBF0F8\", \"zerolinewidth\": 2}}}, \"title\": {\"text\": \"Validity Test - Pre-determined Variables\"}, \"xaxis\": {\"anchor\": \"y\", \"domain\": [0.0, 1.0], \"title\": {\"text\": \"Democrat's margin of victory at time t\"}}, \"yaxis\": {\"anchor\": \"x\", \"domain\": [0.0, 1.0], \"title\": {\"text\": \"dem_win_m1\"}}},                        {\"responsive\": true}                    ).then(function(){\n",
       "                            \n",
       "var gd = document.getElementById('7d0457d3-7216-479e-b810-0704dc5f8990');\n",
       "var x = new MutationObserver(function (mutations, observer) {{\n",
       "        var display = window.getComputedStyle(gd).display;\n",
       "        if (!display || display === 'none') {{\n",
       "            console.log([gd, 'removed!']);\n",
       "            Plotly.purge(gd);\n",
       "            observer.disconnect();\n",
       "        }}\n",
       "}});\n",
       "\n",
       "// Listen for the removal of the full notebook cells\n",
       "var notebookContainer = gd.closest('#notebook-container');\n",
       "if (notebookContainer) {{\n",
       "    x.observe(notebookContainer, {childList: true});\n",
       "}}\n",
       "\n",
       "// Listen for the clearing of the current output cell\n",
       "var outputEl = gd.closest('.output');\n",
       "if (outputEl) {{\n",
       "    x.observe(outputEl, {childList: true});\n",
       "}}\n",
       "\n",
       "                        })                };                });            </script>        </div>"
      ]
     },
     "metadata": {},
     "output_type": "display_data"
    }
   ],
   "source": [
    "# Now test if other covariates smooth through cut point\n",
    "px.scatter(binned_data, x='margin', y='dem_win_m1',\n",
    "           title='Validity Test - Pre-determined Variables',\n",
    "           labels={'margin':\"Democrat's margin of victory at time t\",\n",
    "                   'dem_win_p1': \"Democrat's margin of victory at time t-1\"},\n",
    "           template=\"plotly_white\")"
   ]
  },
  {
   "cell_type": "markdown",
   "metadata": {},
   "source": [
    "### The rdd Package\n",
    "\n",
    "For RDD in Python, on might consider the [`rdd` package](https://pypi.org/project/rdd/).  It supports a number of fucntions useful for RDD estimators, such as computing optimal bandwith (Imbens and Kalyanaraman (2012)).\n",
    "\n",
    "As an example, let's use the `rdd` package to find the RD estimate of the incumbency advantage on our full data:"
   ]
  },
  {
   "cell_type": "code",
   "execution_count": 35,
   "metadata": {},
   "outputs": [
    {
     "name": "stdout",
     "output_type": "stream",
     "text": [
      "Estimation Equation:\t dem_win_p1 ~ TREATED + margin\n",
      "                            WLS Regression Results                            \n",
      "==============================================================================\n",
      "Dep. Variable:             dem_win_p1   R-squared:                       0.403\n",
      "Model:                            WLS   Adj. R-squared:                  0.403\n",
      "Method:                 Least Squares   F-statistic:                     1088.\n",
      "Date:                Thu, 07 Oct 2021   Prob (F-statistic):               0.00\n",
      "Time:                        22:32:21   Log-Likelihood:                -1507.2\n",
      "No. Observations:                3226   AIC:                             3020.\n",
      "Df Residuals:                    3223   BIC:                             3039.\n",
      "Df Model:                           2                                         \n",
      "Covariance Type:            nonrobust                                         \n",
      "==============================================================================\n",
      "                 coef    std err          t      P>|t|      [0.025      0.975]\n",
      "------------------------------------------------------------------------------\n",
      "Intercept      0.3437      0.016     22.104      0.000       0.313       0.374\n",
      "TREATED        0.3176      0.027     11.744      0.000       0.265       0.371\n",
      "margin         0.0144      0.001     12.575      0.000       0.012       0.017\n",
      "==============================================================================\n",
      "Omnibus:                       21.915   Durbin-Watson:                   1.667\n",
      "Prob(Omnibus):                  0.000   Jarque-Bera (JB):               26.080\n",
      "Skew:                           0.129   Prob(JB):                     2.17e-06\n",
      "Kurtosis:                       3.357   Cond. No.                         53.3\n",
      "==============================================================================\n",
      "\n",
      "Notes:\n",
      "[1] Standard Errors assume that the covariance matrix of the errors is correctly specified.\n"
     ]
    }
   ],
   "source": [
    "# find IK optimal bandwidth\n",
    "bandwidth_opt = rdd.optimal_bandwidth(rd_wide['dem_win_p1'], rd_wide['margin'], cut=0)\n",
    "# do restrict data to within opt bandwith -- seems too small here\n",
    "# use bandwidth of 20\n",
    "data_rdd = rdd.truncated_data(rd_wide, 'margin', 20, cut=0)\n",
    "# estimate model\n",
    "# In way written, using local linear regression\n",
    "model = rdd.rdd(data_rdd, 'margin', 'dem_win_p1', cut=0)\n",
    "print(model.fit().summary())"
   ]
  },
  {
   "cell_type": "code",
   "execution_count": 36,
   "metadata": {},
   "outputs": [
    {
     "name": "stdout",
     "output_type": "stream",
     "text": [
      "Optimal bandwidth =  2.5209883840880702\n"
     ]
    }
   ],
   "source": [
    "print('Optimal bandwidth = ', bandwidth_opt)"
   ]
  },
  {
   "cell_type": "markdown",
   "metadata": {},
   "source": [
    "### Summary\n",
    "\n",
    "Lee (2008) finds incumbency advantage of 7-8% of vote share (if party won last time, this is effect), which translates to 35\\% increase in prob winning.  We find effects of similar magnitude with these data - about 4-5% and 40%, repsectively.  Of course a weakness of the design (and any non-structural approach) is that it doesn't tell us anything about what drives incumbency advantage.\n",
    "\n",
    "Also, recall that one of the main points of this paper is that RD is value even if the running variable can be endogenous - as long as it can not be perfectly chosen.  The means we can use RDD not just with elections, but also things like thresholds for test scores, etc.\n"
   ]
  }
 ],
 "metadata": {
  "kernelspec": {
   "display_name": "Python 3 (ipykernel)",
   "language": "python",
   "name": "python3"
  },
  "language_info": {
   "codemirror_mode": {
    "name": "ipython",
    "version": 3
   },
   "file_extension": ".py",
   "mimetype": "text/x-python",
   "name": "python",
   "nbconvert_exporter": "python",
   "pygments_lexer": "ipython3",
   "version": "3.7.11"
  }
 },
 "nbformat": 4,
 "nbformat_minor": 2
}
